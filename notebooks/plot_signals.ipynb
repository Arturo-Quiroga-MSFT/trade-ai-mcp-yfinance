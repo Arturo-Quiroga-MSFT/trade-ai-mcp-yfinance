{
 "cells": [
  {
   "cell_type": "code",
   "execution_count": 1,
   "id": "c65ad85a",
   "metadata": {},
   "outputs": [
    {
     "name": "stdout",
     "output_type": "stream",
     "text": [
      "Requirement already satisfied: pandas>=2.0.0 in /Users/arturoquiroga/GITHUB/TRADE-AI/.venv/lib/python3.13/site-packages (2.3.2)\n",
      "Requirement already satisfied: numpy in /Users/arturoquiroga/GITHUB/TRADE-AI/.venv/lib/python3.13/site-packages (2.3.2)\n",
      "Requirement already satisfied: plotly in /Users/arturoquiroga/GITHUB/TRADE-AI/.venv/lib/python3.13/site-packages (6.3.0)\n",
      "Requirement already satisfied: nbformat>=5.2.0 in /Users/arturoquiroga/GITHUB/TRADE-AI/.venv/lib/python3.13/site-packages (5.10.4)\n",
      "Requirement already satisfied: ipython in /Users/arturoquiroga/GITHUB/TRADE-AI/.venv/lib/python3.13/site-packages (9.4.0)\n",
      "Requirement already satisfied: python-dateutil>=2.8.2 in /Users/arturoquiroga/GITHUB/TRADE-AI/.venv/lib/python3.13/site-packages (from pandas>=2.0.0) (2.9.0.post0)\n",
      "Requirement already satisfied: pytz>=2020.1 in /Users/arturoquiroga/GITHUB/TRADE-AI/.venv/lib/python3.13/site-packages (from pandas>=2.0.0) (2025.2)\n",
      "Requirement already satisfied: tzdata>=2022.7 in /Users/arturoquiroga/GITHUB/TRADE-AI/.venv/lib/python3.13/site-packages (from pandas>=2.0.0) (2025.2)\n",
      "Requirement already satisfied: narwhals>=1.15.1 in /Users/arturoquiroga/GITHUB/TRADE-AI/.venv/lib/python3.13/site-packages (from plotly) (2.1.2)\n",
      "Requirement already satisfied: packaging in /Users/arturoquiroga/GITHUB/TRADE-AI/.venv/lib/python3.13/site-packages (from plotly) (25.0)\n",
      "Requirement already satisfied: fastjsonschema>=2.15 in /Users/arturoquiroga/GITHUB/TRADE-AI/.venv/lib/python3.13/site-packages (from nbformat>=5.2.0) (2.21.2)\n",
      "Requirement already satisfied: jsonschema>=2.6 in /Users/arturoquiroga/GITHUB/TRADE-AI/.venv/lib/python3.13/site-packages (from nbformat>=5.2.0) (4.25.1)\n",
      "Requirement already satisfied: jupyter-core!=5.0.*,>=4.12 in /Users/arturoquiroga/GITHUB/TRADE-AI/.venv/lib/python3.13/site-packages (from nbformat>=5.2.0) (5.8.1)\n",
      "Requirement already satisfied: traitlets>=5.1 in /Users/arturoquiroga/GITHUB/TRADE-AI/.venv/lib/python3.13/site-packages (from nbformat>=5.2.0) (5.14.3)\n",
      "Requirement already satisfied: decorator in /Users/arturoquiroga/GITHUB/TRADE-AI/.venv/lib/python3.13/site-packages (from ipython) (5.2.1)\n",
      "Requirement already satisfied: ipython-pygments-lexers in /Users/arturoquiroga/GITHUB/TRADE-AI/.venv/lib/python3.13/site-packages (from ipython) (1.1.1)\n",
      "Requirement already satisfied: jedi>=0.16 in /Users/arturoquiroga/GITHUB/TRADE-AI/.venv/lib/python3.13/site-packages (from ipython) (0.19.2)\n",
      "Requirement already satisfied: matplotlib-inline in /Users/arturoquiroga/GITHUB/TRADE-AI/.venv/lib/python3.13/site-packages (from ipython) (0.1.7)\n",
      "Requirement already satisfied: pexpect>4.3 in /Users/arturoquiroga/GITHUB/TRADE-AI/.venv/lib/python3.13/site-packages (from ipython) (4.9.0)\n",
      "Requirement already satisfied: prompt_toolkit<3.1.0,>=3.0.41 in /Users/arturoquiroga/GITHUB/TRADE-AI/.venv/lib/python3.13/site-packages (from ipython) (3.0.51)\n",
      "Requirement already satisfied: pygments>=2.4.0 in /Users/arturoquiroga/GITHUB/TRADE-AI/.venv/lib/python3.13/site-packages (from ipython) (2.19.2)\n",
      "Requirement already satisfied: stack_data in /Users/arturoquiroga/GITHUB/TRADE-AI/.venv/lib/python3.13/site-packages (from ipython) (0.6.3)\n",
      "Requirement already satisfied: wcwidth in /Users/arturoquiroga/GITHUB/TRADE-AI/.venv/lib/python3.13/site-packages (from prompt_toolkit<3.1.0,>=3.0.41->ipython) (0.2.13)\n",
      "Requirement already satisfied: parso<0.9.0,>=0.8.4 in /Users/arturoquiroga/GITHUB/TRADE-AI/.venv/lib/python3.13/site-packages (from jedi>=0.16->ipython) (0.8.5)\n",
      "Requirement already satisfied: attrs>=22.2.0 in /Users/arturoquiroga/GITHUB/TRADE-AI/.venv/lib/python3.13/site-packages (from jsonschema>=2.6->nbformat>=5.2.0) (23.2.0)\n",
      "Requirement already satisfied: jsonschema-specifications>=2023.03.6 in /Users/arturoquiroga/GITHUB/TRADE-AI/.venv/lib/python3.13/site-packages (from jsonschema>=2.6->nbformat>=5.2.0) (2025.4.1)\n",
      "Requirement already satisfied: referencing>=0.28.4 in /Users/arturoquiroga/GITHUB/TRADE-AI/.venv/lib/python3.13/site-packages (from jsonschema>=2.6->nbformat>=5.2.0) (0.36.2)\n",
      "Requirement already satisfied: rpds-py>=0.7.1 in /Users/arturoquiroga/GITHUB/TRADE-AI/.venv/lib/python3.13/site-packages (from jsonschema>=2.6->nbformat>=5.2.0) (0.27.0)\n",
      "Requirement already satisfied: platformdirs>=2.5 in /Users/arturoquiroga/GITHUB/TRADE-AI/.venv/lib/python3.13/site-packages (from jupyter-core!=5.0.*,>=4.12->nbformat>=5.2.0) (4.3.8)\n",
      "Requirement already satisfied: ptyprocess>=0.5 in /Users/arturoquiroga/GITHUB/TRADE-AI/.venv/lib/python3.13/site-packages (from pexpect>4.3->ipython) (0.7.0)\n",
      "Requirement already satisfied: six>=1.5 in /Users/arturoquiroga/GITHUB/TRADE-AI/.venv/lib/python3.13/site-packages (from python-dateutil>=2.8.2->pandas>=2.0.0) (1.17.0)\n",
      "Requirement already satisfied: executing>=1.2.0 in /Users/arturoquiroga/GITHUB/TRADE-AI/.venv/lib/python3.13/site-packages (from stack_data->ipython) (2.2.0)\n",
      "Requirement already satisfied: asttokens>=2.1.0 in /Users/arturoquiroga/GITHUB/TRADE-AI/.venv/lib/python3.13/site-packages (from stack_data->ipython) (3.0.0)\n",
      "Requirement already satisfied: pure-eval in /Users/arturoquiroga/GITHUB/TRADE-AI/.venv/lib/python3.13/site-packages (from stack_data->ipython) (0.2.3)\n",
      "pandas 2.3.2 | numpy 2.3.2 | plotly 6.3.0\n"
     ]
    }
   ],
   "source": [
    "# Install dependencies (pandas, numpy, plotly, nbformat, ipython)\n",
    "import sys, subprocess\n",
    "pkgs = ['pandas>=2.0.0', 'numpy', 'plotly', 'nbformat>=5.2.0', 'ipython']\n",
    "subprocess.check_call([sys.executable, '-m', 'pip', 'install', *pkgs])\n",
    "import pandas as pd, numpy as np, plotly\n",
    "print('pandas', pd.__version__, '| numpy', np.__version__, '| plotly', plotly.__version__)"
   ]
  },
  {
   "cell_type": "markdown",
   "id": "cc86a335",
   "metadata": {},
   "source": [
    "# Price + Indicators (SMA/EMA) and RSI\n",
    "\n",
    "This notebook loads CSVs generated by `scripts/mcp_yfinance_dump.py` from the `data/` folder and plots:\n",
    "- Close price with SMA/EMA overlays\n",
    "- RSI(14) on a second panel\n",
    "\n",
    "Notes:\n",
    "- If the history CSV doesn't include a date column, we use the row index as X-axis.\n",
    "- If `*_features.csv` is missing, we compute the same features inline.\n",
    "- If dividends CSV has a date column that aligns with history, we'll plot dividend markers."
   ]
  },
  {
   "cell_type": "code",
   "execution_count": 2,
   "id": "6f047045",
   "metadata": {},
   "outputs": [
    {
     "name": "stdout",
     "output_type": "stream",
     "text": [
      "Plotly renderer: vscode\n"
     ]
    }
   ],
   "source": [
    "# Imports and plotly renderer fallback\n",
    "import sys, subprocess, os\n",
    "try:\n",
    "    import plotly\n",
    "except Exception:\n",
    "    subprocess.check_call([sys.executable, '-m', 'pip', 'install', 'plotly'])\n",
    "\n",
    "import pandas as pd\n",
    "import numpy as np\n",
    "import plotly.graph_objects as go\n",
    "from plotly.subplots import make_subplots\n",
    "import plotly.io as pio\n",
    "\n",
    "# Choose the safest renderer for VS Code/Jupyter\n",
    "def _choose_plotly_renderer():\n",
    "    # 1) Prefer VS Code renderer when running inside VS Code\n",
    "    try:\n",
    "        if ('VSCODE_PID' in os.environ or 'VSCODE_CWD' in os.environ) and 'vscode' in pio.renderers:\n",
    "            pio.renderers.default = 'vscode'\n",
    "            return\n",
    "    except Exception:\n",
    "        pass\n",
    "    # 2) If nbformat is available, use inline notebook rendering\n",
    "    try:\n",
    "        import nbformat as _nb  # noqa: F401\n",
    "        pio.renderers.default = 'notebook_connected'\n",
    "        return\n",
    "    except Exception:\n",
    "        pass\n",
    "    # 3) Otherwise, fall back to an iframe or browser\n",
    "    try:\n",
    "        if 'iframe_connected' in pio.renderers:\n",
    "            pio.renderers.default = 'iframe_connected'\n",
    "            return\n",
    "    except Exception:\n",
    "        pass\n",
    "    pio.renderers.default = 'browser'\n",
    "\n",
    "_choose_plotly_renderer()\n",
    "print(f\"Plotly renderer: {pio.renderers.default}\")"
   ]
  },
  {
   "cell_type": "code",
   "execution_count": 3,
   "id": "1f19a3d3",
   "metadata": {},
   "outputs": [],
   "source": [
    "# Parameters\n",
    "DATA_DIR = '/Users/arturoquiroga/GITHUB/TRADE-AI/data'\n",
    "SYMBOL = 'TSLA'  # change to 'MSFT' to view Microsoft, or 'AAPL' for Apple, or 'TSLA' for Tesla"
   ]
  },
  {
   "cell_type": "code",
   "execution_count": 4,
   "id": "29948303",
   "metadata": {},
   "outputs": [],
   "source": [
    "# Helpers: load CSVs, ensure a usable X axis, compute indicators if needed\n",
    "from pandas.errors import EmptyDataError\n",
    "def load_history(symbol: str, base_dir: str = DATA_DIR) -> pd.DataFrame:\n",
    "    path = os.path.join(base_dir, f'{symbol}_history.csv')\n",
    "    if not os.path.exists(path):\n",
    "        raise FileNotFoundError(f'Missing history CSV: {path}')\n",
    "    try:\n",
    "        if os.path.getsize(path) == 0:\n",
    "            print(f'Warning: history CSV is empty: {path}')\n",
    "            return pd.DataFrame()\n",
    "    except OSError:\n",
    "        pass\n",
    "    try:\n",
    "        df = pd.read_csv(path)\n",
    "    except EmptyDataError:\n",
    "        print(f'Warning: history CSV contains no parseable data: {path}')\n",
    "        return pd.DataFrame()\n",
    "    # Try to find a date-like column\n",
    "    date_col = None\n",
    "    for c in df.columns:\n",
    "        cl = str(c).lower()\n",
    "        if 'date' in cl or 'time' in cl:\n",
    "            date_col = c\n",
    "            break\n",
    "    if date_col:\n",
    "        df[date_col] = pd.to_datetime(df[date_col], errors='coerce', utc=True)\n",
    "        df = df.dropna(subset=[date_col])\n",
    "        df = df.sort_values(by=date_col).reset_index(drop=True)\n",
    "        df = df.set_index(date_col)\n",
    "    else:\n",
    "        # Use integer index when no date is present\n",
    "        df.index.name = 'index'\n",
    "    return df\n",
    "\n",
    "def compute_indicators(df: pd.DataFrame) -> pd.DataFrame:\n",
    "    out = df.copy()\n",
    "    # Locate a close price column\n",
    "    close_col = None\n",
    "    for c in out.columns:\n",
    "        cl = str(c).lower()\n",
    "        if cl in ('close', 'adj close', 'adj_close', 'adjclose'):\n",
    "            close_col = c\n",
    "            break\n",
    "    if close_col is None:\n",
    "        return out\n",
    "    price = pd.to_numeric(out[close_col], errors='coerce')\n",
    "    out['sma_10'] = price.rolling(window=10, min_periods=1).mean()\n",
    "    out['sma_20'] = price.rolling(window=20, min_periods=1).mean()\n",
    "    out['sma_50'] = price.rolling(window=50, min_periods=1).mean()\n",
    "    out['ema_12'] = price.ewm(span=12, adjust=False, min_periods=1).mean()\n",
    "    out['ema_26'] = price.ewm(span=26, adjust=False, min_periods=1).mean()\n",
    "    # RSI(14)\n",
    "    delta = price.diff()\n",
    "    gain = delta.clip(lower=0)\n",
    "    loss = -delta.clip(upper=0)\n",
    "    avg_gain = gain.rolling(window=14, min_periods=14).mean()\n",
    "    avg_loss = loss.rolling(window=14, min_periods=14).mean()\n",
    "    rs = avg_gain / avg_loss.replace(0, np.nan)\n",
    "    out['rsi_14'] = 100 - (100 / (1 + rs))\n",
    "    return out\n",
    "\n",
    "def load_features(symbol: str, base_dir: str = DATA_DIR) -> pd.DataFrame:\n",
    "    path = os.path.join(base_dir, f'{symbol}_features.csv')\n",
    "    if not os.path.exists(path):\n",
    "        return pd.DataFrame()\n",
    "    try:\n",
    "        if os.path.getsize(path) == 0:\n",
    "            print(f'Warning: features CSV is empty: {path}')\n",
    "            return pd.DataFrame()\n",
    "    except OSError:\n",
    "        pass\n",
    "    try:\n",
    "        df = pd.read_csv(path)\n",
    "    except EmptyDataError:\n",
    "        print(f'Warning: features CSV contains no parseable data: {path}')\n",
    "        return pd.DataFrame()\n",
    "    # If features has a date-like column, align on it\n",
    "    for c in df.columns:\n",
    "        if 'date' in str(c).lower():\n",
    "            df[c] = pd.to_datetime(df[c], errors='coerce', utc=True)\n",
    "            df = df.dropna(subset=[c]).sort_values(by=c).reset_index(drop=True).set_index(c)\n",
    "            return df\n",
    "    df.index.name = 'index'\n",
    "    return df\n",
    "\n",
    "def load_dividends(symbol: str, base_dir: str = DATA_DIR) -> pd.DataFrame:\n",
    "    path = os.path.join(base_dir, f'{symbol}_dividends.csv')\n",
    "    if not os.path.exists(path):\n",
    "        return pd.DataFrame()\n",
    "    try:\n",
    "        if os.path.getsize(path) == 0:\n",
    "            print(f'Warning: dividends CSV is empty: {path}')\n",
    "            return pd.DataFrame()\n",
    "    except OSError:\n",
    "        pass\n",
    "    try:\n",
    "        df = pd.read_csv(path)\n",
    "    except EmptyDataError:\n",
    "        print(f'Warning: dividends CSV contains no parseable data: {path}')\n",
    "        return pd.DataFrame()\n",
    "    # Expect columns like ['date', 'dividend']\n",
    "    date_col = None\n",
    "    for c in df.columns:\n",
    "        if 'date' in str(c).lower():\n",
    "            date_col = c\n",
    "            break\n",
    "    if date_col:\n",
    "        df[date_col] = pd.to_datetime(df[date_col], errors='coerce', utc=True)\n",
    "        df = df.dropna(subset=[date_col]).sort_values(by=date_col).reset_index(drop=True).set_index(date_col)\n",
    "    else:\n",
    "        df.index.name = 'index'\n",
    "    return df"
   ]
  },
  {
   "cell_type": "code",
   "execution_count": 5,
   "id": "13843365",
   "metadata": {},
   "outputs": [
    {
     "name": "stdout",
     "output_type": "stream",
     "text": [
      "Warning: dividends CSV contains no parseable data: /Users/arturoquiroga/GITHUB/TRADE-AI/data/TSLA_dividends.csv\n"
     ]
    },
    {
     "data": {
      "application/vnd.microsoft.datawrangler.viewer.v0+json": {
       "columns": [
        {
         "name": "index",
         "rawType": "int64",
         "type": "integer"
        },
        {
         "name": "Open",
         "rawType": "float64",
         "type": "float"
        },
        {
         "name": "High",
         "rawType": "float64",
         "type": "float"
        },
        {
         "name": "Low",
         "rawType": "float64",
         "type": "float"
        },
        {
         "name": "Close",
         "rawType": "float64",
         "type": "float"
        },
        {
         "name": "Volume",
         "rawType": "int64",
         "type": "integer"
        },
        {
         "name": "Dividends",
         "rawType": "float64",
         "type": "float"
        },
        {
         "name": "Stock Splits",
         "rawType": "float64",
         "type": "float"
        },
        {
         "name": "sma_10",
         "rawType": "float64",
         "type": "float"
        },
        {
         "name": "sma_20",
         "rawType": "float64",
         "type": "float"
        },
        {
         "name": "sma_50",
         "rawType": "float64",
         "type": "float"
        },
        {
         "name": "ema_12",
         "rawType": "float64",
         "type": "float"
        },
        {
         "name": "ema_26",
         "rawType": "float64",
         "type": "float"
        },
        {
         "name": "rsi_14",
         "rawType": "float64",
         "type": "float"
        }
       ],
       "ref": "25abd3a4-5dda-4f7a-86fc-5a9f46d17fab",
       "rows": [
        [
         "0",
         "214.4600067138672",
         "221.47999572753903",
         "214.2100067138672",
         "220.32000732421875",
         "81525200",
         "0.0",
         "0.0",
         "220.32000732421875",
         "220.32000732421875",
         "220.32000732421875",
         "220.32000732421875",
         "220.32000732421875",
         null
        ],
        [
         "1",
         "218.75",
         "219.08999633789065",
         "211.0099945068359",
         "213.2100067138672",
         "59301200",
         "0.0",
         "0.0",
         "216.76500701904297",
         "216.76500701904297",
         "216.76500701904297",
         "219.22616107647235",
         "219.79334061234087",
         null
        ],
        [
         "2",
         "213.25",
         "215.66000366210935",
         "206.94000244140625",
         "209.2100067138672",
         "62821400",
         "0.0",
         "0.0",
         "214.2466735839844",
         "214.2466735839844",
         "214.2466735839844",
         "217.6852142514562",
         "219.00938995319467",
         null
        ],
        [
         "3",
         "209.72000122070312",
         "211.83999633789065",
         "202.58999633789065",
         "205.75",
         "64116400",
         "0.0",
         "0.0",
         "212.12250518798828",
         "212.12250518798828",
         "212.12250518798828",
         "215.84902744353985",
         "218.0272129196247",
         null
        ],
        [
         "4",
         "209.8000030517578",
         "214.88999938964844",
         "205.97000122070312",
         "206.27999877929688",
         "62308800",
         "0.0",
         "0.0",
         "210.95400390625",
         "210.95400390625",
         "210.95400390625",
         "214.37686918750248",
         "217.15704890923004",
         null
        ]
       ],
       "shape": {
        "columns": 13,
        "rows": 5
       }
      },
      "text/html": [
       "<div>\n",
       "<style scoped>\n",
       "    .dataframe tbody tr th:only-of-type {\n",
       "        vertical-align: middle;\n",
       "    }\n",
       "\n",
       "    .dataframe tbody tr th {\n",
       "        vertical-align: top;\n",
       "    }\n",
       "\n",
       "    .dataframe thead th {\n",
       "        text-align: right;\n",
       "    }\n",
       "</style>\n",
       "<table border=\"1\" class=\"dataframe\">\n",
       "  <thead>\n",
       "    <tr style=\"text-align: right;\">\n",
       "      <th></th>\n",
       "      <th>Open</th>\n",
       "      <th>High</th>\n",
       "      <th>Low</th>\n",
       "      <th>Close</th>\n",
       "      <th>Volume</th>\n",
       "      <th>Dividends</th>\n",
       "      <th>Stock Splits</th>\n",
       "      <th>sma_10</th>\n",
       "      <th>sma_20</th>\n",
       "      <th>sma_50</th>\n",
       "      <th>ema_12</th>\n",
       "      <th>ema_26</th>\n",
       "      <th>rsi_14</th>\n",
       "    </tr>\n",
       "    <tr>\n",
       "      <th>index</th>\n",
       "      <th></th>\n",
       "      <th></th>\n",
       "      <th></th>\n",
       "      <th></th>\n",
       "      <th></th>\n",
       "      <th></th>\n",
       "      <th></th>\n",
       "      <th></th>\n",
       "      <th></th>\n",
       "      <th></th>\n",
       "      <th></th>\n",
       "      <th></th>\n",
       "      <th></th>\n",
       "    </tr>\n",
       "  </thead>\n",
       "  <tbody>\n",
       "    <tr>\n",
       "      <th>0</th>\n",
       "      <td>214.460007</td>\n",
       "      <td>221.479996</td>\n",
       "      <td>214.210007</td>\n",
       "      <td>220.320007</td>\n",
       "      <td>81525200</td>\n",
       "      <td>0.0</td>\n",
       "      <td>0.0</td>\n",
       "      <td>220.320007</td>\n",
       "      <td>220.320007</td>\n",
       "      <td>220.320007</td>\n",
       "      <td>220.320007</td>\n",
       "      <td>220.320007</td>\n",
       "      <td>NaN</td>\n",
       "    </tr>\n",
       "    <tr>\n",
       "      <th>1</th>\n",
       "      <td>218.750000</td>\n",
       "      <td>219.089996</td>\n",
       "      <td>211.009995</td>\n",
       "      <td>213.210007</td>\n",
       "      <td>59301200</td>\n",
       "      <td>0.0</td>\n",
       "      <td>0.0</td>\n",
       "      <td>216.765007</td>\n",
       "      <td>216.765007</td>\n",
       "      <td>216.765007</td>\n",
       "      <td>219.226161</td>\n",
       "      <td>219.793341</td>\n",
       "      <td>NaN</td>\n",
       "    </tr>\n",
       "    <tr>\n",
       "      <th>2</th>\n",
       "      <td>213.250000</td>\n",
       "      <td>215.660004</td>\n",
       "      <td>206.940002</td>\n",
       "      <td>209.210007</td>\n",
       "      <td>62821400</td>\n",
       "      <td>0.0</td>\n",
       "      <td>0.0</td>\n",
       "      <td>214.246674</td>\n",
       "      <td>214.246674</td>\n",
       "      <td>214.246674</td>\n",
       "      <td>217.685214</td>\n",
       "      <td>219.009390</td>\n",
       "      <td>NaN</td>\n",
       "    </tr>\n",
       "    <tr>\n",
       "      <th>3</th>\n",
       "      <td>209.720001</td>\n",
       "      <td>211.839996</td>\n",
       "      <td>202.589996</td>\n",
       "      <td>205.750000</td>\n",
       "      <td>64116400</td>\n",
       "      <td>0.0</td>\n",
       "      <td>0.0</td>\n",
       "      <td>212.122505</td>\n",
       "      <td>212.122505</td>\n",
       "      <td>212.122505</td>\n",
       "      <td>215.849027</td>\n",
       "      <td>218.027213</td>\n",
       "      <td>NaN</td>\n",
       "    </tr>\n",
       "    <tr>\n",
       "      <th>4</th>\n",
       "      <td>209.800003</td>\n",
       "      <td>214.889999</td>\n",
       "      <td>205.970001</td>\n",
       "      <td>206.279999</td>\n",
       "      <td>62308800</td>\n",
       "      <td>0.0</td>\n",
       "      <td>0.0</td>\n",
       "      <td>210.954004</td>\n",
       "      <td>210.954004</td>\n",
       "      <td>210.954004</td>\n",
       "      <td>214.376869</td>\n",
       "      <td>217.157049</td>\n",
       "      <td>NaN</td>\n",
       "    </tr>\n",
       "  </tbody>\n",
       "</table>\n",
       "</div>"
      ],
      "text/plain": [
       "             Open        High         Low       Close    Volume  Dividends  \\\n",
       "index                                                                        \n",
       "0      214.460007  221.479996  214.210007  220.320007  81525200        0.0   \n",
       "1      218.750000  219.089996  211.009995  213.210007  59301200        0.0   \n",
       "2      213.250000  215.660004  206.940002  209.210007  62821400        0.0   \n",
       "3      209.720001  211.839996  202.589996  205.750000  64116400        0.0   \n",
       "4      209.800003  214.889999  205.970001  206.279999  62308800        0.0   \n",
       "\n",
       "       Stock Splits      sma_10      sma_20      sma_50      ema_12  \\\n",
       "index                                                                 \n",
       "0               0.0  220.320007  220.320007  220.320007  220.320007   \n",
       "1               0.0  216.765007  216.765007  216.765007  219.226161   \n",
       "2               0.0  214.246674  214.246674  214.246674  217.685214   \n",
       "3               0.0  212.122505  212.122505  212.122505  215.849027   \n",
       "4               0.0  210.954004  210.954004  210.954004  214.376869   \n",
       "\n",
       "           ema_26  rsi_14  \n",
       "index                      \n",
       "0      220.320007     NaN  \n",
       "1      219.793341     NaN  \n",
       "2      219.009390     NaN  \n",
       "3      218.027213     NaN  \n",
       "4      217.157049     NaN  "
      ]
     },
     "execution_count": 5,
     "metadata": {},
     "output_type": "execute_result"
    }
   ],
   "source": [
    "# Load data\n",
    "hist = load_history(SYMBOL)\n",
    "feat = load_features(SYMBOL)\n",
    "if feat.empty:\n",
    "    feat = compute_indicators(hist)\n",
    "divs = load_dividends(SYMBOL)\n",
    "\n",
    "# Merge features into history on index\n",
    "df = hist.join(feat[[c for c in feat.columns if c not in hist.columns]], how='left')\n",
    "df.head()"
   ]
  },
  {
   "cell_type": "code",
   "execution_count": 6,
   "id": "6bf14353",
   "metadata": {},
   "outputs": [
    {
     "data": {
      "application/vnd.plotly.v1+json": {
       "config": {
        "plotlyServerURL": "https://plot.ly"
       },
       "data": [
        {
         "line": {
          "color": "#1f77b4"
         },
         "name": "Close",
         "type": "scatter",
         "x": {
          "bdata": "AAABAAIAAwAEAAUABgAHAAgACQAKAAsADAANAA4ADwAQABEAEgATABQAFQAWABcAGAAZABoAGwAcAB0AHgAfACAAIQAiACMAJAAlACYAJwAoACkAKgArACwALQAuAC8AMAAxADIAMwA0ADUANgA3ADgAOQA6ADsAPAA9AD4APwBAAEEAQgBDAEQARQBGAEcASABJAEoASwBMAE0ATgBPAFAAUQBSAFMAVABVAFYAVwBYAFkAWgBbAFwAXQBeAF8AYABhAGIAYwBkAGUAZgBnAGgAaQBqAGsAbABtAG4AbwBwAHEAcgBzAHQAdQB2AHcAeAB5AHoAewB8AH0AfgB/AIAAgQCCAIMAhACFAIYAhwCIAIkAigCLAIwAjQCOAI8AkACRAJIAkwCUAJUAlgCXAJgAmQCaAJsAnACdAJ4AnwCgAKEAogCjAKQApQCmAKcAqACpAKoAqwCsAK0ArgCvALAAsQCyALMAtAC1ALYAtwC4ALkAugC7ALwAvQC+AL8AwADBAMIAwwDEAMUAxgDHAMgAyQDKAMsAzADNAM4AzwDQANEA0gDTANQA1QDWANcA2ADZANoA2wDcAN0A3gDfAOAA4QDiAOMA5ADlAOYA5wDoAOkA6gDrAOwA7QDuAO8A8ADxAPIA8wD0APUA9gD3APgA+QA=",
          "dtype": "i2"
         },
         "xaxis": "x",
         "y": {
          "bdata": "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",
          "dtype": "f8"
         },
         "yaxis": "y"
        },
        {
         "line": {
          "width": 1
         },
         "name": "SMA_10",
         "type": "scatter",
         "x": {
          "bdata": "AAABAAIAAwAEAAUABgAHAAgACQAKAAsADAANAA4ADwAQABEAEgATABQAFQAWABcAGAAZABoAGwAcAB0AHgAfACAAIQAiACMAJAAlACYAJwAoACkAKgArACwALQAuAC8AMAAxADIAMwA0ADUANgA3ADgAOQA6ADsAPAA9AD4APwBAAEEAQgBDAEQARQBGAEcASABJAEoASwBMAE0ATgBPAFAAUQBSAFMAVABVAFYAVwBYAFkAWgBbAFwAXQBeAF8AYABhAGIAYwBkAGUAZgBnAGgAaQBqAGsAbABtAG4AbwBwAHEAcgBzAHQAdQB2AHcAeAB5AHoAewB8AH0AfgB/AIAAgQCCAIMAhACFAIYAhwCIAIkAigCLAIwAjQCOAI8AkACRAJIAkwCUAJUAlgCXAJgAmQCaAJsAnACdAJ4AnwCgAKEAogCjAKQApQCmAKcAqACpAKoAqwCsAK0ArgCvALAAsQCyALMAtAC1ALYAtwC4ALkAugC7ALwAvQC+AL8AwADBAMIAwwDEAMUAxgDHAMgAyQDKAMsAzADNAM4AzwDQANEA0gDTANQA1QDWANcA2ADZANoA2wDcAN0A3gDfAOAA4QDiAOMA5ADlAOYA5wDoAOkA6gDrAOwA7QDuAO8A8ADxAPIA8wD0APUA9gD3APgA+QA=",
          "dtype": "i2"
         },
         "xaxis": "x",
         "y": {
          "bdata": "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",
          "dtype": "f8"
         },
         "yaxis": "y"
        },
        {
         "line": {
          "width": 1
         },
         "name": "SMA_20",
         "type": "scatter",
         "x": {
          "bdata": "AAABAAIAAwAEAAUABgAHAAgACQAKAAsADAANAA4ADwAQABEAEgATABQAFQAWABcAGAAZABoAGwAcAB0AHgAfACAAIQAiACMAJAAlACYAJwAoACkAKgArACwALQAuAC8AMAAxADIAMwA0ADUANgA3ADgAOQA6ADsAPAA9AD4APwBAAEEAQgBDAEQARQBGAEcASABJAEoASwBMAE0ATgBPAFAAUQBSAFMAVABVAFYAVwBYAFkAWgBbAFwAXQBeAF8AYABhAGIAYwBkAGUAZgBnAGgAaQBqAGsAbABtAG4AbwBwAHEAcgBzAHQAdQB2AHcAeAB5AHoAewB8AH0AfgB/AIAAgQCCAIMAhACFAIYAhwCIAIkAigCLAIwAjQCOAI8AkACRAJIAkwCUAJUAlgCXAJgAmQCaAJsAnACdAJ4AnwCgAKEAogCjAKQApQCmAKcAqACpAKoAqwCsAK0ArgCvALAAsQCyALMAtAC1ALYAtwC4ALkAugC7ALwAvQC+AL8AwADBAMIAwwDEAMUAxgDHAMgAyQDKAMsAzADNAM4AzwDQANEA0gDTANQA1QDWANcA2ADZANoA2wDcAN0A3gDfAOAA4QDiAOMA5ADlAOYA5wDoAOkA6gDrAOwA7QDuAO8A8ADxAPIA8wD0APUA9gD3APgA+QA=",
          "dtype": "i2"
         },
         "xaxis": "x",
         "y": {
          "bdata": "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",
          "dtype": "f8"
         },
         "yaxis": "y"
        },
        {
         "line": {
          "width": 1
         },
         "name": "SMA_50",
         "type": "scatter",
         "x": {
          "bdata": "AAABAAIAAwAEAAUABgAHAAgACQAKAAsADAANAA4ADwAQABEAEgATABQAFQAWABcAGAAZABoAGwAcAB0AHgAfACAAIQAiACMAJAAlACYAJwAoACkAKgArACwALQAuAC8AMAAxADIAMwA0ADUANgA3ADgAOQA6ADsAPAA9AD4APwBAAEEAQgBDAEQARQBGAEcASABJAEoASwBMAE0ATgBPAFAAUQBSAFMAVABVAFYAVwBYAFkAWgBbAFwAXQBeAF8AYABhAGIAYwBkAGUAZgBnAGgAaQBqAGsAbABtAG4AbwBwAHEAcgBzAHQAdQB2AHcAeAB5AHoAewB8AH0AfgB/AIAAgQCCAIMAhACFAIYAhwCIAIkAigCLAIwAjQCOAI8AkACRAJIAkwCUAJUAlgCXAJgAmQCaAJsAnACdAJ4AnwCgAKEAogCjAKQApQCmAKcAqACpAKoAqwCsAK0ArgCvALAAsQCyALMAtAC1ALYAtwC4ALkAugC7ALwAvQC+AL8AwADBAMIAwwDEAMUAxgDHAMgAyQDKAMsAzADNAM4AzwDQANEA0gDTANQA1QDWANcA2ADZANoA2wDcAN0A3gDfAOAA4QDiAOMA5ADlAOYA5wDoAOkA6gDrAOwA7QDuAO8A8ADxAPIA8wD0APUA9gD3APgA+QA=",
          "dtype": "i2"
         },
         "xaxis": "x",
         "y": {
          "bdata": "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",
          "dtype": "f8"
         },
         "yaxis": "y"
        },
        {
         "line": {
          "width": 1
         },
         "name": "EMA_12",
         "type": "scatter",
         "x": {
          "bdata": "AAABAAIAAwAEAAUABgAHAAgACQAKAAsADAANAA4ADwAQABEAEgATABQAFQAWABcAGAAZABoAGwAcAB0AHgAfACAAIQAiACMAJAAlACYAJwAoACkAKgArACwALQAuAC8AMAAxADIAMwA0ADUANgA3ADgAOQA6ADsAPAA9AD4APwBAAEEAQgBDAEQARQBGAEcASABJAEoASwBMAE0ATgBPAFAAUQBSAFMAVABVAFYAVwBYAFkAWgBbAFwAXQBeAF8AYABhAGIAYwBkAGUAZgBnAGgAaQBqAGsAbABtAG4AbwBwAHEAcgBzAHQAdQB2AHcAeAB5AHoAewB8AH0AfgB/AIAAgQCCAIMAhACFAIYAhwCIAIkAigCLAIwAjQCOAI8AkACRAJIAkwCUAJUAlgCXAJgAmQCaAJsAnACdAJ4AnwCgAKEAogCjAKQApQCmAKcAqACpAKoAqwCsAK0ArgCvALAAsQCyALMAtAC1ALYAtwC4ALkAugC7ALwAvQC+AL8AwADBAMIAwwDEAMUAxgDHAMgAyQDKAMsAzADNAM4AzwDQANEA0gDTANQA1QDWANcA2ADZANoA2wDcAN0A3gDfAOAA4QDiAOMA5ADlAOYA5wDoAOkA6gDrAOwA7QDuAO8A8ADxAPIA8wD0APUA9gD3APgA+QA=",
          "dtype": "i2"
         },
         "xaxis": "x",
         "y": {
          "bdata": "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",
          "dtype": "f8"
         },
         "yaxis": "y"
        },
        {
         "line": {
          "width": 1
         },
         "name": "EMA_26",
         "type": "scatter",
         "x": {
          "bdata": "AAABAAIAAwAEAAUABgAHAAgACQAKAAsADAANAA4ADwAQABEAEgATABQAFQAWABcAGAAZABoAGwAcAB0AHgAfACAAIQAiACMAJAAlACYAJwAoACkAKgArACwALQAuAC8AMAAxADIAMwA0ADUANgA3ADgAOQA6ADsAPAA9AD4APwBAAEEAQgBDAEQARQBGAEcASABJAEoASwBMAE0ATgBPAFAAUQBSAFMAVABVAFYAVwBYAFkAWgBbAFwAXQBeAF8AYABhAGIAYwBkAGUAZgBnAGgAaQBqAGsAbABtAG4AbwBwAHEAcgBzAHQAdQB2AHcAeAB5AHoAewB8AH0AfgB/AIAAgQCCAIMAhACFAIYAhwCIAIkAigCLAIwAjQCOAI8AkACRAJIAkwCUAJUAlgCXAJgAmQCaAJsAnACdAJ4AnwCgAKEAogCjAKQApQCmAKcAqACpAKoAqwCsAK0ArgCvALAAsQCyALMAtAC1ALYAtwC4ALkAugC7ALwAvQC+AL8AwADBAMIAwwDEAMUAxgDHAMgAyQDKAMsAzADNAM4AzwDQANEA0gDTANQA1QDWANcA2ADZANoA2wDcAN0A3gDfAOAA4QDiAOMA5ADlAOYA5wDoAOkA6gDrAOwA7QDuAO8A8ADxAPIA8wD0APUA9gD3APgA+QA=",
          "dtype": "i2"
         },
         "xaxis": "x",
         "y": {
          "bdata": "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",
          "dtype": "f8"
         },
         "yaxis": "y"
        },
        {
         "line": {
          "color": "#17becf"
         },
         "name": "RSI(14)",
         "type": "scatter",
         "x": {
          "bdata": "AAABAAIAAwAEAAUABgAHAAgACQAKAAsADAANAA4ADwAQABEAEgATABQAFQAWABcAGAAZABoAGwAcAB0AHgAfACAAIQAiACMAJAAlACYAJwAoACkAKgArACwALQAuAC8AMAAxADIAMwA0ADUANgA3ADgAOQA6ADsAPAA9AD4APwBAAEEAQgBDAEQARQBGAEcASABJAEoASwBMAE0ATgBPAFAAUQBSAFMAVABVAFYAVwBYAFkAWgBbAFwAXQBeAF8AYABhAGIAYwBkAGUAZgBnAGgAaQBqAGsAbABtAG4AbwBwAHEAcgBzAHQAdQB2AHcAeAB5AHoAewB8AH0AfgB/AIAAgQCCAIMAhACFAIYAhwCIAIkAigCLAIwAjQCOAI8AkACRAJIAkwCUAJUAlgCXAJgAmQCaAJsAnACdAJ4AnwCgAKEAogCjAKQApQCmAKcAqACpAKoAqwCsAK0ArgCvALAAsQCyALMAtAC1ALYAtwC4ALkAugC7ALwAvQC+AL8AwADBAMIAwwDEAMUAxgDHAMgAyQDKAMsAzADNAM4AzwDQANEA0gDTANQA1QDWANcA2ADZANoA2wDcAN0A3gDfAOAA4QDiAOMA5ADlAOYA5wDoAOkA6gDrAOwA7QDuAO8A8ADxAPIA8wD0APUA9gD3APgA+QA=",
          "dtype": "i2"
         },
         "xaxis": "x2",
         "y": {
          "bdata": "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",
          "dtype": "f8"
         },
         "yaxis": "y2"
        }
       ],
       "layout": {
        "height": 700,
        "legend": {
         "orientation": "h"
        },
        "shapes": [
         {
          "line": {
           "color": "red",
           "dash": "dot"
          },
          "type": "line",
          "x0": 0,
          "x1": 1,
          "xref": "x2 domain",
          "y0": 70,
          "y1": 70,
          "yref": "y2"
         },
         {
          "line": {
           "color": "green",
           "dash": "dot"
          },
          "type": "line",
          "x0": 0,
          "x1": 1,
          "xref": "x2 domain",
          "y0": 30,
          "y1": 30,
          "yref": "y2"
         }
        ],
        "template": {
         "data": {
          "bar": [
           {
            "error_x": {
             "color": "#2a3f5f"
            },
            "error_y": {
             "color": "#2a3f5f"
            },
            "marker": {
             "line": {
              "color": "#E5ECF6",
              "width": 0.5
             },
             "pattern": {
              "fillmode": "overlay",
              "size": 10,
              "solidity": 0.2
             }
            },
            "type": "bar"
           }
          ],
          "barpolar": [
           {
            "marker": {
             "line": {
              "color": "#E5ECF6",
              "width": 0.5
             },
             "pattern": {
              "fillmode": "overlay",
              "size": 10,
              "solidity": 0.2
             }
            },
            "type": "barpolar"
           }
          ],
          "carpet": [
           {
            "aaxis": {
             "endlinecolor": "#2a3f5f",
             "gridcolor": "white",
             "linecolor": "white",
             "minorgridcolor": "white",
             "startlinecolor": "#2a3f5f"
            },
            "baxis": {
             "endlinecolor": "#2a3f5f",
             "gridcolor": "white",
             "linecolor": "white",
             "minorgridcolor": "white",
             "startlinecolor": "#2a3f5f"
            },
            "type": "carpet"
           }
          ],
          "choropleth": [
           {
            "colorbar": {
             "outlinewidth": 0,
             "ticks": ""
            },
            "type": "choropleth"
           }
          ],
          "contour": [
           {
            "colorbar": {
             "outlinewidth": 0,
             "ticks": ""
            },
            "colorscale": [
             [
              0,
              "#0d0887"
             ],
             [
              0.1111111111111111,
              "#46039f"
             ],
             [
              0.2222222222222222,
              "#7201a8"
             ],
             [
              0.3333333333333333,
              "#9c179e"
             ],
             [
              0.4444444444444444,
              "#bd3786"
             ],
             [
              0.5555555555555556,
              "#d8576b"
             ],
             [
              0.6666666666666666,
              "#ed7953"
             ],
             [
              0.7777777777777778,
              "#fb9f3a"
             ],
             [
              0.8888888888888888,
              "#fdca26"
             ],
             [
              1,
              "#f0f921"
             ]
            ],
            "type": "contour"
           }
          ],
          "contourcarpet": [
           {
            "colorbar": {
             "outlinewidth": 0,
             "ticks": ""
            },
            "type": "contourcarpet"
           }
          ],
          "heatmap": [
           {
            "colorbar": {
             "outlinewidth": 0,
             "ticks": ""
            },
            "colorscale": [
             [
              0,
              "#0d0887"
             ],
             [
              0.1111111111111111,
              "#46039f"
             ],
             [
              0.2222222222222222,
              "#7201a8"
             ],
             [
              0.3333333333333333,
              "#9c179e"
             ],
             [
              0.4444444444444444,
              "#bd3786"
             ],
             [
              0.5555555555555556,
              "#d8576b"
             ],
             [
              0.6666666666666666,
              "#ed7953"
             ],
             [
              0.7777777777777778,
              "#fb9f3a"
             ],
             [
              0.8888888888888888,
              "#fdca26"
             ],
             [
              1,
              "#f0f921"
             ]
            ],
            "type": "heatmap"
           }
          ],
          "histogram": [
           {
            "marker": {
             "pattern": {
              "fillmode": "overlay",
              "size": 10,
              "solidity": 0.2
             }
            },
            "type": "histogram"
           }
          ],
          "histogram2d": [
           {
            "colorbar": {
             "outlinewidth": 0,
             "ticks": ""
            },
            "colorscale": [
             [
              0,
              "#0d0887"
             ],
             [
              0.1111111111111111,
              "#46039f"
             ],
             [
              0.2222222222222222,
              "#7201a8"
             ],
             [
              0.3333333333333333,
              "#9c179e"
             ],
             [
              0.4444444444444444,
              "#bd3786"
             ],
             [
              0.5555555555555556,
              "#d8576b"
             ],
             [
              0.6666666666666666,
              "#ed7953"
             ],
             [
              0.7777777777777778,
              "#fb9f3a"
             ],
             [
              0.8888888888888888,
              "#fdca26"
             ],
             [
              1,
              "#f0f921"
             ]
            ],
            "type": "histogram2d"
           }
          ],
          "histogram2dcontour": [
           {
            "colorbar": {
             "outlinewidth": 0,
             "ticks": ""
            },
            "colorscale": [
             [
              0,
              "#0d0887"
             ],
             [
              0.1111111111111111,
              "#46039f"
             ],
             [
              0.2222222222222222,
              "#7201a8"
             ],
             [
              0.3333333333333333,
              "#9c179e"
             ],
             [
              0.4444444444444444,
              "#bd3786"
             ],
             [
              0.5555555555555556,
              "#d8576b"
             ],
             [
              0.6666666666666666,
              "#ed7953"
             ],
             [
              0.7777777777777778,
              "#fb9f3a"
             ],
             [
              0.8888888888888888,
              "#fdca26"
             ],
             [
              1,
              "#f0f921"
             ]
            ],
            "type": "histogram2dcontour"
           }
          ],
          "mesh3d": [
           {
            "colorbar": {
             "outlinewidth": 0,
             "ticks": ""
            },
            "type": "mesh3d"
           }
          ],
          "parcoords": [
           {
            "line": {
             "colorbar": {
              "outlinewidth": 0,
              "ticks": ""
             }
            },
            "type": "parcoords"
           }
          ],
          "pie": [
           {
            "automargin": true,
            "type": "pie"
           }
          ],
          "scatter": [
           {
            "fillpattern": {
             "fillmode": "overlay",
             "size": 10,
             "solidity": 0.2
            },
            "type": "scatter"
           }
          ],
          "scatter3d": [
           {
            "line": {
             "colorbar": {
              "outlinewidth": 0,
              "ticks": ""
             }
            },
            "marker": {
             "colorbar": {
              "outlinewidth": 0,
              "ticks": ""
             }
            },
            "type": "scatter3d"
           }
          ],
          "scattercarpet": [
           {
            "marker": {
             "colorbar": {
              "outlinewidth": 0,
              "ticks": ""
             }
            },
            "type": "scattercarpet"
           }
          ],
          "scattergeo": [
           {
            "marker": {
             "colorbar": {
              "outlinewidth": 0,
              "ticks": ""
             }
            },
            "type": "scattergeo"
           }
          ],
          "scattergl": [
           {
            "marker": {
             "colorbar": {
              "outlinewidth": 0,
              "ticks": ""
             }
            },
            "type": "scattergl"
           }
          ],
          "scattermap": [
           {
            "marker": {
             "colorbar": {
              "outlinewidth": 0,
              "ticks": ""
             }
            },
            "type": "scattermap"
           }
          ],
          "scattermapbox": [
           {
            "marker": {
             "colorbar": {
              "outlinewidth": 0,
              "ticks": ""
             }
            },
            "type": "scattermapbox"
           }
          ],
          "scatterpolar": [
           {
            "marker": {
             "colorbar": {
              "outlinewidth": 0,
              "ticks": ""
             }
            },
            "type": "scatterpolar"
           }
          ],
          "scatterpolargl": [
           {
            "marker": {
             "colorbar": {
              "outlinewidth": 0,
              "ticks": ""
             }
            },
            "type": "scatterpolargl"
           }
          ],
          "scatterternary": [
           {
            "marker": {
             "colorbar": {
              "outlinewidth": 0,
              "ticks": ""
             }
            },
            "type": "scatterternary"
           }
          ],
          "surface": [
           {
            "colorbar": {
             "outlinewidth": 0,
             "ticks": ""
            },
            "colorscale": [
             [
              0,
              "#0d0887"
             ],
             [
              0.1111111111111111,
              "#46039f"
             ],
             [
              0.2222222222222222,
              "#7201a8"
             ],
             [
              0.3333333333333333,
              "#9c179e"
             ],
             [
              0.4444444444444444,
              "#bd3786"
             ],
             [
              0.5555555555555556,
              "#d8576b"
             ],
             [
              0.6666666666666666,
              "#ed7953"
             ],
             [
              0.7777777777777778,
              "#fb9f3a"
             ],
             [
              0.8888888888888888,
              "#fdca26"
             ],
             [
              1,
              "#f0f921"
             ]
            ],
            "type": "surface"
           }
          ],
          "table": [
           {
            "cells": {
             "fill": {
              "color": "#EBF0F8"
             },
             "line": {
              "color": "white"
             }
            },
            "header": {
             "fill": {
              "color": "#C8D4E3"
             },
             "line": {
              "color": "white"
             }
            },
            "type": "table"
           }
          ]
         },
         "layout": {
          "annotationdefaults": {
           "arrowcolor": "#2a3f5f",
           "arrowhead": 0,
           "arrowwidth": 1
          },
          "autotypenumbers": "strict",
          "coloraxis": {
           "colorbar": {
            "outlinewidth": 0,
            "ticks": ""
           }
          },
          "colorscale": {
           "diverging": [
            [
             0,
             "#8e0152"
            ],
            [
             0.1,
             "#c51b7d"
            ],
            [
             0.2,
             "#de77ae"
            ],
            [
             0.3,
             "#f1b6da"
            ],
            [
             0.4,
             "#fde0ef"
            ],
            [
             0.5,
             "#f7f7f7"
            ],
            [
             0.6,
             "#e6f5d0"
            ],
            [
             0.7,
             "#b8e186"
            ],
            [
             0.8,
             "#7fbc41"
            ],
            [
             0.9,
             "#4d9221"
            ],
            [
             1,
             "#276419"
            ]
           ],
           "sequential": [
            [
             0,
             "#0d0887"
            ],
            [
             0.1111111111111111,
             "#46039f"
            ],
            [
             0.2222222222222222,
             "#7201a8"
            ],
            [
             0.3333333333333333,
             "#9c179e"
            ],
            [
             0.4444444444444444,
             "#bd3786"
            ],
            [
             0.5555555555555556,
             "#d8576b"
            ],
            [
             0.6666666666666666,
             "#ed7953"
            ],
            [
             0.7777777777777778,
             "#fb9f3a"
            ],
            [
             0.8888888888888888,
             "#fdca26"
            ],
            [
             1,
             "#f0f921"
            ]
           ],
           "sequentialminus": [
            [
             0,
             "#0d0887"
            ],
            [
             0.1111111111111111,
             "#46039f"
            ],
            [
             0.2222222222222222,
             "#7201a8"
            ],
            [
             0.3333333333333333,
             "#9c179e"
            ],
            [
             0.4444444444444444,
             "#bd3786"
            ],
            [
             0.5555555555555556,
             "#d8576b"
            ],
            [
             0.6666666666666666,
             "#ed7953"
            ],
            [
             0.7777777777777778,
             "#fb9f3a"
            ],
            [
             0.8888888888888888,
             "#fdca26"
            ],
            [
             1,
             "#f0f921"
            ]
           ]
          },
          "colorway": [
           "#636efa",
           "#EF553B",
           "#00cc96",
           "#ab63fa",
           "#FFA15A",
           "#19d3f3",
           "#FF6692",
           "#B6E880",
           "#FF97FF",
           "#FECB52"
          ],
          "font": {
           "color": "#2a3f5f"
          },
          "geo": {
           "bgcolor": "white",
           "lakecolor": "white",
           "landcolor": "#E5ECF6",
           "showlakes": true,
           "showland": true,
           "subunitcolor": "white"
          },
          "hoverlabel": {
           "align": "left"
          },
          "hovermode": "closest",
          "mapbox": {
           "style": "light"
          },
          "paper_bgcolor": "white",
          "plot_bgcolor": "#E5ECF6",
          "polar": {
           "angularaxis": {
            "gridcolor": "white",
            "linecolor": "white",
            "ticks": ""
           },
           "bgcolor": "#E5ECF6",
           "radialaxis": {
            "gridcolor": "white",
            "linecolor": "white",
            "ticks": ""
           }
          },
          "scene": {
           "xaxis": {
            "backgroundcolor": "#E5ECF6",
            "gridcolor": "white",
            "gridwidth": 2,
            "linecolor": "white",
            "showbackground": true,
            "ticks": "",
            "zerolinecolor": "white"
           },
           "yaxis": {
            "backgroundcolor": "#E5ECF6",
            "gridcolor": "white",
            "gridwidth": 2,
            "linecolor": "white",
            "showbackground": true,
            "ticks": "",
            "zerolinecolor": "white"
           },
           "zaxis": {
            "backgroundcolor": "#E5ECF6",
            "gridcolor": "white",
            "gridwidth": 2,
            "linecolor": "white",
            "showbackground": true,
            "ticks": "",
            "zerolinecolor": "white"
           }
          },
          "shapedefaults": {
           "line": {
            "color": "#2a3f5f"
           }
          },
          "ternary": {
           "aaxis": {
            "gridcolor": "white",
            "linecolor": "white",
            "ticks": ""
           },
           "baxis": {
            "gridcolor": "white",
            "linecolor": "white",
            "ticks": ""
           },
           "bgcolor": "#E5ECF6",
           "caxis": {
            "gridcolor": "white",
            "linecolor": "white",
            "ticks": ""
           }
          },
          "title": {
           "x": 0.05
          },
          "xaxis": {
           "automargin": true,
           "gridcolor": "white",
           "linecolor": "white",
           "ticks": "",
           "title": {
            "standoff": 15
           },
           "zerolinecolor": "white",
           "zerolinewidth": 2
          },
          "yaxis": {
           "automargin": true,
           "gridcolor": "white",
           "linecolor": "white",
           "ticks": "",
           "title": {
            "standoff": 15
           },
           "zerolinecolor": "white",
           "zerolinewidth": 2
          }
         }
        },
        "title": {
         "text": "TSLA Price with SMA/EMA and RSI"
        },
        "xaxis": {
         "anchor": "y",
         "domain": [
          0,
          1
         ],
         "matches": "x2",
         "showticklabels": false
        },
        "xaxis2": {
         "anchor": "y2",
         "domain": [
          0,
          1
         ]
        },
        "yaxis": {
         "anchor": "x",
         "domain": [
          0.33760000000000007,
          1
         ]
        },
        "yaxis2": {
         "anchor": "x2",
         "domain": [
          0,
          0.25760000000000005
         ]
        }
       }
      }
     },
     "metadata": {},
     "output_type": "display_data"
    }
   ],
   "source": [
    "# Plot price with SMA/EMA overlays and RSI\n",
    "close_col = None\n",
    "for c in df.columns:\n",
    "    if str(c).lower() in ('close', 'adj close', 'adj_close', 'adjclose'):\n",
    "        close_col = c\n",
    "        break\n",
    "if close_col is None:\n",
    "    raise ValueError('No close-like column found in history CSV')\n",
    "\n",
    "fig = make_subplots(rows=2, cols=1, shared_xaxes=True, vertical_spacing=0.08, row_heights=[0.72, 0.28])\n",
    "\n",
    "fig.add_trace(go.Scatter(x=df.index, y=df[close_col], name='Close', line=dict(color='#1f77b4')), row=1, col=1)\n",
    "for name, color in [('sma_10', '#ff7f0e'), ('sma_20', '#2ca02c'), ('sma_50', '#d62728'), ('ema_12', '#9467bd'), ('ema_26', '#8c564b')]:\n",
    "    if name in df.columns:\n",
    "        fig.add_trace(go.Scatter(x=df.index, y=df[name], name=name.upper(), line=dict(width=1)), row=1, col=1)\n",
    "\n",
    "# RSI panel\n",
    "if 'rsi_14' in df.columns:\n",
    "    fig.add_trace(go.Scatter(x=df.index, y=df['rsi_14'], name='RSI(14)', line=dict(color='#17becf')), row=2, col=1)\n",
    "    # Overbought/oversold lines\n",
    "    fig.add_hline(y=70, line_dash='dot', line_color='red', row=2, col=1)\n",
    "    fig.add_hline(y=30, line_dash='dot', line_color='green', row=2, col=1)\n",
    "\n",
    "# Optional: dividend markers if dates align (both indexed by datetime)\n",
    "if not divs.empty and isinstance(df.index, pd.DatetimeIndex) and isinstance(divs.index, pd.DatetimeIndex):\n",
    "    # Drop to common range\n",
    "    common = divs.index.intersection(df.index)\n",
    "    if 'dividend' in divs.columns and len(common) > 0:\n",
    "        y_vals = df.loc[common, close_col]\n",
    "        fig.add_trace(\n",
    "            go.Scatter(\n",
    "                x=common,\n",
    "                y=y_vals,\n",
    "                mode='markers',\n",
    "                name='Dividends',\n",
    "                marker=dict(color='gold', size=8, symbol='triangle-up')\n",
    "            ),\n",
    "            row=1, col=1\n",
    "        )\n",
    "\n",
    "fig.update_layout(title=f'{SYMBOL} Price with SMA/EMA and RSI', height=700, legend_orientation='h')\n",
    "try:\n",
    "    fig.show()\n",
    "except Exception as e:\n",
    "    import plotly.io as pio\n",
    "    if isinstance(e, ValueError) and 'nbformat' in str(e).lower():\n",
    "        pio.renderers.default = 'browser'\n",
    "        print(\"Renderer fallback: nbformat not available; switched to 'browser'.\")\n",
    "        fig.show()\n",
    "    else:\n",
    "        raise"
   ]
  },
  {
   "cell_type": "code",
   "execution_count": 7,
   "id": "c5db55f4",
   "metadata": {},
   "outputs": [
    {
     "data": {
      "application/vnd.plotly.v1+json": {
       "config": {
        "plotlyServerURL": "https://plot.ly"
       },
       "data": [
        {
         "line": {
          "color": "#1f77b4"
         },
         "name": "Close",
         "type": "scatter",
         "x": {
          "bdata": "AAABAAIAAwAEAAUABgAHAAgACQAKAAsADAANAA4ADwAQABEAEgATABQAFQAWABcAGAAZABoAGwAcAB0AHgAfACAAIQAiACMAJAAlACYAJwAoACkAKgArACwALQAuAC8AMAAxADIAMwA0ADUANgA3ADgAOQA6ADsAPAA9AD4APwBAAEEAQgBDAEQARQBGAEcASABJAEoASwBMAE0ATgBPAFAAUQBSAFMAVABVAFYAVwBYAFkAWgBbAFwAXQBeAF8AYABhAGIAYwBkAGUAZgBnAGgAaQBqAGsAbABtAG4AbwBwAHEAcgBzAHQAdQB2AHcAeAB5AHoAewB8AH0AfgB/AIAAgQCCAIMAhACFAIYAhwCIAIkAigCLAIwAjQCOAI8AkACRAJIAkwCUAJUAlgCXAJgAmQCaAJsAnACdAJ4AnwCgAKEAogCjAKQApQCmAKcAqACpAKoAqwCsAK0ArgCvALAAsQCyALMAtAC1ALYAtwC4ALkAugC7ALwAvQC+AL8AwADBAMIAwwDEAMUAxgDHAMgAyQDKAMsAzADNAM4AzwDQANEA0gDTANQA1QDWANcA2ADZANoA2wDcAN0A3gDfAOAA4QDiAOMA5ADlAOYA5wDoAOkA6gDrAOwA7QDuAO8A8ADxAPIA8wD0APUA9gD3APgA+QA=",
          "dtype": "i2"
         },
         "xaxis": "x",
         "y": {
          "bdata": "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",
          "dtype": "f8"
         },
         "yaxis": "y"
        },
        {
         "line": {
          "width": 1
         },
         "name": "SMA_10",
         "type": "scatter",
         "x": {
          "bdata": "AAABAAIAAwAEAAUABgAHAAgACQAKAAsADAANAA4ADwAQABEAEgATABQAFQAWABcAGAAZABoAGwAcAB0AHgAfACAAIQAiACMAJAAlACYAJwAoACkAKgArACwALQAuAC8AMAAxADIAMwA0ADUANgA3ADgAOQA6ADsAPAA9AD4APwBAAEEAQgBDAEQARQBGAEcASABJAEoASwBMAE0ATgBPAFAAUQBSAFMAVABVAFYAVwBYAFkAWgBbAFwAXQBeAF8AYABhAGIAYwBkAGUAZgBnAGgAaQBqAGsAbABtAG4AbwBwAHEAcgBzAHQAdQB2AHcAeAB5AHoAewB8AH0AfgB/AIAAgQCCAIMAhACFAIYAhwCIAIkAigCLAIwAjQCOAI8AkACRAJIAkwCUAJUAlgCXAJgAmQCaAJsAnACdAJ4AnwCgAKEAogCjAKQApQCmAKcAqACpAKoAqwCsAK0ArgCvALAAsQCyALMAtAC1ALYAtwC4ALkAugC7ALwAvQC+AL8AwADBAMIAwwDEAMUAxgDHAMgAyQDKAMsAzADNAM4AzwDQANEA0gDTANQA1QDWANcA2ADZANoA2wDcAN0A3gDfAOAA4QDiAOMA5ADlAOYA5wDoAOkA6gDrAOwA7QDuAO8A8ADxAPIA8wD0APUA9gD3APgA+QA=",
          "dtype": "i2"
         },
         "xaxis": "x",
         "y": {
          "bdata": "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",
          "dtype": "f8"
         },
         "yaxis": "y"
        },
        {
         "line": {
          "width": 1
         },
         "name": "SMA_20",
         "type": "scatter",
         "x": {
          "bdata": "AAABAAIAAwAEAAUABgAHAAgACQAKAAsADAANAA4ADwAQABEAEgATABQAFQAWABcAGAAZABoAGwAcAB0AHgAfACAAIQAiACMAJAAlACYAJwAoACkAKgArACwALQAuAC8AMAAxADIAMwA0ADUANgA3ADgAOQA6ADsAPAA9AD4APwBAAEEAQgBDAEQARQBGAEcASABJAEoASwBMAE0ATgBPAFAAUQBSAFMAVABVAFYAVwBYAFkAWgBbAFwAXQBeAF8AYABhAGIAYwBkAGUAZgBnAGgAaQBqAGsAbABtAG4AbwBwAHEAcgBzAHQAdQB2AHcAeAB5AHoAewB8AH0AfgB/AIAAgQCCAIMAhACFAIYAhwCIAIkAigCLAIwAjQCOAI8AkACRAJIAkwCUAJUAlgCXAJgAmQCaAJsAnACdAJ4AnwCgAKEAogCjAKQApQCmAKcAqACpAKoAqwCsAK0ArgCvALAAsQCyALMAtAC1ALYAtwC4ALkAugC7ALwAvQC+AL8AwADBAMIAwwDEAMUAxgDHAMgAyQDKAMsAzADNAM4AzwDQANEA0gDTANQA1QDWANcA2ADZANoA2wDcAN0A3gDfAOAA4QDiAOMA5ADlAOYA5wDoAOkA6gDrAOwA7QDuAO8A8ADxAPIA8wD0APUA9gD3APgA+QA=",
          "dtype": "i2"
         },
         "xaxis": "x",
         "y": {
          "bdata": "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",
          "dtype": "f8"
         },
         "yaxis": "y"
        },
        {
         "line": {
          "width": 1
         },
         "name": "SMA_50",
         "type": "scatter",
         "x": {
          "bdata": "AAABAAIAAwAEAAUABgAHAAgACQAKAAsADAANAA4ADwAQABEAEgATABQAFQAWABcAGAAZABoAGwAcAB0AHgAfACAAIQAiACMAJAAlACYAJwAoACkAKgArACwALQAuAC8AMAAxADIAMwA0ADUANgA3ADgAOQA6ADsAPAA9AD4APwBAAEEAQgBDAEQARQBGAEcASABJAEoASwBMAE0ATgBPAFAAUQBSAFMAVABVAFYAVwBYAFkAWgBbAFwAXQBeAF8AYABhAGIAYwBkAGUAZgBnAGgAaQBqAGsAbABtAG4AbwBwAHEAcgBzAHQAdQB2AHcAeAB5AHoAewB8AH0AfgB/AIAAgQCCAIMAhACFAIYAhwCIAIkAigCLAIwAjQCOAI8AkACRAJIAkwCUAJUAlgCXAJgAmQCaAJsAnACdAJ4AnwCgAKEAogCjAKQApQCmAKcAqACpAKoAqwCsAK0ArgCvALAAsQCyALMAtAC1ALYAtwC4ALkAugC7ALwAvQC+AL8AwADBAMIAwwDEAMUAxgDHAMgAyQDKAMsAzADNAM4AzwDQANEA0gDTANQA1QDWANcA2ADZANoA2wDcAN0A3gDfAOAA4QDiAOMA5ADlAOYA5wDoAOkA6gDrAOwA7QDuAO8A8ADxAPIA8wD0APUA9gD3APgA+QA=",
          "dtype": "i2"
         },
         "xaxis": "x",
         "y": {
          "bdata": "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",
          "dtype": "f8"
         },
         "yaxis": "y"
        },
        {
         "line": {
          "width": 1
         },
         "name": "EMA_12",
         "type": "scatter",
         "x": {
          "bdata": "AAABAAIAAwAEAAUABgAHAAgACQAKAAsADAANAA4ADwAQABEAEgATABQAFQAWABcAGAAZABoAGwAcAB0AHgAfACAAIQAiACMAJAAlACYAJwAoACkAKgArACwALQAuAC8AMAAxADIAMwA0ADUANgA3ADgAOQA6ADsAPAA9AD4APwBAAEEAQgBDAEQARQBGAEcASABJAEoASwBMAE0ATgBPAFAAUQBSAFMAVABVAFYAVwBYAFkAWgBbAFwAXQBeAF8AYABhAGIAYwBkAGUAZgBnAGgAaQBqAGsAbABtAG4AbwBwAHEAcgBzAHQAdQB2AHcAeAB5AHoAewB8AH0AfgB/AIAAgQCCAIMAhACFAIYAhwCIAIkAigCLAIwAjQCOAI8AkACRAJIAkwCUAJUAlgCXAJgAmQCaAJsAnACdAJ4AnwCgAKEAogCjAKQApQCmAKcAqACpAKoAqwCsAK0ArgCvALAAsQCyALMAtAC1ALYAtwC4ALkAugC7ALwAvQC+AL8AwADBAMIAwwDEAMUAxgDHAMgAyQDKAMsAzADNAM4AzwDQANEA0gDTANQA1QDWANcA2ADZANoA2wDcAN0A3gDfAOAA4QDiAOMA5ADlAOYA5wDoAOkA6gDrAOwA7QDuAO8A8ADxAPIA8wD0APUA9gD3APgA+QA=",
          "dtype": "i2"
         },
         "xaxis": "x",
         "y": {
          "bdata": "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",
          "dtype": "f8"
         },
         "yaxis": "y"
        },
        {
         "line": {
          "width": 1
         },
         "name": "EMA_26",
         "type": "scatter",
         "x": {
          "bdata": "AAABAAIAAwAEAAUABgAHAAgACQAKAAsADAANAA4ADwAQABEAEgATABQAFQAWABcAGAAZABoAGwAcAB0AHgAfACAAIQAiACMAJAAlACYAJwAoACkAKgArACwALQAuAC8AMAAxADIAMwA0ADUANgA3ADgAOQA6ADsAPAA9AD4APwBAAEEAQgBDAEQARQBGAEcASABJAEoASwBMAE0ATgBPAFAAUQBSAFMAVABVAFYAVwBYAFkAWgBbAFwAXQBeAF8AYABhAGIAYwBkAGUAZgBnAGgAaQBqAGsAbABtAG4AbwBwAHEAcgBzAHQAdQB2AHcAeAB5AHoAewB8AH0AfgB/AIAAgQCCAIMAhACFAIYAhwCIAIkAigCLAIwAjQCOAI8AkACRAJIAkwCUAJUAlgCXAJgAmQCaAJsAnACdAJ4AnwCgAKEAogCjAKQApQCmAKcAqACpAKoAqwCsAK0ArgCvALAAsQCyALMAtAC1ALYAtwC4ALkAugC7ALwAvQC+AL8AwADBAMIAwwDEAMUAxgDHAMgAyQDKAMsAzADNAM4AzwDQANEA0gDTANQA1QDWANcA2ADZANoA2wDcAN0A3gDfAOAA4QDiAOMA5ADlAOYA5wDoAOkA6gDrAOwA7QDuAO8A8ADxAPIA8wD0APUA9gD3APgA+QA=",
          "dtype": "i2"
         },
         "xaxis": "x",
         "y": {
          "bdata": "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",
          "dtype": "f8"
         },
         "yaxis": "y"
        },
        {
         "line": {
          "color": "#17becf"
         },
         "name": "MACD",
         "type": "scatter",
         "x": {
          "bdata": "AAABAAIAAwAEAAUABgAHAAgACQAKAAsADAANAA4ADwAQABEAEgATABQAFQAWABcAGAAZABoAGwAcAB0AHgAfACAAIQAiACMAJAAlACYAJwAoACkAKgArACwALQAuAC8AMAAxADIAMwA0ADUANgA3ADgAOQA6ADsAPAA9AD4APwBAAEEAQgBDAEQARQBGAEcASABJAEoASwBMAE0ATgBPAFAAUQBSAFMAVABVAFYAVwBYAFkAWgBbAFwAXQBeAF8AYABhAGIAYwBkAGUAZgBnAGgAaQBqAGsAbABtAG4AbwBwAHEAcgBzAHQAdQB2AHcAeAB5AHoAewB8AH0AfgB/AIAAgQCCAIMAhACFAIYAhwCIAIkAigCLAIwAjQCOAI8AkACRAJIAkwCUAJUAlgCXAJgAmQCaAJsAnACdAJ4AnwCgAKEAogCjAKQApQCmAKcAqACpAKoAqwCsAK0ArgCvALAAsQCyALMAtAC1ALYAtwC4ALkAugC7ALwAvQC+AL8AwADBAMIAwwDEAMUAxgDHAMgAyQDKAMsAzADNAM4AzwDQANEA0gDTANQA1QDWANcA2ADZANoA2wDcAN0A3gDfAOAA4QDiAOMA5ADlAOYA5wDoAOkA6gDrAOwA7QDuAO8A8ADxAPIA8wD0APUA9gD3APgA+QA=",
          "dtype": "i2"
         },
         "xaxis": "x2",
         "y": {
          "bdata": "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",
          "dtype": "f8"
         },
         "yaxis": "y2"
        },
        {
         "line": {
          "color": "#d62728"
         },
         "name": "Signal",
         "type": "scatter",
         "x": {
          "bdata": "AAABAAIAAwAEAAUABgAHAAgACQAKAAsADAANAA4ADwAQABEAEgATABQAFQAWABcAGAAZABoAGwAcAB0AHgAfACAAIQAiACMAJAAlACYAJwAoACkAKgArACwALQAuAC8AMAAxADIAMwA0ADUANgA3ADgAOQA6ADsAPAA9AD4APwBAAEEAQgBDAEQARQBGAEcASABJAEoASwBMAE0ATgBPAFAAUQBSAFMAVABVAFYAVwBYAFkAWgBbAFwAXQBeAF8AYABhAGIAYwBkAGUAZgBnAGgAaQBqAGsAbABtAG4AbwBwAHEAcgBzAHQAdQB2AHcAeAB5AHoAewB8AH0AfgB/AIAAgQCCAIMAhACFAIYAhwCIAIkAigCLAIwAjQCOAI8AkACRAJIAkwCUAJUAlgCXAJgAmQCaAJsAnACdAJ4AnwCgAKEAogCjAKQApQCmAKcAqACpAKoAqwCsAK0ArgCvALAAsQCyALMAtAC1ALYAtwC4ALkAugC7ALwAvQC+AL8AwADBAMIAwwDEAMUAxgDHAMgAyQDKAMsAzADNAM4AzwDQANEA0gDTANQA1QDWANcA2ADZANoA2wDcAN0A3gDfAOAA4QDiAOMA5ADlAOYA5wDoAOkA6gDrAOwA7QDuAO8A8ADxAPIA8wD0APUA9gD3APgA+QA=",
          "dtype": "i2"
         },
         "xaxis": "x2",
         "y": {
          "bdata": "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",
          "dtype": "f8"
         },
         "yaxis": "y2"
        },
        {
         "marker": {
          "color": [
           "rgba(38,166,91,0.6)",
           "rgba(219,68,55,0.6)",
           "rgba(219,68,55,0.6)",
           "rgba(219,68,55,0.6)",
           "rgba(219,68,55,0.6)",
           "rgba(219,68,55,0.6)",
           "rgba(219,68,55,0.6)",
           "rgba(219,68,55,0.6)",
           "rgba(38,166,91,0.6)",
           "rgba(38,166,91,0.6)",
           "rgba(38,166,91,0.6)",
           "rgba(38,166,91,0.6)",
           "rgba(38,166,91,0.6)",
           "rgba(38,166,91,0.6)",
           "rgba(38,166,91,0.6)",
           "rgba(38,166,91,0.6)",
           "rgba(38,166,91,0.6)",
           "rgba(38,166,91,0.6)",
           "rgba(38,166,91,0.6)",
           "rgba(38,166,91,0.6)",
           "rgba(38,166,91,0.6)",
           "rgba(38,166,91,0.6)",
           "rgba(38,166,91,0.6)",
           "rgba(38,166,91,0.6)",
           "rgba(38,166,91,0.6)",
           "rgba(38,166,91,0.6)",
           "rgba(38,166,91,0.6)",
           "rgba(38,166,91,0.6)",
           "rgba(38,166,91,0.6)",
           "rgba(219,68,55,0.6)",
           "rgba(219,68,55,0.6)",
           "rgba(219,68,55,0.6)",
           "rgba(219,68,55,0.6)",
           "rgba(219,68,55,0.6)",
           "rgba(219,68,55,0.6)",
           "rgba(219,68,55,0.6)",
           "rgba(219,68,55,0.6)",
           "rgba(219,68,55,0.6)",
           "rgba(219,68,55,0.6)",
           "rgba(219,68,55,0.6)",
           "rgba(219,68,55,0.6)",
           "rgba(219,68,55,0.6)",
           "rgba(219,68,55,0.6)",
           "rgba(38,166,91,0.6)",
           "rgba(38,166,91,0.6)",
           "rgba(38,166,91,0.6)",
           "rgba(38,166,91,0.6)",
           "rgba(38,166,91,0.6)",
           "rgba(38,166,91,0.6)",
           "rgba(38,166,91,0.6)",
           "rgba(38,166,91,0.6)",
           "rgba(38,166,91,0.6)",
           "rgba(38,166,91,0.6)",
           "rgba(38,166,91,0.6)",
           "rgba(38,166,91,0.6)",
           "rgba(38,166,91,0.6)",
           "rgba(38,166,91,0.6)",
           "rgba(38,166,91,0.6)",
           "rgba(38,166,91,0.6)",
           "rgba(38,166,91,0.6)",
           "rgba(38,166,91,0.6)",
           "rgba(38,166,91,0.6)",
           "rgba(38,166,91,0.6)",
           "rgba(38,166,91,0.6)",
           "rgba(38,166,91,0.6)",
           "rgba(38,166,91,0.6)",
           "rgba(38,166,91,0.6)",
           "rgba(219,68,55,0.6)",
           "rgba(219,68,55,0.6)",
           "rgba(219,68,55,0.6)",
           "rgba(219,68,55,0.6)",
           "rgba(219,68,55,0.6)",
           "rgba(219,68,55,0.6)",
           "rgba(38,166,91,0.6)",
           "rgba(38,166,91,0.6)",
           "rgba(38,166,91,0.6)",
           "rgba(38,166,91,0.6)",
           "rgba(38,166,91,0.6)",
           "rgba(38,166,91,0.6)",
           "rgba(38,166,91,0.6)",
           "rgba(38,166,91,0.6)",
           "rgba(38,166,91,0.6)",
           "rgba(38,166,91,0.6)",
           "rgba(38,166,91,0.6)",
           "rgba(219,68,55,0.6)",
           "rgba(219,68,55,0.6)",
           "rgba(219,68,55,0.6)",
           "rgba(219,68,55,0.6)",
           "rgba(219,68,55,0.6)",
           "rgba(219,68,55,0.6)",
           "rgba(219,68,55,0.6)",
           "rgba(219,68,55,0.6)",
           "rgba(219,68,55,0.6)",
           "rgba(219,68,55,0.6)",
           "rgba(219,68,55,0.6)",
           "rgba(219,68,55,0.6)",
           "rgba(219,68,55,0.6)",
           "rgba(219,68,55,0.6)",
           "rgba(219,68,55,0.6)",
           "rgba(219,68,55,0.6)",
           "rgba(219,68,55,0.6)",
           "rgba(219,68,55,0.6)",
           "rgba(219,68,55,0.6)",
           "rgba(219,68,55,0.6)",
           "rgba(219,68,55,0.6)",
           "rgba(219,68,55,0.6)",
           "rgba(219,68,55,0.6)",
           "rgba(219,68,55,0.6)",
           "rgba(219,68,55,0.6)",
           "rgba(219,68,55,0.6)",
           "rgba(219,68,55,0.6)",
           "rgba(219,68,55,0.6)",
           "rgba(219,68,55,0.6)",
           "rgba(219,68,55,0.6)",
           "rgba(219,68,55,0.6)",
           "rgba(219,68,55,0.6)",
           "rgba(219,68,55,0.6)",
           "rgba(219,68,55,0.6)",
           "rgba(219,68,55,0.6)",
           "rgba(219,68,55,0.6)",
           "rgba(219,68,55,0.6)",
           "rgba(219,68,55,0.6)",
           "rgba(219,68,55,0.6)",
           "rgba(219,68,55,0.6)",
           "rgba(219,68,55,0.6)",
           "rgba(219,68,55,0.6)",
           "rgba(219,68,55,0.6)",
           "rgba(219,68,55,0.6)",
           "rgba(219,68,55,0.6)",
           "rgba(219,68,55,0.6)",
           "rgba(219,68,55,0.6)",
           "rgba(219,68,55,0.6)",
           "rgba(219,68,55,0.6)",
           "rgba(219,68,55,0.6)",
           "rgba(219,68,55,0.6)",
           "rgba(219,68,55,0.6)",
           "rgba(219,68,55,0.6)",
           "rgba(219,68,55,0.6)",
           "rgba(219,68,55,0.6)",
           "rgba(219,68,55,0.6)",
           "rgba(219,68,55,0.6)",
           "rgba(219,68,55,0.6)",
           "rgba(38,166,91,0.6)",
           "rgba(38,166,91,0.6)",
           "rgba(38,166,91,0.6)",
           "rgba(38,166,91,0.6)",
           "rgba(38,166,91,0.6)",
           "rgba(38,166,91,0.6)",
           "rgba(38,166,91,0.6)",
           "rgba(38,166,91,0.6)",
           "rgba(38,166,91,0.6)",
           "rgba(38,166,91,0.6)",
           "rgba(38,166,91,0.6)",
           "rgba(38,166,91,0.6)",
           "rgba(38,166,91,0.6)",
           "rgba(219,68,55,0.6)",
           "rgba(38,166,91,0.6)",
           "rgba(38,166,91,0.6)",
           "rgba(38,166,91,0.6)",
           "rgba(38,166,91,0.6)",
           "rgba(38,166,91,0.6)",
           "rgba(38,166,91,0.6)",
           "rgba(38,166,91,0.6)",
           "rgba(219,68,55,0.6)",
           "rgba(219,68,55,0.6)",
           "rgba(38,166,91,0.6)",
           "rgba(38,166,91,0.6)",
           "rgba(38,166,91,0.6)",
           "rgba(38,166,91,0.6)",
           "rgba(38,166,91,0.6)",
           "rgba(38,166,91,0.6)",
           "rgba(38,166,91,0.6)",
           "rgba(38,166,91,0.6)",
           "rgba(38,166,91,0.6)",
           "rgba(38,166,91,0.6)",
           "rgba(38,166,91,0.6)",
           "rgba(38,166,91,0.6)",
           "rgba(38,166,91,0.6)",
           "rgba(38,166,91,0.6)",
           "rgba(38,166,91,0.6)",
           "rgba(38,166,91,0.6)",
           "rgba(38,166,91,0.6)",
           "rgba(38,166,91,0.6)",
           "rgba(38,166,91,0.6)",
           "rgba(38,166,91,0.6)",
           "rgba(38,166,91,0.6)",
           "rgba(38,166,91,0.6)",
           "rgba(38,166,91,0.6)",
           "rgba(38,166,91,0.6)",
           "rgba(38,166,91,0.6)",
           "rgba(38,166,91,0.6)",
           "rgba(38,166,91,0.6)",
           "rgba(219,68,55,0.6)",
           "rgba(219,68,55,0.6)",
           "rgba(219,68,55,0.6)",
           "rgba(219,68,55,0.6)",
           "rgba(219,68,55,0.6)",
           "rgba(219,68,55,0.6)",
           "rgba(219,68,55,0.6)",
           "rgba(219,68,55,0.6)",
           "rgba(219,68,55,0.6)",
           "rgba(219,68,55,0.6)",
           "rgba(219,68,55,0.6)",
           "rgba(219,68,55,0.6)",
           "rgba(219,68,55,0.6)",
           "rgba(219,68,55,0.6)",
           "rgba(219,68,55,0.6)",
           "rgba(38,166,91,0.6)",
           "rgba(219,68,55,0.6)",
           "rgba(219,68,55,0.6)",
           "rgba(219,68,55,0.6)",
           "rgba(219,68,55,0.6)",
           "rgba(219,68,55,0.6)",
           "rgba(219,68,55,0.6)",
           "rgba(219,68,55,0.6)",
           "rgba(219,68,55,0.6)",
           "rgba(219,68,55,0.6)",
           "rgba(219,68,55,0.6)",
           "rgba(219,68,55,0.6)",
           "rgba(219,68,55,0.6)",
           "rgba(219,68,55,0.6)",
           "rgba(219,68,55,0.6)",
           "rgba(38,166,91,0.6)",
           "rgba(38,166,91,0.6)",
           "rgba(38,166,91,0.6)",
           "rgba(38,166,91,0.6)",
           "rgba(38,166,91,0.6)",
           "rgba(38,166,91,0.6)",
           "rgba(38,166,91,0.6)",
           "rgba(38,166,91,0.6)",
           "rgba(38,166,91,0.6)",
           "rgba(38,166,91,0.6)",
           "rgba(38,166,91,0.6)",
           "rgba(219,68,55,0.6)",
           "rgba(219,68,55,0.6)",
           "rgba(219,68,55,0.6)",
           "rgba(219,68,55,0.6)",
           "rgba(219,68,55,0.6)",
           "rgba(38,166,91,0.6)",
           "rgba(38,166,91,0.6)",
           "rgba(38,166,91,0.6)",
           "rgba(38,166,91,0.6)",
           "rgba(38,166,91,0.6)",
           "rgba(38,166,91,0.6)",
           "rgba(38,166,91,0.6)",
           "rgba(38,166,91,0.6)",
           "rgba(38,166,91,0.6)",
           "rgba(38,166,91,0.6)",
           "rgba(219,68,55,0.6)",
           "rgba(38,166,91,0.6)"
          ]
         },
         "name": "MACD Hist",
         "type": "bar",
         "x": {
          "bdata": "AAABAAIAAwAEAAUABgAHAAgACQAKAAsADAANAA4ADwAQABEAEgATABQAFQAWABcAGAAZABoAGwAcAB0AHgAfACAAIQAiACMAJAAlACYAJwAoACkAKgArACwALQAuAC8AMAAxADIAMwA0ADUANgA3ADgAOQA6ADsAPAA9AD4APwBAAEEAQgBDAEQARQBGAEcASABJAEoASwBMAE0ATgBPAFAAUQBSAFMAVABVAFYAVwBYAFkAWgBbAFwAXQBeAF8AYABhAGIAYwBkAGUAZgBnAGgAaQBqAGsAbABtAG4AbwBwAHEAcgBzAHQAdQB2AHcAeAB5AHoAewB8AH0AfgB/AIAAgQCCAIMAhACFAIYAhwCIAIkAigCLAIwAjQCOAI8AkACRAJIAkwCUAJUAlgCXAJgAmQCaAJsAnACdAJ4AnwCgAKEAogCjAKQApQCmAKcAqACpAKoAqwCsAK0ArgCvALAAsQCyALMAtAC1ALYAtwC4ALkAugC7ALwAvQC+AL8AwADBAMIAwwDEAMUAxgDHAMgAyQDKAMsAzADNAM4AzwDQANEA0gDTANQA1QDWANcA2ADZANoA2wDcAN0A3gDfAOAA4QDiAOMA5ADlAOYA5wDoAOkA6gDrAOwA7QDuAO8A8ADxAPIA8wD0APUA9gD3APgA+QA=",
          "dtype": "i2"
         },
         "xaxis": "x2",
         "y": {
          "bdata": "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",
          "dtype": "f8"
         },
         "yaxis": "y2"
        }
       ],
       "layout": {
        "height": 700,
        "legend": {
         "orientation": "h"
        },
        "shapes": [
         {
          "line": {
           "color": "gray",
           "dash": "dot"
          },
          "type": "line",
          "x0": 0,
          "x1": 1,
          "xref": "x2 domain",
          "y0": 0,
          "y1": 0,
          "yref": "y2"
         }
        ],
        "template": {
         "data": {
          "bar": [
           {
            "error_x": {
             "color": "#2a3f5f"
            },
            "error_y": {
             "color": "#2a3f5f"
            },
            "marker": {
             "line": {
              "color": "#E5ECF6",
              "width": 0.5
             },
             "pattern": {
              "fillmode": "overlay",
              "size": 10,
              "solidity": 0.2
             }
            },
            "type": "bar"
           }
          ],
          "barpolar": [
           {
            "marker": {
             "line": {
              "color": "#E5ECF6",
              "width": 0.5
             },
             "pattern": {
              "fillmode": "overlay",
              "size": 10,
              "solidity": 0.2
             }
            },
            "type": "barpolar"
           }
          ],
          "carpet": [
           {
            "aaxis": {
             "endlinecolor": "#2a3f5f",
             "gridcolor": "white",
             "linecolor": "white",
             "minorgridcolor": "white",
             "startlinecolor": "#2a3f5f"
            },
            "baxis": {
             "endlinecolor": "#2a3f5f",
             "gridcolor": "white",
             "linecolor": "white",
             "minorgridcolor": "white",
             "startlinecolor": "#2a3f5f"
            },
            "type": "carpet"
           }
          ],
          "choropleth": [
           {
            "colorbar": {
             "outlinewidth": 0,
             "ticks": ""
            },
            "type": "choropleth"
           }
          ],
          "contour": [
           {
            "colorbar": {
             "outlinewidth": 0,
             "ticks": ""
            },
            "colorscale": [
             [
              0,
              "#0d0887"
             ],
             [
              0.1111111111111111,
              "#46039f"
             ],
             [
              0.2222222222222222,
              "#7201a8"
             ],
             [
              0.3333333333333333,
              "#9c179e"
             ],
             [
              0.4444444444444444,
              "#bd3786"
             ],
             [
              0.5555555555555556,
              "#d8576b"
             ],
             [
              0.6666666666666666,
              "#ed7953"
             ],
             [
              0.7777777777777778,
              "#fb9f3a"
             ],
             [
              0.8888888888888888,
              "#fdca26"
             ],
             [
              1,
              "#f0f921"
             ]
            ],
            "type": "contour"
           }
          ],
          "contourcarpet": [
           {
            "colorbar": {
             "outlinewidth": 0,
             "ticks": ""
            },
            "type": "contourcarpet"
           }
          ],
          "heatmap": [
           {
            "colorbar": {
             "outlinewidth": 0,
             "ticks": ""
            },
            "colorscale": [
             [
              0,
              "#0d0887"
             ],
             [
              0.1111111111111111,
              "#46039f"
             ],
             [
              0.2222222222222222,
              "#7201a8"
             ],
             [
              0.3333333333333333,
              "#9c179e"
             ],
             [
              0.4444444444444444,
              "#bd3786"
             ],
             [
              0.5555555555555556,
              "#d8576b"
             ],
             [
              0.6666666666666666,
              "#ed7953"
             ],
             [
              0.7777777777777778,
              "#fb9f3a"
             ],
             [
              0.8888888888888888,
              "#fdca26"
             ],
             [
              1,
              "#f0f921"
             ]
            ],
            "type": "heatmap"
           }
          ],
          "histogram": [
           {
            "marker": {
             "pattern": {
              "fillmode": "overlay",
              "size": 10,
              "solidity": 0.2
             }
            },
            "type": "histogram"
           }
          ],
          "histogram2d": [
           {
            "colorbar": {
             "outlinewidth": 0,
             "ticks": ""
            },
            "colorscale": [
             [
              0,
              "#0d0887"
             ],
             [
              0.1111111111111111,
              "#46039f"
             ],
             [
              0.2222222222222222,
              "#7201a8"
             ],
             [
              0.3333333333333333,
              "#9c179e"
             ],
             [
              0.4444444444444444,
              "#bd3786"
             ],
             [
              0.5555555555555556,
              "#d8576b"
             ],
             [
              0.6666666666666666,
              "#ed7953"
             ],
             [
              0.7777777777777778,
              "#fb9f3a"
             ],
             [
              0.8888888888888888,
              "#fdca26"
             ],
             [
              1,
              "#f0f921"
             ]
            ],
            "type": "histogram2d"
           }
          ],
          "histogram2dcontour": [
           {
            "colorbar": {
             "outlinewidth": 0,
             "ticks": ""
            },
            "colorscale": [
             [
              0,
              "#0d0887"
             ],
             [
              0.1111111111111111,
              "#46039f"
             ],
             [
              0.2222222222222222,
              "#7201a8"
             ],
             [
              0.3333333333333333,
              "#9c179e"
             ],
             [
              0.4444444444444444,
              "#bd3786"
             ],
             [
              0.5555555555555556,
              "#d8576b"
             ],
             [
              0.6666666666666666,
              "#ed7953"
             ],
             [
              0.7777777777777778,
              "#fb9f3a"
             ],
             [
              0.8888888888888888,
              "#fdca26"
             ],
             [
              1,
              "#f0f921"
             ]
            ],
            "type": "histogram2dcontour"
           }
          ],
          "mesh3d": [
           {
            "colorbar": {
             "outlinewidth": 0,
             "ticks": ""
            },
            "type": "mesh3d"
           }
          ],
          "parcoords": [
           {
            "line": {
             "colorbar": {
              "outlinewidth": 0,
              "ticks": ""
             }
            },
            "type": "parcoords"
           }
          ],
          "pie": [
           {
            "automargin": true,
            "type": "pie"
           }
          ],
          "scatter": [
           {
            "fillpattern": {
             "fillmode": "overlay",
             "size": 10,
             "solidity": 0.2
            },
            "type": "scatter"
           }
          ],
          "scatter3d": [
           {
            "line": {
             "colorbar": {
              "outlinewidth": 0,
              "ticks": ""
             }
            },
            "marker": {
             "colorbar": {
              "outlinewidth": 0,
              "ticks": ""
             }
            },
            "type": "scatter3d"
           }
          ],
          "scattercarpet": [
           {
            "marker": {
             "colorbar": {
              "outlinewidth": 0,
              "ticks": ""
             }
            },
            "type": "scattercarpet"
           }
          ],
          "scattergeo": [
           {
            "marker": {
             "colorbar": {
              "outlinewidth": 0,
              "ticks": ""
             }
            },
            "type": "scattergeo"
           }
          ],
          "scattergl": [
           {
            "marker": {
             "colorbar": {
              "outlinewidth": 0,
              "ticks": ""
             }
            },
            "type": "scattergl"
           }
          ],
          "scattermap": [
           {
            "marker": {
             "colorbar": {
              "outlinewidth": 0,
              "ticks": ""
             }
            },
            "type": "scattermap"
           }
          ],
          "scattermapbox": [
           {
            "marker": {
             "colorbar": {
              "outlinewidth": 0,
              "ticks": ""
             }
            },
            "type": "scattermapbox"
           }
          ],
          "scatterpolar": [
           {
            "marker": {
             "colorbar": {
              "outlinewidth": 0,
              "ticks": ""
             }
            },
            "type": "scatterpolar"
           }
          ],
          "scatterpolargl": [
           {
            "marker": {
             "colorbar": {
              "outlinewidth": 0,
              "ticks": ""
             }
            },
            "type": "scatterpolargl"
           }
          ],
          "scatterternary": [
           {
            "marker": {
             "colorbar": {
              "outlinewidth": 0,
              "ticks": ""
             }
            },
            "type": "scatterternary"
           }
          ],
          "surface": [
           {
            "colorbar": {
             "outlinewidth": 0,
             "ticks": ""
            },
            "colorscale": [
             [
              0,
              "#0d0887"
             ],
             [
              0.1111111111111111,
              "#46039f"
             ],
             [
              0.2222222222222222,
              "#7201a8"
             ],
             [
              0.3333333333333333,
              "#9c179e"
             ],
             [
              0.4444444444444444,
              "#bd3786"
             ],
             [
              0.5555555555555556,
              "#d8576b"
             ],
             [
              0.6666666666666666,
              "#ed7953"
             ],
             [
              0.7777777777777778,
              "#fb9f3a"
             ],
             [
              0.8888888888888888,
              "#fdca26"
             ],
             [
              1,
              "#f0f921"
             ]
            ],
            "type": "surface"
           }
          ],
          "table": [
           {
            "cells": {
             "fill": {
              "color": "#EBF0F8"
             },
             "line": {
              "color": "white"
             }
            },
            "header": {
             "fill": {
              "color": "#C8D4E3"
             },
             "line": {
              "color": "white"
             }
            },
            "type": "table"
           }
          ]
         },
         "layout": {
          "annotationdefaults": {
           "arrowcolor": "#2a3f5f",
           "arrowhead": 0,
           "arrowwidth": 1
          },
          "autotypenumbers": "strict",
          "coloraxis": {
           "colorbar": {
            "outlinewidth": 0,
            "ticks": ""
           }
          },
          "colorscale": {
           "diverging": [
            [
             0,
             "#8e0152"
            ],
            [
             0.1,
             "#c51b7d"
            ],
            [
             0.2,
             "#de77ae"
            ],
            [
             0.3,
             "#f1b6da"
            ],
            [
             0.4,
             "#fde0ef"
            ],
            [
             0.5,
             "#f7f7f7"
            ],
            [
             0.6,
             "#e6f5d0"
            ],
            [
             0.7,
             "#b8e186"
            ],
            [
             0.8,
             "#7fbc41"
            ],
            [
             0.9,
             "#4d9221"
            ],
            [
             1,
             "#276419"
            ]
           ],
           "sequential": [
            [
             0,
             "#0d0887"
            ],
            [
             0.1111111111111111,
             "#46039f"
            ],
            [
             0.2222222222222222,
             "#7201a8"
            ],
            [
             0.3333333333333333,
             "#9c179e"
            ],
            [
             0.4444444444444444,
             "#bd3786"
            ],
            [
             0.5555555555555556,
             "#d8576b"
            ],
            [
             0.6666666666666666,
             "#ed7953"
            ],
            [
             0.7777777777777778,
             "#fb9f3a"
            ],
            [
             0.8888888888888888,
             "#fdca26"
            ],
            [
             1,
             "#f0f921"
            ]
           ],
           "sequentialminus": [
            [
             0,
             "#0d0887"
            ],
            [
             0.1111111111111111,
             "#46039f"
            ],
            [
             0.2222222222222222,
             "#7201a8"
            ],
            [
             0.3333333333333333,
             "#9c179e"
            ],
            [
             0.4444444444444444,
             "#bd3786"
            ],
            [
             0.5555555555555556,
             "#d8576b"
            ],
            [
             0.6666666666666666,
             "#ed7953"
            ],
            [
             0.7777777777777778,
             "#fb9f3a"
            ],
            [
             0.8888888888888888,
             "#fdca26"
            ],
            [
             1,
             "#f0f921"
            ]
           ]
          },
          "colorway": [
           "#636efa",
           "#EF553B",
           "#00cc96",
           "#ab63fa",
           "#FFA15A",
           "#19d3f3",
           "#FF6692",
           "#B6E880",
           "#FF97FF",
           "#FECB52"
          ],
          "font": {
           "color": "#2a3f5f"
          },
          "geo": {
           "bgcolor": "white",
           "lakecolor": "white",
           "landcolor": "#E5ECF6",
           "showlakes": true,
           "showland": true,
           "subunitcolor": "white"
          },
          "hoverlabel": {
           "align": "left"
          },
          "hovermode": "closest",
          "mapbox": {
           "style": "light"
          },
          "paper_bgcolor": "white",
          "plot_bgcolor": "#E5ECF6",
          "polar": {
           "angularaxis": {
            "gridcolor": "white",
            "linecolor": "white",
            "ticks": ""
           },
           "bgcolor": "#E5ECF6",
           "radialaxis": {
            "gridcolor": "white",
            "linecolor": "white",
            "ticks": ""
           }
          },
          "scene": {
           "xaxis": {
            "backgroundcolor": "#E5ECF6",
            "gridcolor": "white",
            "gridwidth": 2,
            "linecolor": "white",
            "showbackground": true,
            "ticks": "",
            "zerolinecolor": "white"
           },
           "yaxis": {
            "backgroundcolor": "#E5ECF6",
            "gridcolor": "white",
            "gridwidth": 2,
            "linecolor": "white",
            "showbackground": true,
            "ticks": "",
            "zerolinecolor": "white"
           },
           "zaxis": {
            "backgroundcolor": "#E5ECF6",
            "gridcolor": "white",
            "gridwidth": 2,
            "linecolor": "white",
            "showbackground": true,
            "ticks": "",
            "zerolinecolor": "white"
           }
          },
          "shapedefaults": {
           "line": {
            "color": "#2a3f5f"
           }
          },
          "ternary": {
           "aaxis": {
            "gridcolor": "white",
            "linecolor": "white",
            "ticks": ""
           },
           "baxis": {
            "gridcolor": "white",
            "linecolor": "white",
            "ticks": ""
           },
           "bgcolor": "#E5ECF6",
           "caxis": {
            "gridcolor": "white",
            "linecolor": "white",
            "ticks": ""
           }
          },
          "title": {
           "x": 0.05
          },
          "xaxis": {
           "automargin": true,
           "gridcolor": "white",
           "linecolor": "white",
           "ticks": "",
           "title": {
            "standoff": 15
           },
           "zerolinecolor": "white",
           "zerolinewidth": 2
          },
          "yaxis": {
           "automargin": true,
           "gridcolor": "white",
           "linecolor": "white",
           "ticks": "",
           "title": {
            "standoff": 15
           },
           "zerolinecolor": "white",
           "zerolinewidth": 2
          }
         }
        },
        "title": {
         "text": "TSLA Price with SMA/EMA and MACD"
        },
        "xaxis": {
         "anchor": "y",
         "domain": [
          0,
          1
         ],
         "matches": "x2",
         "showticklabels": false
        },
        "xaxis2": {
         "anchor": "y2",
         "domain": [
          0,
          1
         ]
        },
        "yaxis": {
         "anchor": "x",
         "domain": [
          0.33760000000000007,
          1
         ]
        },
        "yaxis2": {
         "anchor": "x2",
         "domain": [
          0,
          0.25760000000000005
         ]
        }
       }
      }
     },
     "metadata": {},
     "output_type": "display_data"
    }
   ],
   "source": [
    "# Plot price with SMA/EMA overlays and MACD\n",
    "close_col = None\n",
    "for c in df.columns:\n",
    "    if str(c).lower() in ('close', 'adj close', 'adj_close', 'adjclose'):\n",
    "        close_col = c\n",
    "        break\n",
    "if close_col is None:\n",
    "    raise ValueError('No close-like column found in history CSV')\n",
    "\n",
    "# Compute MACD inputs (ema12, ema26) if missing\n",
    "price = pd.to_numeric(df[close_col], errors='coerce')\n",
    "ema12 = df['ema_12'] if 'ema_12' in df.columns else price.ewm(span=12, adjust=False, min_periods=1).mean()\n",
    "ema26 = df['ema_26'] if 'ema_26' in df.columns else price.ewm(span=26, adjust=False, min_periods=1).mean()\n",
    "macd_line = ema12 - ema26\n",
    "signal_line = macd_line.ewm(span=9, adjust=False, min_periods=1).mean()\n",
    "macd_hist = macd_line - signal_line\n",
    "\n",
    "fig = make_subplots(rows=2, cols=1, shared_xaxes=True, vertical_spacing=0.08, row_heights=[0.72, 0.28])\n",
    "\n",
    "# Price panel with overlays\n",
    "fig.add_trace(go.Scatter(x=df.index, y=df[close_col], name='Close', line=dict(color='#1f77b4')), row=1, col=1)\n",
    "for name, color in [('sma_10', '#ff7f0e'), ('sma_20', '#2ca02c'), ('sma_50', '#d62728'), ('ema_12', '#9467bd'), ('ema_26', '#8c564b')]:\n",
    "    if name in df.columns:\n",
    "        fig.add_trace(go.Scatter(x=df.index, y=df[name], name=name.upper(), line=dict(width=1)), row=1, col=1)\n",
    "\n",
    "# MACD panel\n",
    "fig.add_trace(go.Scatter(x=df.index, y=macd_line, name='MACD', line=dict(color='#17becf')), row=2, col=1)\n",
    "fig.add_trace(go.Scatter(x=df.index, y=signal_line, name='Signal', line=dict(color='#d62728')), row=2, col=1)\n",
    "# Histogram colored by sign\n",
    "hist_colors = ['rgba(38,166,91,0.6)' if v >= 0 else 'rgba(219,68,55,0.6)' for v in macd_hist.fillna(0)]\n",
    "fig.add_trace(go.Bar(x=df.index, y=macd_hist, name='MACD Hist', marker_color=hist_colors), row=2, col=1)\n",
    "fig.add_hline(y=0, line_dash='dot', line_color='gray', row=2, col=1)\n",
    "\n",
    "fig.update_layout(title=f'{SYMBOL} Price with SMA/EMA and MACD', height=700, legend_orientation='h')\n",
    "try:\n",
    "    fig.show()\n",
    "except Exception as e:\n",
    "    import plotly.io as pio\n",
    "    if isinstance(e, ValueError) and 'nbformat' in str(e).lower():\n",
    "        pio.renderers.default = 'browser'\n",
    "        print(\"Renderer fallback: nbformat not available; switched to 'browser'.\")\n",
    "        fig.show()\n",
    "    else:\n",
    "        raise"
   ]
  }
 ],
 "metadata": {
  "kernelspec": {
   "display_name": ".venv (3.13.7)",
   "language": "python",
   "name": "python3"
  },
  "language_info": {
   "codemirror_mode": {
    "name": "ipython",
    "version": 3
   },
   "file_extension": ".py",
   "mimetype": "text/x-python",
   "name": "python",
   "nbconvert_exporter": "python",
   "pygments_lexer": "ipython3",
   "version": "3.13.7"
  }
 },
 "nbformat": 4,
 "nbformat_minor": 5
}
