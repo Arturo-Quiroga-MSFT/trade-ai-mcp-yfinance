{
 "cells": [
  {
   "cell_type": "code",
   "execution_count": 1,
   "id": "c65ad85a",
   "metadata": {},
   "outputs": [
    {
     "name": "stdout",
     "output_type": "stream",
     "text": [
      "Requirement already satisfied: pandas>=2.0.0 in /Users/arturoquiroga/GITHUB/TRADE-AI/.venv/lib/python3.13/site-packages (2.3.2)\n",
      "Requirement already satisfied: numpy in /Users/arturoquiroga/GITHUB/TRADE-AI/.venv/lib/python3.13/site-packages (2.3.2)\n",
      "Requirement already satisfied: plotly in /Users/arturoquiroga/GITHUB/TRADE-AI/.venv/lib/python3.13/site-packages (6.3.0)\n",
      "Requirement already satisfied: nbformat>=5.2.0 in /Users/arturoquiroga/GITHUB/TRADE-AI/.venv/lib/python3.13/site-packages (5.10.4)\n",
      "Requirement already satisfied: ipython in /Users/arturoquiroga/GITHUB/TRADE-AI/.venv/lib/python3.13/site-packages (9.4.0)\n",
      "Requirement already satisfied: python-dateutil>=2.8.2 in /Users/arturoquiroga/GITHUB/TRADE-AI/.venv/lib/python3.13/site-packages (from pandas>=2.0.0) (2.9.0.post0)\n",
      "Requirement already satisfied: pytz>=2020.1 in /Users/arturoquiroga/GITHUB/TRADE-AI/.venv/lib/python3.13/site-packages (from pandas>=2.0.0) (2025.2)\n",
      "Requirement already satisfied: tzdata>=2022.7 in /Users/arturoquiroga/GITHUB/TRADE-AI/.venv/lib/python3.13/site-packages (from pandas>=2.0.0) (2025.2)\n",
      "Requirement already satisfied: narwhals>=1.15.1 in /Users/arturoquiroga/GITHUB/TRADE-AI/.venv/lib/python3.13/site-packages (from plotly) (2.1.2)\n",
      "Requirement already satisfied: packaging in /Users/arturoquiroga/GITHUB/TRADE-AI/.venv/lib/python3.13/site-packages (from plotly) (25.0)\n",
      "Requirement already satisfied: fastjsonschema>=2.15 in /Users/arturoquiroga/GITHUB/TRADE-AI/.venv/lib/python3.13/site-packages (from nbformat>=5.2.0) (2.21.2)\n",
      "Requirement already satisfied: jsonschema>=2.6 in /Users/arturoquiroga/GITHUB/TRADE-AI/.venv/lib/python3.13/site-packages (from nbformat>=5.2.0) (4.25.1)\n",
      "Requirement already satisfied: jupyter-core!=5.0.*,>=4.12 in /Users/arturoquiroga/GITHUB/TRADE-AI/.venv/lib/python3.13/site-packages (from nbformat>=5.2.0) (5.8.1)\n",
      "Requirement already satisfied: traitlets>=5.1 in /Users/arturoquiroga/GITHUB/TRADE-AI/.venv/lib/python3.13/site-packages (from nbformat>=5.2.0) (5.14.3)\n",
      "Requirement already satisfied: decorator in /Users/arturoquiroga/GITHUB/TRADE-AI/.venv/lib/python3.13/site-packages (from ipython) (5.2.1)\n",
      "Requirement already satisfied: ipython-pygments-lexers in /Users/arturoquiroga/GITHUB/TRADE-AI/.venv/lib/python3.13/site-packages (from ipython) (1.1.1)\n",
      "Requirement already satisfied: jedi>=0.16 in /Users/arturoquiroga/GITHUB/TRADE-AI/.venv/lib/python3.13/site-packages (from ipython) (0.19.2)\n",
      "Requirement already satisfied: matplotlib-inline in /Users/arturoquiroga/GITHUB/TRADE-AI/.venv/lib/python3.13/site-packages (from ipython) (0.1.7)\n",
      "Requirement already satisfied: pexpect>4.3 in /Users/arturoquiroga/GITHUB/TRADE-AI/.venv/lib/python3.13/site-packages (from ipython) (4.9.0)\n",
      "Requirement already satisfied: prompt_toolkit<3.1.0,>=3.0.41 in /Users/arturoquiroga/GITHUB/TRADE-AI/.venv/lib/python3.13/site-packages (from ipython) (3.0.51)\n",
      "Requirement already satisfied: pygments>=2.4.0 in /Users/arturoquiroga/GITHUB/TRADE-AI/.venv/lib/python3.13/site-packages (from ipython) (2.19.2)\n",
      "Requirement already satisfied: stack_data in /Users/arturoquiroga/GITHUB/TRADE-AI/.venv/lib/python3.13/site-packages (from ipython) (0.6.3)\n",
      "Requirement already satisfied: wcwidth in /Users/arturoquiroga/GITHUB/TRADE-AI/.venv/lib/python3.13/site-packages (from prompt_toolkit<3.1.0,>=3.0.41->ipython) (0.2.13)\n",
      "Requirement already satisfied: parso<0.9.0,>=0.8.4 in /Users/arturoquiroga/GITHUB/TRADE-AI/.venv/lib/python3.13/site-packages (from jedi>=0.16->ipython) (0.8.5)\n",
      "Requirement already satisfied: attrs>=22.2.0 in /Users/arturoquiroga/GITHUB/TRADE-AI/.venv/lib/python3.13/site-packages (from jsonschema>=2.6->nbformat>=5.2.0) (23.2.0)\n",
      "Requirement already satisfied: jsonschema-specifications>=2023.03.6 in /Users/arturoquiroga/GITHUB/TRADE-AI/.venv/lib/python3.13/site-packages (from jsonschema>=2.6->nbformat>=5.2.0) (2025.4.1)\n",
      "Requirement already satisfied: referencing>=0.28.4 in /Users/arturoquiroga/GITHUB/TRADE-AI/.venv/lib/python3.13/site-packages (from jsonschema>=2.6->nbformat>=5.2.0) (0.36.2)\n",
      "Requirement already satisfied: rpds-py>=0.7.1 in /Users/arturoquiroga/GITHUB/TRADE-AI/.venv/lib/python3.13/site-packages (from jsonschema>=2.6->nbformat>=5.2.0) (0.27.0)\n",
      "Requirement already satisfied: platformdirs>=2.5 in /Users/arturoquiroga/GITHUB/TRADE-AI/.venv/lib/python3.13/site-packages (from jupyter-core!=5.0.*,>=4.12->nbformat>=5.2.0) (4.3.8)\n",
      "Requirement already satisfied: ptyprocess>=0.5 in /Users/arturoquiroga/GITHUB/TRADE-AI/.venv/lib/python3.13/site-packages (from pexpect>4.3->ipython) (0.7.0)\n",
      "Requirement already satisfied: six>=1.5 in /Users/arturoquiroga/GITHUB/TRADE-AI/.venv/lib/python3.13/site-packages (from python-dateutil>=2.8.2->pandas>=2.0.0) (1.17.0)\n",
      "Requirement already satisfied: executing>=1.2.0 in /Users/arturoquiroga/GITHUB/TRADE-AI/.venv/lib/python3.13/site-packages (from stack_data->ipython) (2.2.0)\n",
      "Requirement already satisfied: asttokens>=2.1.0 in /Users/arturoquiroga/GITHUB/TRADE-AI/.venv/lib/python3.13/site-packages (from stack_data->ipython) (3.0.0)\n",
      "Requirement already satisfied: pure-eval in /Users/arturoquiroga/GITHUB/TRADE-AI/.venv/lib/python3.13/site-packages (from stack_data->ipython) (0.2.3)\n",
      "pandas 2.3.2 | numpy 2.3.2 | plotly 6.3.0\n"
     ]
    }
   ],
   "source": [
    "# Install dependencies (pandas, numpy, plotly, nbformat, ipython)\n",
    "import sys, subprocess\n",
    "pkgs = ['pandas>=2.0.0', 'numpy', 'plotly', 'nbformat>=5.2.0', 'ipython']\n",
    "subprocess.check_call([sys.executable, '-m', 'pip', 'install', *pkgs])\n",
    "import pandas as pd, numpy as np, plotly\n",
    "print('pandas', pd.__version__, '| numpy', np.__version__, '| plotly', plotly.__version__)"
   ]
  },
  {
   "cell_type": "markdown",
   "id": "cc86a335",
   "metadata": {},
   "source": [
    "# Price + Indicators (SMA/EMA) and RSI\n",
    "\n",
    "This notebook loads CSVs generated by `scripts/mcp_yfinance_dump.py` from the `data/` folder and plots:\n",
    "- Close price with SMA/EMA overlays\n",
    "- RSI(14) on a second panel\n",
    "\n",
    "Notes:\n",
    "- If the history CSV doesn't include a date column, we use the row index as X-axis.\n",
    "- If `*_features.csv` is missing, we compute the same features inline.\n",
    "- If dividends CSV has a date column that aligns with history, we'll plot dividend markers."
   ]
  },
  {
   "cell_type": "code",
   "execution_count": 2,
   "id": "6f047045",
   "metadata": {},
   "outputs": [
    {
     "name": "stdout",
     "output_type": "stream",
     "text": [
      "Plotly renderer: vscode\n"
     ]
    }
   ],
   "source": [
    "# Imports and plotly renderer fallback\n",
    "import sys, subprocess, os\n",
    "try:\n",
    "    import plotly\n",
    "except Exception:\n",
    "    subprocess.check_call([sys.executable, '-m', 'pip', 'install', 'plotly'])\n",
    "\n",
    "import pandas as pd\n",
    "import numpy as np\n",
    "import plotly.graph_objects as go\n",
    "from plotly.subplots import make_subplots\n",
    "import plotly.io as pio\n",
    "\n",
    "# Choose the safest renderer for VS Code/Jupyter\n",
    "def _choose_plotly_renderer():\n",
    "    # 1) Prefer VS Code renderer when running inside VS Code\n",
    "    try:\n",
    "        if ('VSCODE_PID' in os.environ or 'VSCODE_CWD' in os.environ) and 'vscode' in pio.renderers:\n",
    "            pio.renderers.default = 'vscode'\n",
    "            return\n",
    "    except Exception:\n",
    "        pass\n",
    "    # 2) If nbformat is available, use inline notebook rendering\n",
    "    try:\n",
    "        import nbformat as _nb  # noqa: F401\n",
    "        pio.renderers.default = 'notebook_connected'\n",
    "        return\n",
    "    except Exception:\n",
    "        pass\n",
    "    # 3) Otherwise, fall back to an iframe or browser\n",
    "    try:\n",
    "        if 'iframe_connected' in pio.renderers:\n",
    "            pio.renderers.default = 'iframe_connected'\n",
    "            return\n",
    "    except Exception:\n",
    "        pass\n",
    "    pio.renderers.default = 'browser'\n",
    "\n",
    "_choose_plotly_renderer()\n",
    "print(f\"Plotly renderer: {pio.renderers.default}\")"
   ]
  },
  {
   "cell_type": "code",
   "execution_count": 3,
   "id": "1f19a3d3",
   "metadata": {},
   "outputs": [],
   "source": [
    "# Parameters\n",
    "DATA_DIR = '/Users/arturoquiroga/GITHUB/TRADE-AI/data'\n",
    "SYMBOL = 'MSFT'  # change to 'MSFT' to view Microsoft"
   ]
  },
  {
   "cell_type": "code",
   "execution_count": 4,
   "id": "29948303",
   "metadata": {},
   "outputs": [],
   "source": [
    "# Helpers: load CSVs, ensure a usable X axis, compute indicators if needed\n",
    "def load_history(symbol: str, base_dir: str = DATA_DIR) -> pd.DataFrame:\n",
    "    path = os.path.join(base_dir, f'{symbol}_history.csv')\n",
    "    if not os.path.exists(path):\n",
    "        raise FileNotFoundError(f'Missing history CSV: {path}')\n",
    "    df = pd.read_csv(path)\n",
    "    # Try to find a date-like column\n",
    "    date_col = None\n",
    "    for c in df.columns:\n",
    "        cl = str(c).lower()\n",
    "        if 'date' in cl or 'time' in cl:\n",
    "            date_col = c\n",
    "            break\n",
    "    if date_col:\n",
    "        df[date_col] = pd.to_datetime(df[date_col], errors='coerce', utc=True)\n",
    "        df = df.dropna(subset=[date_col])\n",
    "        df = df.sort_values(by=date_col).reset_index(drop=True)\n",
    "        df = df.set_index(date_col)\n",
    "    else:\n",
    "        # Use integer index when no date is present\n",
    "        df.index.name = 'index'\n",
    "    return df\n",
    "\n",
    "def compute_indicators(df: pd.DataFrame) -> pd.DataFrame:\n",
    "    out = df.copy()\n",
    "    # Locate a close price column\n",
    "    close_col = None\n",
    "    for c in out.columns:\n",
    "        cl = str(c).lower()\n",
    "        if cl in ('close', 'adj close', 'adj_close', 'adjclose'):\n",
    "            close_col = c\n",
    "            break\n",
    "    if close_col is None:\n",
    "        return out\n",
    "    price = pd.to_numeric(out[close_col], errors='coerce')\n",
    "    out['sma_10'] = price.rolling(window=10, min_periods=1).mean()\n",
    "    out['sma_20'] = price.rolling(window=20, min_periods=1).mean()\n",
    "    out['sma_50'] = price.rolling(window=50, min_periods=1).mean()\n",
    "    out['ema_12'] = price.ewm(span=12, adjust=False, min_periods=1).mean()\n",
    "    out['ema_26'] = price.ewm(span=26, adjust=False, min_periods=1).mean()\n",
    "    # RSI(14)\n",
    "    delta = price.diff()\n",
    "    gain = delta.clip(lower=0)\n",
    "    loss = -delta.clip(upper=0)\n",
    "    avg_gain = gain.rolling(window=14, min_periods=14).mean()\n",
    "    avg_loss = loss.rolling(window=14, min_periods=14).mean()\n",
    "    rs = avg_gain / avg_loss.replace(0, np.nan)\n",
    "    out['rsi_14'] = 100 - (100 / (1 + rs))\n",
    "    return out\n",
    "\n",
    "def load_features(symbol: str, base_dir: str = DATA_DIR) -> pd.DataFrame:\n",
    "    path = os.path.join(base_dir, f'{symbol}_features.csv')\n",
    "    if not os.path.exists(path):\n",
    "        return pd.DataFrame()\n",
    "    df = pd.read_csv(path)\n",
    "    # If features has a date-like column, align on it\n",
    "    for c in df.columns:\n",
    "        if 'date' in str(c).lower():\n",
    "            df[c] = pd.to_datetime(df[c], errors='coerce', utc=True)\n",
    "            df = df.dropna(subset=[c]).sort_values(by=c).reset_index(drop=True).set_index(c)\n",
    "            return df\n",
    "    df.index.name = 'index'\n",
    "    return df\n",
    "\n",
    "def load_dividends(symbol: str, base_dir: str = DATA_DIR) -> pd.DataFrame:\n",
    "    path = os.path.join(base_dir, f'{symbol}_dividends.csv')\n",
    "    if not os.path.exists(path):\n",
    "        return pd.DataFrame()\n",
    "    df = pd.read_csv(path)\n",
    "    # Expect columns like ['date', 'dividend']\n",
    "    date_col = None\n",
    "    for c in df.columns:\n",
    "        if 'date' in str(c).lower():\n",
    "            date_col = c\n",
    "            break\n",
    "    if date_col:\n",
    "        df[date_col] = pd.to_datetime(df[date_col], errors='coerce', utc=True)\n",
    "        df = df.dropna(subset=[date_col]).sort_values(by=date_col).reset_index(drop=True).set_index(date_col)\n",
    "    else:\n",
    "        df.index.name = 'index'\n",
    "    return df"
   ]
  },
  {
   "cell_type": "code",
   "execution_count": 5,
   "id": "13843365",
   "metadata": {},
   "outputs": [
    {
     "data": {
      "application/vnd.microsoft.datawrangler.viewer.v0+json": {
       "columns": [
        {
         "name": "index",
         "rawType": "int64",
         "type": "integer"
        },
        {
         "name": "Open",
         "rawType": "float64",
         "type": "float"
        },
        {
         "name": "High",
         "rawType": "float64",
         "type": "float"
        },
        {
         "name": "Low",
         "rawType": "float64",
         "type": "float"
        },
        {
         "name": "Close",
         "rawType": "float64",
         "type": "float"
        },
        {
         "name": "Volume",
         "rawType": "int64",
         "type": "integer"
        },
        {
         "name": "Dividends",
         "rawType": "float64",
         "type": "float"
        },
        {
         "name": "Stock Splits",
         "rawType": "float64",
         "type": "float"
        },
        {
         "name": "sma_10",
         "rawType": "float64",
         "type": "float"
        },
        {
         "name": "sma_20",
         "rawType": "float64",
         "type": "float"
        },
        {
         "name": "sma_50",
         "rawType": "float64",
         "type": "float"
        },
        {
         "name": "ema_12",
         "rawType": "float64",
         "type": "float"
        },
        {
         "name": "ema_26",
         "rawType": "float64",
         "type": "float"
        },
        {
         "name": "rsi_14",
         "rawType": "float64",
         "type": "float"
        }
       ],
       "ref": "966d016f-a7c4-4480-8f7b-456417e6db8b",
       "rows": [
        [
         "0",
         "413.8728212285542",
         "416.1358302513444",
         "409.0192452654988",
         "413.6842346191406",
         "18493800",
         "0.0",
         "0.0",
         "413.6842346191406",
         "413.6842346191406",
         "413.6842346191406",
         "413.6842346191406",
         "413.6842346191406",
         null
        ],
        [
         "1",
         "413.2673576122786",
         "414.1705802586453",
         "408.2748405512739",
         "410.4088134765625",
         "13152800",
         "0.0",
         "0.0",
         "412.0465240478515",
         "412.0465240478515",
         "412.0465240478515",
         "413.1803236741286",
         "413.4416108308015",
         null
        ],
        [
         "2",
         "409.78348680566967",
         "411.2723092927535",
         "407.1929502174259",
         "410.7561950683594",
         "13492900",
         "0.0",
         "0.0",
         "411.6164143880208",
         "411.6164143880208",
         "411.6164143880208",
         "412.80738081170256",
         "413.2426911446947",
         null
        ],
        [
         "3",
         "411.7885114866768",
         "411.9076124558987",
         "404.2749123464537",
         "407.5404052734375",
         "14882700",
         "0.0",
         "0.0",
         "410.597412109375",
         "410.597412109375",
         "410.597412109375",
         "411.9970768827387",
         "412.8202995986756",
         null
        ],
        [
         "4",
         "411.8480408399638",
         "418.9050455158515",
         "407.5403843631331",
         "410.0415954589844",
         "17045200",
         "0.0",
         "0.0",
         "410.4862487792969",
         "410.4862487792969",
         "410.4862487792969",
         "411.69623358677654",
         "412.6144696624022",
         null
        ]
       ],
       "shape": {
        "columns": 13,
        "rows": 5
       }
      },
      "text/html": [
       "<div>\n",
       "<style scoped>\n",
       "    .dataframe tbody tr th:only-of-type {\n",
       "        vertical-align: middle;\n",
       "    }\n",
       "\n",
       "    .dataframe tbody tr th {\n",
       "        vertical-align: top;\n",
       "    }\n",
       "\n",
       "    .dataframe thead th {\n",
       "        text-align: right;\n",
       "    }\n",
       "</style>\n",
       "<table border=\"1\" class=\"dataframe\">\n",
       "  <thead>\n",
       "    <tr style=\"text-align: right;\">\n",
       "      <th></th>\n",
       "      <th>Open</th>\n",
       "      <th>High</th>\n",
       "      <th>Low</th>\n",
       "      <th>Close</th>\n",
       "      <th>Volume</th>\n",
       "      <th>Dividends</th>\n",
       "      <th>Stock Splits</th>\n",
       "      <th>sma_10</th>\n",
       "      <th>sma_20</th>\n",
       "      <th>sma_50</th>\n",
       "      <th>ema_12</th>\n",
       "      <th>ema_26</th>\n",
       "      <th>rsi_14</th>\n",
       "    </tr>\n",
       "    <tr>\n",
       "      <th>index</th>\n",
       "      <th></th>\n",
       "      <th></th>\n",
       "      <th></th>\n",
       "      <th></th>\n",
       "      <th></th>\n",
       "      <th></th>\n",
       "      <th></th>\n",
       "      <th></th>\n",
       "      <th></th>\n",
       "      <th></th>\n",
       "      <th></th>\n",
       "      <th></th>\n",
       "      <th></th>\n",
       "    </tr>\n",
       "  </thead>\n",
       "  <tbody>\n",
       "    <tr>\n",
       "      <th>0</th>\n",
       "      <td>413.872821</td>\n",
       "      <td>416.135830</td>\n",
       "      <td>409.019245</td>\n",
       "      <td>413.684235</td>\n",
       "      <td>18493800</td>\n",
       "      <td>0.0</td>\n",
       "      <td>0.0</td>\n",
       "      <td>413.684235</td>\n",
       "      <td>413.684235</td>\n",
       "      <td>413.684235</td>\n",
       "      <td>413.684235</td>\n",
       "      <td>413.684235</td>\n",
       "      <td>NaN</td>\n",
       "    </tr>\n",
       "    <tr>\n",
       "      <th>1</th>\n",
       "      <td>413.267358</td>\n",
       "      <td>414.170580</td>\n",
       "      <td>408.274841</td>\n",
       "      <td>410.408813</td>\n",
       "      <td>13152800</td>\n",
       "      <td>0.0</td>\n",
       "      <td>0.0</td>\n",
       "      <td>412.046524</td>\n",
       "      <td>412.046524</td>\n",
       "      <td>412.046524</td>\n",
       "      <td>413.180324</td>\n",
       "      <td>413.441611</td>\n",
       "      <td>NaN</td>\n",
       "    </tr>\n",
       "    <tr>\n",
       "      <th>2</th>\n",
       "      <td>409.783487</td>\n",
       "      <td>411.272309</td>\n",
       "      <td>407.192950</td>\n",
       "      <td>410.756195</td>\n",
       "      <td>13492900</td>\n",
       "      <td>0.0</td>\n",
       "      <td>0.0</td>\n",
       "      <td>411.616414</td>\n",
       "      <td>411.616414</td>\n",
       "      <td>411.616414</td>\n",
       "      <td>412.807381</td>\n",
       "      <td>413.242691</td>\n",
       "      <td>NaN</td>\n",
       "    </tr>\n",
       "    <tr>\n",
       "      <th>3</th>\n",
       "      <td>411.788511</td>\n",
       "      <td>411.907612</td>\n",
       "      <td>404.274912</td>\n",
       "      <td>407.540405</td>\n",
       "      <td>14882700</td>\n",
       "      <td>0.0</td>\n",
       "      <td>0.0</td>\n",
       "      <td>410.597412</td>\n",
       "      <td>410.597412</td>\n",
       "      <td>410.597412</td>\n",
       "      <td>411.997077</td>\n",
       "      <td>412.820300</td>\n",
       "      <td>NaN</td>\n",
       "    </tr>\n",
       "    <tr>\n",
       "      <th>4</th>\n",
       "      <td>411.848041</td>\n",
       "      <td>418.905046</td>\n",
       "      <td>407.540384</td>\n",
       "      <td>410.041595</td>\n",
       "      <td>17045200</td>\n",
       "      <td>0.0</td>\n",
       "      <td>0.0</td>\n",
       "      <td>410.486249</td>\n",
       "      <td>410.486249</td>\n",
       "      <td>410.486249</td>\n",
       "      <td>411.696234</td>\n",
       "      <td>412.614470</td>\n",
       "      <td>NaN</td>\n",
       "    </tr>\n",
       "  </tbody>\n",
       "</table>\n",
       "</div>"
      ],
      "text/plain": [
       "             Open        High         Low       Close    Volume  Dividends  \\\n",
       "index                                                                        \n",
       "0      413.872821  416.135830  409.019245  413.684235  18493800        0.0   \n",
       "1      413.267358  414.170580  408.274841  410.408813  13152800        0.0   \n",
       "2      409.783487  411.272309  407.192950  410.756195  13492900        0.0   \n",
       "3      411.788511  411.907612  404.274912  407.540405  14882700        0.0   \n",
       "4      411.848041  418.905046  407.540384  410.041595  17045200        0.0   \n",
       "\n",
       "       Stock Splits      sma_10      sma_20      sma_50      ema_12  \\\n",
       "index                                                                 \n",
       "0               0.0  413.684235  413.684235  413.684235  413.684235   \n",
       "1               0.0  412.046524  412.046524  412.046524  413.180324   \n",
       "2               0.0  411.616414  411.616414  411.616414  412.807381   \n",
       "3               0.0  410.597412  410.597412  410.597412  411.997077   \n",
       "4               0.0  410.486249  410.486249  410.486249  411.696234   \n",
       "\n",
       "           ema_26  rsi_14  \n",
       "index                      \n",
       "0      413.684235     NaN  \n",
       "1      413.441611     NaN  \n",
       "2      413.242691     NaN  \n",
       "3      412.820300     NaN  \n",
       "4      412.614470     NaN  "
      ]
     },
     "execution_count": 5,
     "metadata": {},
     "output_type": "execute_result"
    }
   ],
   "source": [
    "# Load data\n",
    "hist = load_history(SYMBOL)\n",
    "feat = load_features(SYMBOL)\n",
    "if feat.empty:\n",
    "    feat = compute_indicators(hist)\n",
    "divs = load_dividends(SYMBOL)\n",
    "\n",
    "# Merge features into history on index\n",
    "df = hist.join(feat[[c for c in feat.columns if c not in hist.columns]], how='left')\n",
    "df.head()"
   ]
  },
  {
   "cell_type": "code",
   "execution_count": 6,
   "id": "6bf14353",
   "metadata": {},
   "outputs": [
    {
     "data": {
      "application/vnd.plotly.v1+json": {
       "config": {
        "plotlyServerURL": "https://plot.ly"
       },
       "data": [
        {
         "line": {
          "color": "#1f77b4"
         },
         "name": "Close",
         "type": "scatter",
         "x": {
          "bdata": "AAABAAIAAwAEAAUABgAHAAgACQAKAAsADAANAA4ADwAQABEAEgATABQAFQAWABcAGAAZABoAGwAcAB0AHgAfACAAIQAiACMAJAAlACYAJwAoACkAKgArACwALQAuAC8AMAAxADIAMwA0ADUANgA3ADgAOQA6ADsAPAA9AD4APwBAAEEAQgBDAEQARQBGAEcASABJAEoASwBMAE0ATgBPAFAAUQBSAFMAVABVAFYAVwBYAFkAWgBbAFwAXQBeAF8AYABhAGIAYwBkAGUAZgBnAGgAaQBqAGsAbABtAG4AbwBwAHEAcgBzAHQAdQB2AHcAeAB5AHoAewB8AH0AfgB/AIAAgQCCAIMAhACFAIYAhwCIAIkAigCLAIwAjQCOAI8AkACRAJIAkwCUAJUAlgCXAJgAmQCaAJsAnACdAJ4AnwCgAKEAogCjAKQApQCmAKcAqACpAKoAqwCsAK0ArgCvALAAsQCyALMAtAC1ALYAtwC4ALkAugC7ALwAvQC+AL8AwADBAMIAwwDEAMUAxgDHAMgAyQDKAMsAzADNAM4AzwDQANEA0gDTANQA1QDWANcA2ADZANoA2wDcAN0A3gDfAOAA4QDiAOMA5ADlAOYA5wDoAOkA6gDrAOwA7QDuAO8A8ADxAPIA8wD0APUA9gD3APgA+QA=",
          "dtype": "i2"
         },
         "xaxis": "x",
         "y": {
          "bdata": "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",
          "dtype": "f8"
         },
         "yaxis": "y"
        },
        {
         "line": {
          "width": 1
         },
         "name": "SMA_10",
         "type": "scatter",
         "x": {
          "bdata": "AAABAAIAAwAEAAUABgAHAAgACQAKAAsADAANAA4ADwAQABEAEgATABQAFQAWABcAGAAZABoAGwAcAB0AHgAfACAAIQAiACMAJAAlACYAJwAoACkAKgArACwALQAuAC8AMAAxADIAMwA0ADUANgA3ADgAOQA6ADsAPAA9AD4APwBAAEEAQgBDAEQARQBGAEcASABJAEoASwBMAE0ATgBPAFAAUQBSAFMAVABVAFYAVwBYAFkAWgBbAFwAXQBeAF8AYABhAGIAYwBkAGUAZgBnAGgAaQBqAGsAbABtAG4AbwBwAHEAcgBzAHQAdQB2AHcAeAB5AHoAewB8AH0AfgB/AIAAgQCCAIMAhACFAIYAhwCIAIkAigCLAIwAjQCOAI8AkACRAJIAkwCUAJUAlgCXAJgAmQCaAJsAnACdAJ4AnwCgAKEAogCjAKQApQCmAKcAqACpAKoAqwCsAK0ArgCvALAAsQCyALMAtAC1ALYAtwC4ALkAugC7ALwAvQC+AL8AwADBAMIAwwDEAMUAxgDHAMgAyQDKAMsAzADNAM4AzwDQANEA0gDTANQA1QDWANcA2ADZANoA2wDcAN0A3gDfAOAA4QDiAOMA5ADlAOYA5wDoAOkA6gDrAOwA7QDuAO8A8ADxAPIA8wD0APUA9gD3APgA+QA=",
          "dtype": "i2"
         },
         "xaxis": "x",
         "y": {
          "bdata": "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",
          "dtype": "f8"
         },
         "yaxis": "y"
        },
        {
         "line": {
          "width": 1
         },
         "name": "SMA_20",
         "type": "scatter",
         "x": {
          "bdata": "AAABAAIAAwAEAAUABgAHAAgACQAKAAsADAANAA4ADwAQABEAEgATABQAFQAWABcAGAAZABoAGwAcAB0AHgAfACAAIQAiACMAJAAlACYAJwAoACkAKgArACwALQAuAC8AMAAxADIAMwA0ADUANgA3ADgAOQA6ADsAPAA9AD4APwBAAEEAQgBDAEQARQBGAEcASABJAEoASwBMAE0ATgBPAFAAUQBSAFMAVABVAFYAVwBYAFkAWgBbAFwAXQBeAF8AYABhAGIAYwBkAGUAZgBnAGgAaQBqAGsAbABtAG4AbwBwAHEAcgBzAHQAdQB2AHcAeAB5AHoAewB8AH0AfgB/AIAAgQCCAIMAhACFAIYAhwCIAIkAigCLAIwAjQCOAI8AkACRAJIAkwCUAJUAlgCXAJgAmQCaAJsAnACdAJ4AnwCgAKEAogCjAKQApQCmAKcAqACpAKoAqwCsAK0ArgCvALAAsQCyALMAtAC1ALYAtwC4ALkAugC7ALwAvQC+AL8AwADBAMIAwwDEAMUAxgDHAMgAyQDKAMsAzADNAM4AzwDQANEA0gDTANQA1QDWANcA2ADZANoA2wDcAN0A3gDfAOAA4QDiAOMA5ADlAOYA5wDoAOkA6gDrAOwA7QDuAO8A8ADxAPIA8wD0APUA9gD3APgA+QA=",
          "dtype": "i2"
         },
         "xaxis": "x",
         "y": {
          "bdata": "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",
          "dtype": "f8"
         },
         "yaxis": "y"
        },
        {
         "line": {
          "width": 1
         },
         "name": "SMA_50",
         "type": "scatter",
         "x": {
          "bdata": "AAABAAIAAwAEAAUABgAHAAgACQAKAAsADAANAA4ADwAQABEAEgATABQAFQAWABcAGAAZABoAGwAcAB0AHgAfACAAIQAiACMAJAAlACYAJwAoACkAKgArACwALQAuAC8AMAAxADIAMwA0ADUANgA3ADgAOQA6ADsAPAA9AD4APwBAAEEAQgBDAEQARQBGAEcASABJAEoASwBMAE0ATgBPAFAAUQBSAFMAVABVAFYAVwBYAFkAWgBbAFwAXQBeAF8AYABhAGIAYwBkAGUAZgBnAGgAaQBqAGsAbABtAG4AbwBwAHEAcgBzAHQAdQB2AHcAeAB5AHoAewB8AH0AfgB/AIAAgQCCAIMAhACFAIYAhwCIAIkAigCLAIwAjQCOAI8AkACRAJIAkwCUAJUAlgCXAJgAmQCaAJsAnACdAJ4AnwCgAKEAogCjAKQApQCmAKcAqACpAKoAqwCsAK0ArgCvALAAsQCyALMAtAC1ALYAtwC4ALkAugC7ALwAvQC+AL8AwADBAMIAwwDEAMUAxgDHAMgAyQDKAMsAzADNAM4AzwDQANEA0gDTANQA1QDWANcA2ADZANoA2wDcAN0A3gDfAOAA4QDiAOMA5ADlAOYA5wDoAOkA6gDrAOwA7QDuAO8A8ADxAPIA8wD0APUA9gD3APgA+QA=",
          "dtype": "i2"
         },
         "xaxis": "x",
         "y": {
          "bdata": "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",
          "dtype": "f8"
         },
         "yaxis": "y"
        },
        {
         "line": {
          "width": 1
         },
         "name": "EMA_12",
         "type": "scatter",
         "x": {
          "bdata": "AAABAAIAAwAEAAUABgAHAAgACQAKAAsADAANAA4ADwAQABEAEgATABQAFQAWABcAGAAZABoAGwAcAB0AHgAfACAAIQAiACMAJAAlACYAJwAoACkAKgArACwALQAuAC8AMAAxADIAMwA0ADUANgA3ADgAOQA6ADsAPAA9AD4APwBAAEEAQgBDAEQARQBGAEcASABJAEoASwBMAE0ATgBPAFAAUQBSAFMAVABVAFYAVwBYAFkAWgBbAFwAXQBeAF8AYABhAGIAYwBkAGUAZgBnAGgAaQBqAGsAbABtAG4AbwBwAHEAcgBzAHQAdQB2AHcAeAB5AHoAewB8AH0AfgB/AIAAgQCCAIMAhACFAIYAhwCIAIkAigCLAIwAjQCOAI8AkACRAJIAkwCUAJUAlgCXAJgAmQCaAJsAnACdAJ4AnwCgAKEAogCjAKQApQCmAKcAqACpAKoAqwCsAK0ArgCvALAAsQCyALMAtAC1ALYAtwC4ALkAugC7ALwAvQC+AL8AwADBAMIAwwDEAMUAxgDHAMgAyQDKAMsAzADNAM4AzwDQANEA0gDTANQA1QDWANcA2ADZANoA2wDcAN0A3gDfAOAA4QDiAOMA5ADlAOYA5wDoAOkA6gDrAOwA7QDuAO8A8ADxAPIA8wD0APUA9gD3APgA+QA=",
          "dtype": "i2"
         },
         "xaxis": "x",
         "y": {
          "bdata": "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",
          "dtype": "f8"
         },
         "yaxis": "y"
        },
        {
         "line": {
          "width": 1
         },
         "name": "EMA_26",
         "type": "scatter",
         "x": {
          "bdata": "AAABAAIAAwAEAAUABgAHAAgACQAKAAsADAANAA4ADwAQABEAEgATABQAFQAWABcAGAAZABoAGwAcAB0AHgAfACAAIQAiACMAJAAlACYAJwAoACkAKgArACwALQAuAC8AMAAxADIAMwA0ADUANgA3ADgAOQA6ADsAPAA9AD4APwBAAEEAQgBDAEQARQBGAEcASABJAEoASwBMAE0ATgBPAFAAUQBSAFMAVABVAFYAVwBYAFkAWgBbAFwAXQBeAF8AYABhAGIAYwBkAGUAZgBnAGgAaQBqAGsAbABtAG4AbwBwAHEAcgBzAHQAdQB2AHcAeAB5AHoAewB8AH0AfgB/AIAAgQCCAIMAhACFAIYAhwCIAIkAigCLAIwAjQCOAI8AkACRAJIAkwCUAJUAlgCXAJgAmQCaAJsAnACdAJ4AnwCgAKEAogCjAKQApQCmAKcAqACpAKoAqwCsAK0ArgCvALAAsQCyALMAtAC1ALYAtwC4ALkAugC7ALwAvQC+AL8AwADBAMIAwwDEAMUAxgDHAMgAyQDKAMsAzADNAM4AzwDQANEA0gDTANQA1QDWANcA2ADZANoA2wDcAN0A3gDfAOAA4QDiAOMA5ADlAOYA5wDoAOkA6gDrAOwA7QDuAO8A8ADxAPIA8wD0APUA9gD3APgA+QA=",
          "dtype": "i2"
         },
         "xaxis": "x",
         "y": {
          "bdata": "AAAAoPLaeUChvYTWENd5QOEXHBDi03lAvdN48h/NeUBtBiTe1Ml5QCOnidmCy3lABBY9KALEeUAgmSUebbx5QESXlEbOtHlA1v24Q+GleUAvnwDnyZx5QPN2OatYnnlAp2TWBjCqeUDx4Qhez7l5QCvkspR/zHlA733xRK/eeUB+rbl4AfR5QE9L7mOkAnpAeMqQyXYZekAtUwF9kip6QMu+98FXOHpA9Rh97Pw/ekASKsl5hkp6QC211kpXU3pAnPN6JqJXekBNZlU7Sl56QGQJYhMmWXpAEUtRVDNQekDqdOyZOEd6QHANopVXPnpAcgyWd3MuekA5oyKe0SV6QNYu55sPIXpAOXcF+78aekCANbmQeBV6QIoxQ4HmE3pA1UArwfkRekCDRbZ+HA16QGYt2CtQCXpAcVlph30HekDHZa0liAZ6QMtBOPjpD3pASn9jiS0VekDuT/1wNBp6QH5TXO3hInpAdAFMEhUpekClaTPMIDV6QB7K0MH2QHpA7CwNRCAtekCPPPmRfB96QBM4A1OcEHpAjfEVm10GekCWBawpIwd6QFK5uxoHDnpA2yYDFAIRekDmSUVXcA56QHYxLRP3EXpAUSSScMgXekCNR5pqKB96QC1ocuf/F3pAkif4AEQSekDmnzEpWA96QN7yLRPvCXpALEmvd9ACekCbjx0XFwF6QCcmjYmaAXpAcOoQV+wMekDPXae9ghF6QGs6FvlPFnpA36fuTp8jekBS1CijNDB6QHIQoTowQ3pA7aaL8eRaekBr5lHK9nF6QKU9e282inpAJhOFj36dekBdz0v0BLZ6QL5EIEhmzXpAUeoKPlngekA4VJht/PZ6QCECoFlUD3tA+QHgy78Re0BFHme6kBN7QFxxcni9FHtAcnJzlTwUe0C17lddlBh7QMRhZKkpG3tAHivrtp4Ue0BLaoTd1wd7QPpFJXoW+HpAdutRvw7mekDqEtpI/Np6QIz+o6QJ1npAlSQAPP/KekC5bWgDW8N6QMgGtuaqtXpAnVsHReumekBiODaoeJd6QOnLApe1lXpAGiXm5QmSekDpBfub4pN6QIzfBGH4lHpASTeci9aqekBg1DHnr796QCDO2Efez3pA5avuMafTekDBb/lyDuZ6QF2gkTFb8XpAhYEx1pfbekD3ZBFLhsd6QDH1WxEQsHpAz1T2SAycekDJyXupmYp6QDX9tE5tfXpAyT9SJRNqekBlkHtIEVt6QKCr7aFATHpAGUB9ubQ7ekBsFTs1Jy56QBiPgv8dH3pAyuxlC58SekCCVnEDGQ16QAh2X+SRCnpAzmNYDOD+eUCi6isQE+95QOuDdFg92XlAEqDw/i7HeUB5D1oU9q15QJaJB/Tfm3lANt4/yhaBeUB0ZbbXbWh5QNSWQL5AYHlA4Rmk+c1TeUAvpi/UDER5QLrlnXjuJXlA5XUN8mIKeUDBPX5iNvR4QI17RbVd2nhAqO0QNv/NeEC3hluatcJ4QKG1Z9gjsnhASW+PaeCneECPXWhMN514QEwBo7+QmHhAa49UqmiWeEDxOHRi3pZ4QMMhYikqkXhA7cmAh5qMeEBg6iGod3p4QN4kpK6lZXhA4KZChWZaeEBe5t6E7U94QDEOedeQO3hAU65ADAoZeEBWx3RSu/Z3QN4gbGYR03dA9BR3XHvcd0AjmMNJZ9p3QPtTQ1fd4HdAGKOmXBfmd0BsxqNheeh3QJMD2vYA2ndAMzwM7hTId0DHJGpcQq13QBcP1JCEnXdA5jMQGeKXd0DejvLb6aF3QJ7ZWyOTsHdAM2GqxlW9d0ChF/M3jcx3QCOR6voU3HdAy7XPMQ8OeEBelTv1AEh4QL6mQAS1fnhAGDKRAfuteEAgswGlzNl4QNul27IQCHlAuU3xupAzeUDbgLmqR2h5QFhkabPymHlASJ9Ox3/KeUBpuW4xlvl5QBTbuwCJJnpAHUYD1phVekDrQJE1WIB6QDgDfapMoXpA3zt924XCekDNeWpsv9t6QAvstzmK/3pA20K9nb0ce0B1IegdVzl7QBfm6SnPVXtA5iC8DBNye0DBhgPabY17QNlW3YnSp3tAt7g+0MTEe0DZCU0KxOJ7QMDGY1VYAXxAUiDhbX4bfEBgOkKctzV8QH5SPbRkVXxAPJiXvhhufEAuGxGB6ol8QHaBuoVfonxADhncKJ+7fEAfPei/o898QE3QSMJZ7HxAsB/bRswLfUCQqzy/eCt9QEPO9antTn1AD5nj0/htfUB1EiiXdIx9QMO74rFWon1A7YeiCne1fUC2yf49WNB9QPRbCHfo531A9bMap2z8fUBoGFvYkhd+QCf6EU1PLn5ALsvE9olFfkDyGu9AsVp+QFtIFo+XcX5A2Y46CY+GfkAV4+CdKqF+QL7bjdTZt35Apmxd6N3MfkCaZI+GqNp+QEMkx10j6H5Ad1rLKYz6fkCnjDcd8Q5/QBbOdcpkIH9Aao92u6Iwf0Cl0Fqfd0B/QL+kNz4ZZ39ABqL6+8F/f0C6La+rO6R/QBSvq7arvH9AQlbhLfnPf0AO8Tiv/tx/QKX7r7546n9Av22sd6H2f0AudY0rXQWAQPt1jHaLCYBAzFD9O4oOgECgqbFrzBGAQCxk3df/EoBAA9gYVsYPgEAWotSWZAqAQJCfSUkGBYBAAQ99YdMBgEA=",
          "dtype": "f8"
         },
         "yaxis": "y"
        },
        {
         "line": {
          "color": "#17becf"
         },
         "name": "RSI(14)",
         "type": "scatter",
         "x": {
          "bdata": "AAABAAIAAwAEAAUABgAHAAgACQAKAAsADAANAA4ADwAQABEAEgATABQAFQAWABcAGAAZABoAGwAcAB0AHgAfACAAIQAiACMAJAAlACYAJwAoACkAKgArACwALQAuAC8AMAAxADIAMwA0ADUANgA3ADgAOQA6ADsAPAA9AD4APwBAAEEAQgBDAEQARQBGAEcASABJAEoASwBMAE0ATgBPAFAAUQBSAFMAVABVAFYAVwBYAFkAWgBbAFwAXQBeAF8AYABhAGIAYwBkAGUAZgBnAGgAaQBqAGsAbABtAG4AbwBwAHEAcgBzAHQAdQB2AHcAeAB5AHoAewB8AH0AfgB/AIAAgQCCAIMAhACFAIYAhwCIAIkAigCLAIwAjQCOAI8AkACRAJIAkwCUAJUAlgCXAJgAmQCaAJsAnACdAJ4AnwCgAKEAogCjAKQApQCmAKcAqACpAKoAqwCsAK0ArgCvALAAsQCyALMAtAC1ALYAtwC4ALkAugC7ALwAvQC+AL8AwADBAMIAwwDEAMUAxgDHAMgAyQDKAMsAzADNAM4AzwDQANEA0gDTANQA1QDWANcA2ADZANoA2wDcAN0A3gDfAOAA4QDiAOMA5ADlAOYA5wDoAOkA6gDrAOwA7QDuAO8A8ADxAPIA8wD0APUA9gD3APgA+QA=",
          "dtype": "i2"
         },
         "xaxis": "x2",
         "y": {
          "bdata": "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",
          "dtype": "f8"
         },
         "yaxis": "y2"
        }
       ],
       "layout": {
        "height": 700,
        "legend": {
         "orientation": "h"
        },
        "shapes": [
         {
          "line": {
           "color": "red",
           "dash": "dot"
          },
          "type": "line",
          "x0": 0,
          "x1": 1,
          "xref": "x2 domain",
          "y0": 70,
          "y1": 70,
          "yref": "y2"
         },
         {
          "line": {
           "color": "green",
           "dash": "dot"
          },
          "type": "line",
          "x0": 0,
          "x1": 1,
          "xref": "x2 domain",
          "y0": 30,
          "y1": 30,
          "yref": "y2"
         }
        ],
        "template": {
         "data": {
          "bar": [
           {
            "error_x": {
             "color": "#2a3f5f"
            },
            "error_y": {
             "color": "#2a3f5f"
            },
            "marker": {
             "line": {
              "color": "#E5ECF6",
              "width": 0.5
             },
             "pattern": {
              "fillmode": "overlay",
              "size": 10,
              "solidity": 0.2
             }
            },
            "type": "bar"
           }
          ],
          "barpolar": [
           {
            "marker": {
             "line": {
              "color": "#E5ECF6",
              "width": 0.5
             },
             "pattern": {
              "fillmode": "overlay",
              "size": 10,
              "solidity": 0.2
             }
            },
            "type": "barpolar"
           }
          ],
          "carpet": [
           {
            "aaxis": {
             "endlinecolor": "#2a3f5f",
             "gridcolor": "white",
             "linecolor": "white",
             "minorgridcolor": "white",
             "startlinecolor": "#2a3f5f"
            },
            "baxis": {
             "endlinecolor": "#2a3f5f",
             "gridcolor": "white",
             "linecolor": "white",
             "minorgridcolor": "white",
             "startlinecolor": "#2a3f5f"
            },
            "type": "carpet"
           }
          ],
          "choropleth": [
           {
            "colorbar": {
             "outlinewidth": 0,
             "ticks": ""
            },
            "type": "choropleth"
           }
          ],
          "contour": [
           {
            "colorbar": {
             "outlinewidth": 0,
             "ticks": ""
            },
            "colorscale": [
             [
              0,
              "#0d0887"
             ],
             [
              0.1111111111111111,
              "#46039f"
             ],
             [
              0.2222222222222222,
              "#7201a8"
             ],
             [
              0.3333333333333333,
              "#9c179e"
             ],
             [
              0.4444444444444444,
              "#bd3786"
             ],
             [
              0.5555555555555556,
              "#d8576b"
             ],
             [
              0.6666666666666666,
              "#ed7953"
             ],
             [
              0.7777777777777778,
              "#fb9f3a"
             ],
             [
              0.8888888888888888,
              "#fdca26"
             ],
             [
              1,
              "#f0f921"
             ]
            ],
            "type": "contour"
           }
          ],
          "contourcarpet": [
           {
            "colorbar": {
             "outlinewidth": 0,
             "ticks": ""
            },
            "type": "contourcarpet"
           }
          ],
          "heatmap": [
           {
            "colorbar": {
             "outlinewidth": 0,
             "ticks": ""
            },
            "colorscale": [
             [
              0,
              "#0d0887"
             ],
             [
              0.1111111111111111,
              "#46039f"
             ],
             [
              0.2222222222222222,
              "#7201a8"
             ],
             [
              0.3333333333333333,
              "#9c179e"
             ],
             [
              0.4444444444444444,
              "#bd3786"
             ],
             [
              0.5555555555555556,
              "#d8576b"
             ],
             [
              0.6666666666666666,
              "#ed7953"
             ],
             [
              0.7777777777777778,
              "#fb9f3a"
             ],
             [
              0.8888888888888888,
              "#fdca26"
             ],
             [
              1,
              "#f0f921"
             ]
            ],
            "type": "heatmap"
           }
          ],
          "histogram": [
           {
            "marker": {
             "pattern": {
              "fillmode": "overlay",
              "size": 10,
              "solidity": 0.2
             }
            },
            "type": "histogram"
           }
          ],
          "histogram2d": [
           {
            "colorbar": {
             "outlinewidth": 0,
             "ticks": ""
            },
            "colorscale": [
             [
              0,
              "#0d0887"
             ],
             [
              0.1111111111111111,
              "#46039f"
             ],
             [
              0.2222222222222222,
              "#7201a8"
             ],
             [
              0.3333333333333333,
              "#9c179e"
             ],
             [
              0.4444444444444444,
              "#bd3786"
             ],
             [
              0.5555555555555556,
              "#d8576b"
             ],
             [
              0.6666666666666666,
              "#ed7953"
             ],
             [
              0.7777777777777778,
              "#fb9f3a"
             ],
             [
              0.8888888888888888,
              "#fdca26"
             ],
             [
              1,
              "#f0f921"
             ]
            ],
            "type": "histogram2d"
           }
          ],
          "histogram2dcontour": [
           {
            "colorbar": {
             "outlinewidth": 0,
             "ticks": ""
            },
            "colorscale": [
             [
              0,
              "#0d0887"
             ],
             [
              0.1111111111111111,
              "#46039f"
             ],
             [
              0.2222222222222222,
              "#7201a8"
             ],
             [
              0.3333333333333333,
              "#9c179e"
             ],
             [
              0.4444444444444444,
              "#bd3786"
             ],
             [
              0.5555555555555556,
              "#d8576b"
             ],
             [
              0.6666666666666666,
              "#ed7953"
             ],
             [
              0.7777777777777778,
              "#fb9f3a"
             ],
             [
              0.8888888888888888,
              "#fdca26"
             ],
             [
              1,
              "#f0f921"
             ]
            ],
            "type": "histogram2dcontour"
           }
          ],
          "mesh3d": [
           {
            "colorbar": {
             "outlinewidth": 0,
             "ticks": ""
            },
            "type": "mesh3d"
           }
          ],
          "parcoords": [
           {
            "line": {
             "colorbar": {
              "outlinewidth": 0,
              "ticks": ""
             }
            },
            "type": "parcoords"
           }
          ],
          "pie": [
           {
            "automargin": true,
            "type": "pie"
           }
          ],
          "scatter": [
           {
            "fillpattern": {
             "fillmode": "overlay",
             "size": 10,
             "solidity": 0.2
            },
            "type": "scatter"
           }
          ],
          "scatter3d": [
           {
            "line": {
             "colorbar": {
              "outlinewidth": 0,
              "ticks": ""
             }
            },
            "marker": {
             "colorbar": {
              "outlinewidth": 0,
              "ticks": ""
             }
            },
            "type": "scatter3d"
           }
          ],
          "scattercarpet": [
           {
            "marker": {
             "colorbar": {
              "outlinewidth": 0,
              "ticks": ""
             }
            },
            "type": "scattercarpet"
           }
          ],
          "scattergeo": [
           {
            "marker": {
             "colorbar": {
              "outlinewidth": 0,
              "ticks": ""
             }
            },
            "type": "scattergeo"
           }
          ],
          "scattergl": [
           {
            "marker": {
             "colorbar": {
              "outlinewidth": 0,
              "ticks": ""
             }
            },
            "type": "scattergl"
           }
          ],
          "scattermap": [
           {
            "marker": {
             "colorbar": {
              "outlinewidth": 0,
              "ticks": ""
             }
            },
            "type": "scattermap"
           }
          ],
          "scattermapbox": [
           {
            "marker": {
             "colorbar": {
              "outlinewidth": 0,
              "ticks": ""
             }
            },
            "type": "scattermapbox"
           }
          ],
          "scatterpolar": [
           {
            "marker": {
             "colorbar": {
              "outlinewidth": 0,
              "ticks": ""
             }
            },
            "type": "scatterpolar"
           }
          ],
          "scatterpolargl": [
           {
            "marker": {
             "colorbar": {
              "outlinewidth": 0,
              "ticks": ""
             }
            },
            "type": "scatterpolargl"
           }
          ],
          "scatterternary": [
           {
            "marker": {
             "colorbar": {
              "outlinewidth": 0,
              "ticks": ""
             }
            },
            "type": "scatterternary"
           }
          ],
          "surface": [
           {
            "colorbar": {
             "outlinewidth": 0,
             "ticks": ""
            },
            "colorscale": [
             [
              0,
              "#0d0887"
             ],
             [
              0.1111111111111111,
              "#46039f"
             ],
             [
              0.2222222222222222,
              "#7201a8"
             ],
             [
              0.3333333333333333,
              "#9c179e"
             ],
             [
              0.4444444444444444,
              "#bd3786"
             ],
             [
              0.5555555555555556,
              "#d8576b"
             ],
             [
              0.6666666666666666,
              "#ed7953"
             ],
             [
              0.7777777777777778,
              "#fb9f3a"
             ],
             [
              0.8888888888888888,
              "#fdca26"
             ],
             [
              1,
              "#f0f921"
             ]
            ],
            "type": "surface"
           }
          ],
          "table": [
           {
            "cells": {
             "fill": {
              "color": "#EBF0F8"
             },
             "line": {
              "color": "white"
             }
            },
            "header": {
             "fill": {
              "color": "#C8D4E3"
             },
             "line": {
              "color": "white"
             }
            },
            "type": "table"
           }
          ]
         },
         "layout": {
          "annotationdefaults": {
           "arrowcolor": "#2a3f5f",
           "arrowhead": 0,
           "arrowwidth": 1
          },
          "autotypenumbers": "strict",
          "coloraxis": {
           "colorbar": {
            "outlinewidth": 0,
            "ticks": ""
           }
          },
          "colorscale": {
           "diverging": [
            [
             0,
             "#8e0152"
            ],
            [
             0.1,
             "#c51b7d"
            ],
            [
             0.2,
             "#de77ae"
            ],
            [
             0.3,
             "#f1b6da"
            ],
            [
             0.4,
             "#fde0ef"
            ],
            [
             0.5,
             "#f7f7f7"
            ],
            [
             0.6,
             "#e6f5d0"
            ],
            [
             0.7,
             "#b8e186"
            ],
            [
             0.8,
             "#7fbc41"
            ],
            [
             0.9,
             "#4d9221"
            ],
            [
             1,
             "#276419"
            ]
           ],
           "sequential": [
            [
             0,
             "#0d0887"
            ],
            [
             0.1111111111111111,
             "#46039f"
            ],
            [
             0.2222222222222222,
             "#7201a8"
            ],
            [
             0.3333333333333333,
             "#9c179e"
            ],
            [
             0.4444444444444444,
             "#bd3786"
            ],
            [
             0.5555555555555556,
             "#d8576b"
            ],
            [
             0.6666666666666666,
             "#ed7953"
            ],
            [
             0.7777777777777778,
             "#fb9f3a"
            ],
            [
             0.8888888888888888,
             "#fdca26"
            ],
            [
             1,
             "#f0f921"
            ]
           ],
           "sequentialminus": [
            [
             0,
             "#0d0887"
            ],
            [
             0.1111111111111111,
             "#46039f"
            ],
            [
             0.2222222222222222,
             "#7201a8"
            ],
            [
             0.3333333333333333,
             "#9c179e"
            ],
            [
             0.4444444444444444,
             "#bd3786"
            ],
            [
             0.5555555555555556,
             "#d8576b"
            ],
            [
             0.6666666666666666,
             "#ed7953"
            ],
            [
             0.7777777777777778,
             "#fb9f3a"
            ],
            [
             0.8888888888888888,
             "#fdca26"
            ],
            [
             1,
             "#f0f921"
            ]
           ]
          },
          "colorway": [
           "#636efa",
           "#EF553B",
           "#00cc96",
           "#ab63fa",
           "#FFA15A",
           "#19d3f3",
           "#FF6692",
           "#B6E880",
           "#FF97FF",
           "#FECB52"
          ],
          "font": {
           "color": "#2a3f5f"
          },
          "geo": {
           "bgcolor": "white",
           "lakecolor": "white",
           "landcolor": "#E5ECF6",
           "showlakes": true,
           "showland": true,
           "subunitcolor": "white"
          },
          "hoverlabel": {
           "align": "left"
          },
          "hovermode": "closest",
          "mapbox": {
           "style": "light"
          },
          "paper_bgcolor": "white",
          "plot_bgcolor": "#E5ECF6",
          "polar": {
           "angularaxis": {
            "gridcolor": "white",
            "linecolor": "white",
            "ticks": ""
           },
           "bgcolor": "#E5ECF6",
           "radialaxis": {
            "gridcolor": "white",
            "linecolor": "white",
            "ticks": ""
           }
          },
          "scene": {
           "xaxis": {
            "backgroundcolor": "#E5ECF6",
            "gridcolor": "white",
            "gridwidth": 2,
            "linecolor": "white",
            "showbackground": true,
            "ticks": "",
            "zerolinecolor": "white"
           },
           "yaxis": {
            "backgroundcolor": "#E5ECF6",
            "gridcolor": "white",
            "gridwidth": 2,
            "linecolor": "white",
            "showbackground": true,
            "ticks": "",
            "zerolinecolor": "white"
           },
           "zaxis": {
            "backgroundcolor": "#E5ECF6",
            "gridcolor": "white",
            "gridwidth": 2,
            "linecolor": "white",
            "showbackground": true,
            "ticks": "",
            "zerolinecolor": "white"
           }
          },
          "shapedefaults": {
           "line": {
            "color": "#2a3f5f"
           }
          },
          "ternary": {
           "aaxis": {
            "gridcolor": "white",
            "linecolor": "white",
            "ticks": ""
           },
           "baxis": {
            "gridcolor": "white",
            "linecolor": "white",
            "ticks": ""
           },
           "bgcolor": "#E5ECF6",
           "caxis": {
            "gridcolor": "white",
            "linecolor": "white",
            "ticks": ""
           }
          },
          "title": {
           "x": 0.05
          },
          "xaxis": {
           "automargin": true,
           "gridcolor": "white",
           "linecolor": "white",
           "ticks": "",
           "title": {
            "standoff": 15
           },
           "zerolinecolor": "white",
           "zerolinewidth": 2
          },
          "yaxis": {
           "automargin": true,
           "gridcolor": "white",
           "linecolor": "white",
           "ticks": "",
           "title": {
            "standoff": 15
           },
           "zerolinecolor": "white",
           "zerolinewidth": 2
          }
         }
        },
        "title": {
         "text": "MSFT Price with SMA/EMA and RSI"
        },
        "xaxis": {
         "anchor": "y",
         "domain": [
          0,
          1
         ],
         "matches": "x2",
         "showticklabels": false
        },
        "xaxis2": {
         "anchor": "y2",
         "domain": [
          0,
          1
         ]
        },
        "yaxis": {
         "anchor": "x",
         "domain": [
          0.33760000000000007,
          1
         ]
        },
        "yaxis2": {
         "anchor": "x2",
         "domain": [
          0,
          0.25760000000000005
         ]
        }
       }
      }
     },
     "metadata": {},
     "output_type": "display_data"
    }
   ],
   "source": [
    "# Plot price with SMA/EMA overlays and RSI\n",
    "close_col = None\n",
    "for c in df.columns:\n",
    "    if str(c).lower() in ('close', 'adj close', 'adj_close', 'adjclose'):\n",
    "        close_col = c\n",
    "        break\n",
    "if close_col is None:\n",
    "    raise ValueError('No close-like column found in history CSV')\n",
    "\n",
    "fig = make_subplots(rows=2, cols=1, shared_xaxes=True, vertical_spacing=0.08, row_heights=[0.72, 0.28])\n",
    "\n",
    "fig.add_trace(go.Scatter(x=df.index, y=df[close_col], name='Close', line=dict(color='#1f77b4')), row=1, col=1)\n",
    "for name, color in [('sma_10', '#ff7f0e'), ('sma_20', '#2ca02c'), ('sma_50', '#d62728'), ('ema_12', '#9467bd'), ('ema_26', '#8c564b')]:\n",
    "    if name in df.columns:\n",
    "        fig.add_trace(go.Scatter(x=df.index, y=df[name], name=name.upper(), line=dict(width=1)), row=1, col=1)\n",
    "\n",
    "# RSI panel\n",
    "if 'rsi_14' in df.columns:\n",
    "    fig.add_trace(go.Scatter(x=df.index, y=df['rsi_14'], name='RSI(14)', line=dict(color='#17becf')), row=2, col=1)\n",
    "    # Overbought/oversold lines\n",
    "    fig.add_hline(y=70, line_dash='dot', line_color='red', row=2, col=1)\n",
    "    fig.add_hline(y=30, line_dash='dot', line_color='green', row=2, col=1)\n",
    "\n",
    "# Optional: dividend markers if dates align (both indexed by datetime)\n",
    "if not divs.empty and isinstance(df.index, pd.DatetimeIndex) and isinstance(divs.index, pd.DatetimeIndex):\n",
    "    # Drop to common range\n",
    "    common = divs.index.intersection(df.index)\n",
    "    if 'dividend' in divs.columns and len(common) > 0:\n",
    "        y_vals = df.loc[common, close_col]\n",
    "        fig.add_trace(\n",
    "            go.Scatter(\n",
    "                x=common,\n",
    "                y=y_vals,\n",
    "                mode='markers',\n",
    "                name='Dividends',\n",
    "                marker=dict(color='gold', size=8, symbol='triangle-up')\n",
    "            ),\n",
    "            row=1, col=1\n",
    "        )\n",
    "\n",
    "fig.update_layout(title=f'{SYMBOL} Price with SMA/EMA and RSI', height=700, legend_orientation='h')\n",
    "try:\n",
    "    fig.show()\n",
    "except Exception as e:\n",
    "    import plotly.io as pio\n",
    "    if isinstance(e, ValueError) and 'nbformat' in str(e).lower():\n",
    "        pio.renderers.default = 'browser'\n",
    "        print(\"Renderer fallback: nbformat not available; switched to 'browser'.\")\n",
    "        fig.show()\n",
    "    else:\n",
    "        raise"
   ]
  },
  {
   "cell_type": "code",
   "execution_count": 7,
   "id": "c5db55f4",
   "metadata": {},
   "outputs": [
    {
     "data": {
      "application/vnd.plotly.v1+json": {
       "config": {
        "plotlyServerURL": "https://plot.ly"
       },
       "data": [
        {
         "line": {
          "color": "#1f77b4"
         },
         "name": "Close",
         "type": "scatter",
         "x": {
          "bdata": "AAABAAIAAwAEAAUABgAHAAgACQAKAAsADAANAA4ADwAQABEAEgATABQAFQAWABcAGAAZABoAGwAcAB0AHgAfACAAIQAiACMAJAAlACYAJwAoACkAKgArACwALQAuAC8AMAAxADIAMwA0ADUANgA3ADgAOQA6ADsAPAA9AD4APwBAAEEAQgBDAEQARQBGAEcASABJAEoASwBMAE0ATgBPAFAAUQBSAFMAVABVAFYAVwBYAFkAWgBbAFwAXQBeAF8AYABhAGIAYwBkAGUAZgBnAGgAaQBqAGsAbABtAG4AbwBwAHEAcgBzAHQAdQB2AHcAeAB5AHoAewB8AH0AfgB/AIAAgQCCAIMAhACFAIYAhwCIAIkAigCLAIwAjQCOAI8AkACRAJIAkwCUAJUAlgCXAJgAmQCaAJsAnACdAJ4AnwCgAKEAogCjAKQApQCmAKcAqACpAKoAqwCsAK0ArgCvALAAsQCyALMAtAC1ALYAtwC4ALkAugC7ALwAvQC+AL8AwADBAMIAwwDEAMUAxgDHAMgAyQDKAMsAzADNAM4AzwDQANEA0gDTANQA1QDWANcA2ADZANoA2wDcAN0A3gDfAOAA4QDiAOMA5ADlAOYA5wDoAOkA6gDrAOwA7QDuAO8A8ADxAPIA8wD0APUA9gD3APgA+QA=",
          "dtype": "i2"
         },
         "xaxis": "x",
         "y": {
          "bdata": "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",
          "dtype": "f8"
         },
         "yaxis": "y"
        },
        {
         "line": {
          "width": 1
         },
         "name": "SMA_10",
         "type": "scatter",
         "x": {
          "bdata": "AAABAAIAAwAEAAUABgAHAAgACQAKAAsADAANAA4ADwAQABEAEgATABQAFQAWABcAGAAZABoAGwAcAB0AHgAfACAAIQAiACMAJAAlACYAJwAoACkAKgArACwALQAuAC8AMAAxADIAMwA0ADUANgA3ADgAOQA6ADsAPAA9AD4APwBAAEEAQgBDAEQARQBGAEcASABJAEoASwBMAE0ATgBPAFAAUQBSAFMAVABVAFYAVwBYAFkAWgBbAFwAXQBeAF8AYABhAGIAYwBkAGUAZgBnAGgAaQBqAGsAbABtAG4AbwBwAHEAcgBzAHQAdQB2AHcAeAB5AHoAewB8AH0AfgB/AIAAgQCCAIMAhACFAIYAhwCIAIkAigCLAIwAjQCOAI8AkACRAJIAkwCUAJUAlgCXAJgAmQCaAJsAnACdAJ4AnwCgAKEAogCjAKQApQCmAKcAqACpAKoAqwCsAK0ArgCvALAAsQCyALMAtAC1ALYAtwC4ALkAugC7ALwAvQC+AL8AwADBAMIAwwDEAMUAxgDHAMgAyQDKAMsAzADNAM4AzwDQANEA0gDTANQA1QDWANcA2ADZANoA2wDcAN0A3gDfAOAA4QDiAOMA5ADlAOYA5wDoAOkA6gDrAOwA7QDuAO8A8ADxAPIA8wD0APUA9gD3APgA+QA=",
          "dtype": "i2"
         },
         "xaxis": "x",
         "y": {
          "bdata": "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",
          "dtype": "f8"
         },
         "yaxis": "y"
        },
        {
         "line": {
          "width": 1
         },
         "name": "SMA_20",
         "type": "scatter",
         "x": {
          "bdata": "AAABAAIAAwAEAAUABgAHAAgACQAKAAsADAANAA4ADwAQABEAEgATABQAFQAWABcAGAAZABoAGwAcAB0AHgAfACAAIQAiACMAJAAlACYAJwAoACkAKgArACwALQAuAC8AMAAxADIAMwA0ADUANgA3ADgAOQA6ADsAPAA9AD4APwBAAEEAQgBDAEQARQBGAEcASABJAEoASwBMAE0ATgBPAFAAUQBSAFMAVABVAFYAVwBYAFkAWgBbAFwAXQBeAF8AYABhAGIAYwBkAGUAZgBnAGgAaQBqAGsAbABtAG4AbwBwAHEAcgBzAHQAdQB2AHcAeAB5AHoAewB8AH0AfgB/AIAAgQCCAIMAhACFAIYAhwCIAIkAigCLAIwAjQCOAI8AkACRAJIAkwCUAJUAlgCXAJgAmQCaAJsAnACdAJ4AnwCgAKEAogCjAKQApQCmAKcAqACpAKoAqwCsAK0ArgCvALAAsQCyALMAtAC1ALYAtwC4ALkAugC7ALwAvQC+AL8AwADBAMIAwwDEAMUAxgDHAMgAyQDKAMsAzADNAM4AzwDQANEA0gDTANQA1QDWANcA2ADZANoA2wDcAN0A3gDfAOAA4QDiAOMA5ADlAOYA5wDoAOkA6gDrAOwA7QDuAO8A8ADxAPIA8wD0APUA9gD3APgA+QA=",
          "dtype": "i2"
         },
         "xaxis": "x",
         "y": {
          "bdata": "AAAAoPLaeUD///+PvsB5QFVVVdXcuXlAAAAAAI+peUDNzMysx6d5QAAAAAA8sXlASZIkyYSmeUAAAAD0aJ15QI7jOO5slXlAZmZm5mmEeUAXXXRxTHx5QFVVVS3CgHlAJnZix1SPeUAAAABgUKB5QM3MzEzVsnlAAAAALsjDeUDi4eHBS9Z5QBzHcXzs4nlAr6G8Bs/0eUAzMzODMAJ6QDMzM0N3D3pAzczMnOobekAAAABwbCp6QM7MzDzeOnpAMzMzA7NGekAAAAAYJlF6QM3MzOwUWnpAZmZm3p1gekBmZmaOFmd6QJqZmZF9cnpAMzMzE4Z1ekDMzMy87XV6QGdmZnZ/cXpAAAAA8KJoekAAAAA4Tl16QJqZmUmeU3pAZmZmjpZGekA0MzNz7Dp6QMzMzIR6KXpAmpmZgeQbekDNzMxEMhB6QM3MzNTgDnpAZmZmPuoIekDNzMy0sAN6QDMzMyPLA3pAZmZm/tgAekAzMzPbyQl6QM3MzEQEFnpAZmZm5uwNekBmZmZGaAl6QM3MzLyMCHpAAAAAGPgFekAAAAAAIQh6QDMzM2O+D3pAmpmZwa4UekDNzMwMyRN6QAAAABgxF3pAzczM1GYeekCamZkheiZ6QAAAAMj3I3pAZmZm5pEhekCamZkR2hl6QM7MzDyeEnpAzczMZNsJekD///+PqgF6QM3MzGwj/HlAmpmZmaz5eUCamZl5xfJ5QJqZmckHAXpAZmZmnhQSekDMzMyE0iR6QGZmZn4hOnpAZmZmDqdMekBmZmbuwlt6QM3MzEQdb3pAMjMzi+yDekCamZk5QJl6QM3MzOROrXpAmpmZmTO+ekAzMzMj+dt6QGZmZr5s+3pAmpmZ4a4Le0CbmZk5ex17QJqZmZFcMHtAAAAAwOE+e0CamZlZOU97QJqZmZlGV3tANDMzW0Zde0BmZmZmXV57QJqZmYHSVntAzczMDMhMe0DNzMxElkF7QAAAAOjVNXtAZmZm3vcke0CamZnh5BN7QGZmZiZ/AHtAmpmZGTLnekAzMzNbO8x6QM3MzDSOu3pAAAAAyBCmekAAAAAw1ZF6QAEAAHjCinpAMzMzOw6SekABAABwGZp6QM3MzNwboXpAAAAAUFCdekBmZmbGi6R6QM3MzDTvrXpAzczM/BqmekAAAABI+6B6QGZmZhbjmnpAmpmZqSaSekAzMzMTkYZ6QGZmZvZagXpAzczMdJJ1ekBmZmauN3B6QDMzM4Oka3pAMzMzG15mekBmZmYO0ll6QM3MzJz4THpAZmZmPos9ekAzMzOznjJ6QGZmZvZbG3pAAAAA+GD9eUCamZmBJt55QJqZmRGewXlAAAAAmHyceUCamZmZfXV5QJqZmXnNZ3lAZmZmVkhTeUDNzMzsJkJ5QM3MzOzCOXlAZmZmplgteUBmZmZuEBx5QGVmZsYgBXlAAAAAOHXseEAAAAAQqNZ4QM3MzFQtv3hAZmZmHk+ueEABAABAO594QMzMzLwPi3hAZmZm7jx2eEAAAAAo4154QJqZmdlfUXhAmpmZMatIeEBlZmb+e0Z4QM3MzBS0PnhAMzMzGyY9eECamZm5pS54QJqZmSk0JHhAmpmZ6RUfeEBmZma2CBB4QGdmZnYT/XdAAAAAmGTid0AAAABondB3QP///4f5u3dAZmZmDrvBd0DNzMycycN3QJqZmSmzw3dAzczMhP3Cd0BmZmaOwMR3QM3MzETUt3dAMzMzU6Kod0DNzMzkAo93QM3MzIQTendAZWZmloRpd0CamZmpY2d3QM3MzNxmaHdAmZmZaUFyd0DNzMysH4F3QAAAACCLi3dAzczMBAiud0AAAABAmN93QJqZmWFyHHhAmpmZ6ZhYeECamZkZaZd4QDMzMxNsvXhAZmZmtirreECamZlhpRt5QGZmZi6KTHlAMzMzAx+CeUDNzMwkxsN5QGZmZgZkCXpAmpmZ2ZVZekAAAAAQFaN6QJqZmVES4npAMzMzA5kYe0DNzMw0wkd7QJqZmSHdf3tAMzMzawOze0DNzMycPuZ7QGZmZg7KAnxAmpmZSb4YfED///9XyS58QDMzMxvUR3xAZmZmtuFjfECamZmpP358QAAAAOgPmnxAMzMz6wSsfECbmZkBbr98QGVmZnbN1HxAAAAA6DzmfEDNzMzsGfp8QAAAAIBpCX1AMzMzAwobfUCamZnZ3i59QDMzM9u9R31AAAAAGKJnfUAAAAAQ24B9QM3MzATgoH1AAAAAWKK+fUDMzMy8Odx9QJuZmQFA9H1A////h7UKfkAzMzOjoyZ+QMzMzLyhPn5AZmZm3pZTfkBmZmYuKGx+QJqZmZmQhH5AzMzMpBWdfkCamZlxX7B+QDMzMzMFyX5AZmZmZivefkAAAACoDfl+QJqZmbncEH9AMzMzg/Iqf0AAAACIVjp/QDMzM+PsRn9AZmZm9slVf0BmZmaOxmJ/QJqZmXkAcH9AzczMJBx8f0AzMzO7CI1/QJqZmQnorn9AZmZm1hbDf0DNzMwcYOF/QDMzMxM9+n9AZmZmXq0FgEDNzMyUaA2AQM3MzFziFIBAMzMzN18cgEDNzMx8uSWAQJqZmeGyK4BAzczM8AAwgEAzMzOHCzSAQM3MzDzbNoBAAAAASKc4gEBmZmbylziAQGZmZt5FNoBAmpmZpQQ0gEA=",
          "dtype": "f8"
         },
         "yaxis": "y"
        },
        {
         "line": {
          "width": 1
         },
         "name": "SMA_50",
         "type": "scatter",
         "x": {
          "bdata": "AAABAAIAAwAEAAUABgAHAAgACQAKAAsADAANAA4ADwAQABEAEgATABQAFQAWABcAGAAZABoAGwAcAB0AHgAfACAAIQAiACMAJAAlACYAJwAoACkAKgArACwALQAuAC8AMAAxADIAMwA0ADUANgA3ADgAOQA6ADsAPAA9AD4APwBAAEEAQgBDAEQARQBGAEcASABJAEoASwBMAE0ATgBPAFAAUQBSAFMAVABVAFYAVwBYAFkAWgBbAFwAXQBeAF8AYABhAGIAYwBkAGUAZgBnAGgAaQBqAGsAbABtAG4AbwBwAHEAcgBzAHQAdQB2AHcAeAB5AHoAewB8AH0AfgB/AIAAgQCCAIMAhACFAIYAhwCIAIkAigCLAIwAjQCOAI8AkACRAJIAkwCUAJUAlgCXAJgAmQCaAJsAnACdAJ4AnwCgAKEAogCjAKQApQCmAKcAqACpAKoAqwCsAK0ArgCvALAAsQCyALMAtAC1ALYAtwC4ALkAugC7ALwAvQC+AL8AwADBAMIAwwDEAMUAxgDHAMgAyQDKAMsAzADNAM4AzwDQANEA0gDTANQA1QDWANcA2ADZANoA2wDcAN0A3gDfAOAA4QDiAOMA5ADlAOYA5wDoAOkA6gDrAOwA7QDuAO8A8ADxAPIA8wD0APUA9gD3APgA+QA=",
          "dtype": "i2"
         },
         "xaxis": "x",
         "y": {
          "bdata": "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",
          "dtype": "f8"
         },
         "yaxis": "y"
        },
        {
         "line": {
          "width": 1
         },
         "name": "EMA_12",
         "type": "scatter",
         "x": {
          "bdata": "AAABAAIAAwAEAAUABgAHAAgACQAKAAsADAANAA4ADwAQABEAEgATABQAFQAWABcAGAAZABoAGwAcAB0AHgAfACAAIQAiACMAJAAlACYAJwAoACkAKgArACwALQAuAC8AMAAxADIAMwA0ADUANgA3ADgAOQA6ADsAPAA9AD4APwBAAEEAQgBDAEQARQBGAEcASABJAEoASwBMAE0ATgBPAFAAUQBSAFMAVABVAFYAVwBYAFkAWgBbAFwAXQBeAF8AYABhAGIAYwBkAGUAZgBnAGgAaQBqAGsAbABtAG4AbwBwAHEAcgBzAHQAdQB2AHcAeAB5AHoAewB8AH0AfgB/AIAAgQCCAIMAhACFAIYAhwCIAIkAigCLAIwAjQCOAI8AkACRAJIAkwCUAJUAlgCXAJgAmQCaAJsAnACdAJ4AnwCgAKEAogCjAKQApQCmAKcAqACpAKoAqwCsAK0ArgCvALAAsQCyALMAtAC1ALYAtwC4ALkAugC7ALwAvQC+AL8AwADBAMIAwwDEAMUAxgDHAMgAyQDKAMsAzADNAM4AzwDQANEA0gDTANQA1QDWANcA2ADZANoA2wDcAN0A3gDfAOAA4QDiAOMA5ADlAOYA5wDoAOkA6gDrAOwA7QDuAO8A8ADxAPIA8wD0APUA9gD3APgA+QA=",
          "dtype": "i2"
         },
         "xaxis": "x",
         "y": {
          "bdata": "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",
          "dtype": "f8"
         },
         "yaxis": "y"
        },
        {
         "line": {
          "width": 1
         },
         "name": "EMA_26",
         "type": "scatter",
         "x": {
          "bdata": "AAABAAIAAwAEAAUABgAHAAgACQAKAAsADAANAA4ADwAQABEAEgATABQAFQAWABcAGAAZABoAGwAcAB0AHgAfACAAIQAiACMAJAAlACYAJwAoACkAKgArACwALQAuAC8AMAAxADIAMwA0ADUANgA3ADgAOQA6ADsAPAA9AD4APwBAAEEAQgBDAEQARQBGAEcASABJAEoASwBMAE0ATgBPAFAAUQBSAFMAVABVAFYAVwBYAFkAWgBbAFwAXQBeAF8AYABhAGIAYwBkAGUAZgBnAGgAaQBqAGsAbABtAG4AbwBwAHEAcgBzAHQAdQB2AHcAeAB5AHoAewB8AH0AfgB/AIAAgQCCAIMAhACFAIYAhwCIAIkAigCLAIwAjQCOAI8AkACRAJIAkwCUAJUAlgCXAJgAmQCaAJsAnACdAJ4AnwCgAKEAogCjAKQApQCmAKcAqACpAKoAqwCsAK0ArgCvALAAsQCyALMAtAC1ALYAtwC4ALkAugC7ALwAvQC+AL8AwADBAMIAwwDEAMUAxgDHAMgAyQDKAMsAzADNAM4AzwDQANEA0gDTANQA1QDWANcA2ADZANoA2wDcAN0A3gDfAOAA4QDiAOMA5ADlAOYA5wDoAOkA6gDrAOwA7QDuAO8A8ADxAPIA8wD0APUA9gD3APgA+QA=",
          "dtype": "i2"
         },
         "xaxis": "x",
         "y": {
          "bdata": "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",
          "dtype": "f8"
         },
         "yaxis": "y"
        },
        {
         "line": {
          "color": "#17becf"
         },
         "name": "MACD",
         "type": "scatter",
         "x": {
          "bdata": "AAABAAIAAwAEAAUABgAHAAgACQAKAAsADAANAA4ADwAQABEAEgATABQAFQAWABcAGAAZABoAGwAcAB0AHgAfACAAIQAiACMAJAAlACYAJwAoACkAKgArACwALQAuAC8AMAAxADIAMwA0ADUANgA3ADgAOQA6ADsAPAA9AD4APwBAAEEAQgBDAEQARQBGAEcASABJAEoASwBMAE0ATgBPAFAAUQBSAFMAVABVAFYAVwBYAFkAWgBbAFwAXQBeAF8AYABhAGIAYwBkAGUAZgBnAGgAaQBqAGsAbABtAG4AbwBwAHEAcgBzAHQAdQB2AHcAeAB5AHoAewB8AH0AfgB/AIAAgQCCAIMAhACFAIYAhwCIAIkAigCLAIwAjQCOAI8AkACRAJIAkwCUAJUAlgCXAJgAmQCaAJsAnACdAJ4AnwCgAKEAogCjAKQApQCmAKcAqACpAKoAqwCsAK0ArgCvALAAsQCyALMAtAC1ALYAtwC4ALkAugC7ALwAvQC+AL8AwADBAMIAwwDEAMUAxgDHAMgAyQDKAMsAzADNAM4AzwDQANEA0gDTANQA1QDWANcA2ADZANoA2wDcAN0A3gDfAOAA4QDiAOMA5ADlAOYA5wDoAOkA6gDrAOwA7QDuAO8A8ADxAPIA8wD0APUA9gD3APgA+QA=",
          "dtype": "i2"
         },
         "xaxis": "x2",
         "y": {
          "bdata": "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",
          "dtype": "f8"
         },
         "yaxis": "y2"
        },
        {
         "line": {
          "color": "#d62728"
         },
         "name": "Signal",
         "type": "scatter",
         "x": {
          "bdata": "AAABAAIAAwAEAAUABgAHAAgACQAKAAsADAANAA4ADwAQABEAEgATABQAFQAWABcAGAAZABoAGwAcAB0AHgAfACAAIQAiACMAJAAlACYAJwAoACkAKgArACwALQAuAC8AMAAxADIAMwA0ADUANgA3ADgAOQA6ADsAPAA9AD4APwBAAEEAQgBDAEQARQBGAEcASABJAEoASwBMAE0ATgBPAFAAUQBSAFMAVABVAFYAVwBYAFkAWgBbAFwAXQBeAF8AYABhAGIAYwBkAGUAZgBnAGgAaQBqAGsAbABtAG4AbwBwAHEAcgBzAHQAdQB2AHcAeAB5AHoAewB8AH0AfgB/AIAAgQCCAIMAhACFAIYAhwCIAIkAigCLAIwAjQCOAI8AkACRAJIAkwCUAJUAlgCXAJgAmQCaAJsAnACdAJ4AnwCgAKEAogCjAKQApQCmAKcAqACpAKoAqwCsAK0ArgCvALAAsQCyALMAtAC1ALYAtwC4ALkAugC7ALwAvQC+AL8AwADBAMIAwwDEAMUAxgDHAMgAyQDKAMsAzADNAM4AzwDQANEA0gDTANQA1QDWANcA2ADZANoA2wDcAN0A3gDfAOAA4QDiAOMA5ADlAOYA5wDoAOkA6gDrAOwA7QDuAO8A8ADxAPIA8wD0APUA9gD3APgA+QA=",
          "dtype": "i2"
         },
         "xaxis": "x2",
         "y": {
          "bdata": "AAAAAAAAAABnJhxtfMGqvxWezTu/fsC/1iQ8j6Ii0b8Sm7oYL3bZv9ysFbcS3ty/8jkPv9Ff4r8o7a1FGL7nvyHiT9G37e2/DmDLEPjP878ME0yKUnH4v6TX1FlLffq/HZm8gmuC+L8Y/OV32Qzzv/QOqgaZfOW/zqUYTcjsq7+2k7QZNdvkP7D4YdHU6PQ/YPF0O2ojAEAa7naR4FQFQMljdDRwrAlA7i6gKWylDEAMQNp/aekOQN+CHkzJOBBA/7Osp+h4EEAzJDluUn4QQGwnUsRlcg9APTIxaR95DEDk6JtQ9p0IQITG75cJSwRAOuBRkJAP/j/8OL2Y1Sb0P2EWSL8tmec/aGUn+vSw0T/ocWUpDX+9v/uR2Kyxd9m/y6Y+SolL479wyZ2R/TzpvydRfQXyHu6/qVTjeGmk8L/u7tZfSWjxv0oQ8qLkvO6/1Un+rsrD6L+rNk48R8vhvxLFPylhlNG//5V7872Nfz+tJomm7RbXPxPtSKak7+c/EFwpgcMK5z9NL6HKbbTfP67bIOzXW8A/iAKDgdrS0L8D+1p1e0jgv9BuADRoJOK/p5bqRQCP4b+5DeHU47rhv8J693IkkN+/AuM6vA3x1r83qxJAgBfEv4yLr16vsry/n/z+AnDmw7+za32ZPxTMv0huCt2DCdW/bdP+569C37/5dIpKK1rjv5TxRHIZDuW/d9SXow6v4L8lfxtJenjWv9UhjgAoiMS/if5t+qCOwz/ocFq3kvHgP8RvdyUzYfA/BB8ZdahV+j8cvMk5rp0CQOSbZF/EVwhANx0w6QeMDUBwUKcWomYRQBpuizIq5xNAVR6B0C8BFkDrMCcbG/gXQLCB8CFO3xlAwUs2l6l+GkDBe19f3zIaQCj+dqllQRlAR+vbvA/QF0AGVdX5V1YWQKwi6CdRyhRApPIfzUjAEkAdyx6xFRsQQJW9lI1A8QlAkd8j+mv1AkBPmZ15Oen4P+Uo0BKVjOw/omBi7XoH0T9/07pArjPRv2aFoEiM0em/kEtOHySE9b8N0ia+7gH+v4UWVJ8amwHABACfoYs4A8C30ibPGoYDwJOzhafnAgPAHxlZt+xy/79MQaB1b4r1v60TAIoYX+W/KZoaZMKMwb/vx93nD1jeP2Puq8gQaPA/HI9B118v8T/6Ist/wbjpP8MYg8VL8NE/ZTPR5nSJ1r9IaP6OjRHwvwfyi1WGefm/6Z3oT/acAcDUOvAu5vwFwEPEPbRA3gnAgz1o/RZ7DcAB1hkZRz0QwDTCfF1ikBHAKqdCltWXEsBiYGB82gMTwKjZrvsJ2hLArYaigXLKEsCLlaOfrwUTwHx5+TTvxBPA/cbTzJGjFMDX6eKXYvMVwMb0COYdIxfALORcrrOrGMCKzDzpDEcawK8NQpA4/xrAs7jvHNVSG8D2x7r1X40bwF+XmVMmexzA5pY5oHW3HcBS9jKCKdUewPueHwz9AyDArynEi+5CIMDgxdAePzsgwMfCCERkKCDAWOjKyS/GH8D68A16CQEfwCIu68x4xx3Az/V3IF8mHMBmnz4b9CcawKyXea8JTxjAsDzzAE6OFsBNIkp24KYVwLGGf5+qfhXAAR2BiipVFcBbKmM+ZiEVwPzVgMmYcBXAl4g7NkPZFsATPtYcWPIYwIP8l/MDhRvAUAIdLlnoG8AnGW/AaWwbwOwxFf1w5xnA16+CuAvMF8Bs7QMon4IVwFdif2VeFBTA7KEik1N1E8BKbQtCIuITwBW8L1IoaBTAntgFLM9vFMClJrUAv0kTwET5sV2oIBHA1EY64ObmDMBdjc3SEcAGwOSi6hKrNgDAprMHYWmh578V+0wsZvbtP9ExjUyKOAZAeqJZz7dMEkAva73wcPYYQACzaFw2Mh9Ak41cLipmIkCDY/CR9CUlQGnG7T84qydACHaaDRn7KUC0Ro2HpQMsQLfFCZYmvS1Aph6BBiFCL0Avk3t07DwwQJnA5zQXmDBABMSgD5bFMEBAdpWaM7cwQAPv3lgkpTBA6c61am96MED+blNkST4wQKQaEa527y9Ad4k85TNXL0CZO0CSzbUuQPVzgJeODC5AxQlPxs10LUDF8EZgzfQsQGtswJ/UjCxAHOsdzckZLEAEd75ATqMrQKriqNu4UytAjzDIGtzwKkA5cK5Zd5kqQGg1ZvBZNSpAYHunISnRKUCAo0VD80spQHqQb+Jm8ChAHO14drvGKEAQyeBLq8EoQG0nnnad7yhAq2VBmUIgKUBQmtTtX00pQED5CJVvOylAbdikkF3sKEB+Xff6yKsoQJhptKwkYChAlK1SGFf6J0Bk1YYKrbMnQHfO/DjZZSdAxrb9+/YYJ0BYaEl/x8AmQCCkORqxbyZAJ72F85QYJkCT3ZmD9OYlQDD1yCIwtSVA7YFpfFt5JUDEYugiwwYlQJ0wAlZ5cCRAsUfGyJ/oI0DbOIm9aHwjQFzcwTLzESNA4y24tp2jIkC2BZrOOTMiQLKAS2ILYiJAdS8F5+SaIkCeioLFOSojQPIrw6G4nCNAwiu9GMjUI0AcGk4PRbgjQND39TeGZiNARzLdRC3qIkCf1hFnh4siQJn3tE0D8yFA4XsxQj5DIUDbqaCeM3EgQMWKwloe5B5AntJLtXc+HECYBka+5gAZQPoiomhldhVAyB3Af4MPEkA=",
          "dtype": "f8"
         },
         "yaxis": "y2"
        },
        {
         "marker": {
          "color": [
           "rgba(38,166,91,0.6)",
           "rgba(219,68,55,0.6)",
           "rgba(219,68,55,0.6)",
           "rgba(219,68,55,0.6)",
           "rgba(219,68,55,0.6)",
           "rgba(219,68,55,0.6)",
           "rgba(219,68,55,0.6)",
           "rgba(219,68,55,0.6)",
           "rgba(219,68,55,0.6)",
           "rgba(219,68,55,0.6)",
           "rgba(219,68,55,0.6)",
           "rgba(219,68,55,0.6)",
           "rgba(38,166,91,0.6)",
           "rgba(38,166,91,0.6)",
           "rgba(38,166,91,0.6)",
           "rgba(38,166,91,0.6)",
           "rgba(38,166,91,0.6)",
           "rgba(38,166,91,0.6)",
           "rgba(38,166,91,0.6)",
           "rgba(38,166,91,0.6)",
           "rgba(38,166,91,0.6)",
           "rgba(38,166,91,0.6)",
           "rgba(38,166,91,0.6)",
           "rgba(38,166,91,0.6)",
           "rgba(38,166,91,0.6)",
           "rgba(38,166,91,0.6)",
           "rgba(219,68,55,0.6)",
           "rgba(219,68,55,0.6)",
           "rgba(219,68,55,0.6)",
           "rgba(219,68,55,0.6)",
           "rgba(219,68,55,0.6)",
           "rgba(219,68,55,0.6)",
           "rgba(219,68,55,0.6)",
           "rgba(219,68,55,0.6)",
           "rgba(219,68,55,0.6)",
           "rgba(219,68,55,0.6)",
           "rgba(219,68,55,0.6)",
           "rgba(219,68,55,0.6)",
           "rgba(219,68,55,0.6)",
           "rgba(219,68,55,0.6)",
           "rgba(219,68,55,0.6)",
           "rgba(38,166,91,0.6)",
           "rgba(38,166,91,0.6)",
           "rgba(38,166,91,0.6)",
           "rgba(38,166,91,0.6)",
           "rgba(38,166,91,0.6)",
           "rgba(38,166,91,0.6)",
           "rgba(38,166,91,0.6)",
           "rgba(219,68,55,0.6)",
           "rgba(219,68,55,0.6)",
           "rgba(219,68,55,0.6)",
           "rgba(219,68,55,0.6)",
           "rgba(219,68,55,0.6)",
           "rgba(219,68,55,0.6)",
           "rgba(38,166,91,0.6)",
           "rgba(219,68,55,0.6)",
           "rgba(38,166,91,0.6)",
           "rgba(38,166,91,0.6)",
           "rgba(38,166,91,0.6)",
           "rgba(38,166,91,0.6)",
           "rgba(219,68,55,0.6)",
           "rgba(219,68,55,0.6)",
           "rgba(219,68,55,0.6)",
           "rgba(219,68,55,0.6)",
           "rgba(219,68,55,0.6)",
           "rgba(219,68,55,0.6)",
           "rgba(38,166,91,0.6)",
           "rgba(38,166,91,0.6)",
           "rgba(38,166,91,0.6)",
           "rgba(38,166,91,0.6)",
           "rgba(38,166,91,0.6)",
           "rgba(38,166,91,0.6)",
           "rgba(38,166,91,0.6)",
           "rgba(38,166,91,0.6)",
           "rgba(38,166,91,0.6)",
           "rgba(38,166,91,0.6)",
           "rgba(38,166,91,0.6)",
           "rgba(38,166,91,0.6)",
           "rgba(38,166,91,0.6)",
           "rgba(38,166,91,0.6)",
           "rgba(38,166,91,0.6)",
           "rgba(38,166,91,0.6)",
           "rgba(219,68,55,0.6)",
           "rgba(219,68,55,0.6)",
           "rgba(219,68,55,0.6)",
           "rgba(219,68,55,0.6)",
           "rgba(219,68,55,0.6)",
           "rgba(219,68,55,0.6)",
           "rgba(219,68,55,0.6)",
           "rgba(219,68,55,0.6)",
           "rgba(219,68,55,0.6)",
           "rgba(219,68,55,0.6)",
           "rgba(219,68,55,0.6)",
           "rgba(219,68,55,0.6)",
           "rgba(219,68,55,0.6)",
           "rgba(219,68,55,0.6)",
           "rgba(219,68,55,0.6)",
           "rgba(219,68,55,0.6)",
           "rgba(219,68,55,0.6)",
           "rgba(219,68,55,0.6)",
           "rgba(219,68,55,0.6)",
           "rgba(38,166,91,0.6)",
           "rgba(38,166,91,0.6)",
           "rgba(38,166,91,0.6)",
           "rgba(38,166,91,0.6)",
           "rgba(38,166,91,0.6)",
           "rgba(38,166,91,0.6)",
           "rgba(38,166,91,0.6)",
           "rgba(38,166,91,0.6)",
           "rgba(219,68,55,0.6)",
           "rgba(219,68,55,0.6)",
           "rgba(219,68,55,0.6)",
           "rgba(219,68,55,0.6)",
           "rgba(219,68,55,0.6)",
           "rgba(219,68,55,0.6)",
           "rgba(219,68,55,0.6)",
           "rgba(219,68,55,0.6)",
           "rgba(219,68,55,0.6)",
           "rgba(219,68,55,0.6)",
           "rgba(219,68,55,0.6)",
           "rgba(219,68,55,0.6)",
           "rgba(219,68,55,0.6)",
           "rgba(38,166,91,0.6)",
           "rgba(38,166,91,0.6)",
           "rgba(219,68,55,0.6)",
           "rgba(219,68,55,0.6)",
           "rgba(219,68,55,0.6)",
           "rgba(219,68,55,0.6)",
           "rgba(219,68,55,0.6)",
           "rgba(219,68,55,0.6)",
           "rgba(219,68,55,0.6)",
           "rgba(219,68,55,0.6)",
           "rgba(219,68,55,0.6)",
           "rgba(219,68,55,0.6)",
           "rgba(219,68,55,0.6)",
           "rgba(219,68,55,0.6)",
           "rgba(219,68,55,0.6)",
           "rgba(219,68,55,0.6)",
           "rgba(219,68,55,0.6)",
           "rgba(38,166,91,0.6)",
           "rgba(38,166,91,0.6)",
           "rgba(38,166,91,0.6)",
           "rgba(38,166,91,0.6)",
           "rgba(38,166,91,0.6)",
           "rgba(38,166,91,0.6)",
           "rgba(38,166,91,0.6)",
           "rgba(38,166,91,0.6)",
           "rgba(38,166,91,0.6)",
           "rgba(38,166,91,0.6)",
           "rgba(38,166,91,0.6)",
           "rgba(38,166,91,0.6)",
           "rgba(38,166,91,0.6)",
           "rgba(219,68,55,0.6)",
           "rgba(219,68,55,0.6)",
           "rgba(219,68,55,0.6)",
           "rgba(219,68,55,0.6)",
           "rgba(219,68,55,0.6)",
           "rgba(38,166,91,0.6)",
           "rgba(38,166,91,0.6)",
           "rgba(38,166,91,0.6)",
           "rgba(38,166,91,0.6)",
           "rgba(38,166,91,0.6)",
           "rgba(38,166,91,0.6)",
           "rgba(219,68,55,0.6)",
           "rgba(219,68,55,0.6)",
           "rgba(219,68,55,0.6)",
           "rgba(38,166,91,0.6)",
           "rgba(38,166,91,0.6)",
           "rgba(38,166,91,0.6)",
           "rgba(38,166,91,0.6)",
           "rgba(38,166,91,0.6)",
           "rgba(38,166,91,0.6)",
           "rgba(38,166,91,0.6)",
           "rgba(38,166,91,0.6)",
           "rgba(38,166,91,0.6)",
           "rgba(38,166,91,0.6)",
           "rgba(38,166,91,0.6)",
           "rgba(38,166,91,0.6)",
           "rgba(38,166,91,0.6)",
           "rgba(38,166,91,0.6)",
           "rgba(38,166,91,0.6)",
           "rgba(38,166,91,0.6)",
           "rgba(38,166,91,0.6)",
           "rgba(38,166,91,0.6)",
           "rgba(38,166,91,0.6)",
           "rgba(38,166,91,0.6)",
           "rgba(38,166,91,0.6)",
           "rgba(219,68,55,0.6)",
           "rgba(219,68,55,0.6)",
           "rgba(219,68,55,0.6)",
           "rgba(219,68,55,0.6)",
           "rgba(219,68,55,0.6)",
           "rgba(219,68,55,0.6)",
           "rgba(219,68,55,0.6)",
           "rgba(219,68,55,0.6)",
           "rgba(219,68,55,0.6)",
           "rgba(219,68,55,0.6)",
           "rgba(219,68,55,0.6)",
           "rgba(219,68,55,0.6)",
           "rgba(219,68,55,0.6)",
           "rgba(219,68,55,0.6)",
           "rgba(219,68,55,0.6)",
           "rgba(219,68,55,0.6)",
           "rgba(219,68,55,0.6)",
           "rgba(219,68,55,0.6)",
           "rgba(219,68,55,0.6)",
           "rgba(219,68,55,0.6)",
           "rgba(219,68,55,0.6)",
           "rgba(219,68,55,0.6)",
           "rgba(38,166,91,0.6)",
           "rgba(38,166,91,0.6)",
           "rgba(38,166,91,0.6)",
           "rgba(219,68,55,0.6)",
           "rgba(219,68,55,0.6)",
           "rgba(219,68,55,0.6)",
           "rgba(219,68,55,0.6)",
           "rgba(219,68,55,0.6)",
           "rgba(219,68,55,0.6)",
           "rgba(219,68,55,0.6)",
           "rgba(219,68,55,0.6)",
           "rgba(219,68,55,0.6)",
           "rgba(219,68,55,0.6)",
           "rgba(219,68,55,0.6)",
           "rgba(219,68,55,0.6)",
           "rgba(219,68,55,0.6)",
           "rgba(219,68,55,0.6)",
           "rgba(219,68,55,0.6)",
           "rgba(219,68,55,0.6)",
           "rgba(219,68,55,0.6)",
           "rgba(219,68,55,0.6)",
           "rgba(219,68,55,0.6)",
           "rgba(219,68,55,0.6)",
           "rgba(219,68,55,0.6)",
           "rgba(38,166,91,0.6)",
           "rgba(38,166,91,0.6)",
           "rgba(38,166,91,0.6)",
           "rgba(38,166,91,0.6)",
           "rgba(38,166,91,0.6)",
           "rgba(219,68,55,0.6)",
           "rgba(219,68,55,0.6)",
           "rgba(219,68,55,0.6)",
           "rgba(219,68,55,0.6)",
           "rgba(219,68,55,0.6)",
           "rgba(219,68,55,0.6)",
           "rgba(219,68,55,0.6)",
           "rgba(219,68,55,0.6)",
           "rgba(219,68,55,0.6)",
           "rgba(219,68,55,0.6)",
           "rgba(219,68,55,0.6)",
           "rgba(219,68,55,0.6)"
          ]
         },
         "name": "MACD Hist",
         "type": "bar",
         "x": {
          "bdata": "AAABAAIAAwAEAAUABgAHAAgACQAKAAsADAANAA4ADwAQABEAEgATABQAFQAWABcAGAAZABoAGwAcAB0AHgAfACAAIQAiACMAJAAlACYAJwAoACkAKgArACwALQAuAC8AMAAxADIAMwA0ADUANgA3ADgAOQA6ADsAPAA9AD4APwBAAEEAQgBDAEQARQBGAEcASABJAEoASwBMAE0ATgBPAFAAUQBSAFMAVABVAFYAVwBYAFkAWgBbAFwAXQBeAF8AYABhAGIAYwBkAGUAZgBnAGgAaQBqAGsAbABtAG4AbwBwAHEAcgBzAHQAdQB2AHcAeAB5AHoAewB8AH0AfgB/AIAAgQCCAIMAhACFAIYAhwCIAIkAigCLAIwAjQCOAI8AkACRAJIAkwCUAJUAlgCXAJgAmQCaAJsAnACdAJ4AnwCgAKEAogCjAKQApQCmAKcAqACpAKoAqwCsAK0ArgCvALAAsQCyALMAtAC1ALYAtwC4ALkAugC7ALwAvQC+AL8AwADBAMIAwwDEAMUAxgDHAMgAyQDKAMsAzADNAM4AzwDQANEA0gDTANQA1QDWANcA2ADZANoA2wDcAN0A3gDfAOAA4QDiAOMA5ADlAOYA5wDoAOkA6gDrAOwA7QDuAO8A8ADxAPIA8wD0APUA9gD3APgA+QA=",
          "dtype": "i2"
         },
         "xaxis": "x2",
         "y": {
          "bdata": "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",
          "dtype": "f8"
         },
         "yaxis": "y2"
        }
       ],
       "layout": {
        "height": 700,
        "legend": {
         "orientation": "h"
        },
        "shapes": [
         {
          "line": {
           "color": "gray",
           "dash": "dot"
          },
          "type": "line",
          "x0": 0,
          "x1": 1,
          "xref": "x2 domain",
          "y0": 0,
          "y1": 0,
          "yref": "y2"
         }
        ],
        "template": {
         "data": {
          "bar": [
           {
            "error_x": {
             "color": "#2a3f5f"
            },
            "error_y": {
             "color": "#2a3f5f"
            },
            "marker": {
             "line": {
              "color": "#E5ECF6",
              "width": 0.5
             },
             "pattern": {
              "fillmode": "overlay",
              "size": 10,
              "solidity": 0.2
             }
            },
            "type": "bar"
           }
          ],
          "barpolar": [
           {
            "marker": {
             "line": {
              "color": "#E5ECF6",
              "width": 0.5
             },
             "pattern": {
              "fillmode": "overlay",
              "size": 10,
              "solidity": 0.2
             }
            },
            "type": "barpolar"
           }
          ],
          "carpet": [
           {
            "aaxis": {
             "endlinecolor": "#2a3f5f",
             "gridcolor": "white",
             "linecolor": "white",
             "minorgridcolor": "white",
             "startlinecolor": "#2a3f5f"
            },
            "baxis": {
             "endlinecolor": "#2a3f5f",
             "gridcolor": "white",
             "linecolor": "white",
             "minorgridcolor": "white",
             "startlinecolor": "#2a3f5f"
            },
            "type": "carpet"
           }
          ],
          "choropleth": [
           {
            "colorbar": {
             "outlinewidth": 0,
             "ticks": ""
            },
            "type": "choropleth"
           }
          ],
          "contour": [
           {
            "colorbar": {
             "outlinewidth": 0,
             "ticks": ""
            },
            "colorscale": [
             [
              0,
              "#0d0887"
             ],
             [
              0.1111111111111111,
              "#46039f"
             ],
             [
              0.2222222222222222,
              "#7201a8"
             ],
             [
              0.3333333333333333,
              "#9c179e"
             ],
             [
              0.4444444444444444,
              "#bd3786"
             ],
             [
              0.5555555555555556,
              "#d8576b"
             ],
             [
              0.6666666666666666,
              "#ed7953"
             ],
             [
              0.7777777777777778,
              "#fb9f3a"
             ],
             [
              0.8888888888888888,
              "#fdca26"
             ],
             [
              1,
              "#f0f921"
             ]
            ],
            "type": "contour"
           }
          ],
          "contourcarpet": [
           {
            "colorbar": {
             "outlinewidth": 0,
             "ticks": ""
            },
            "type": "contourcarpet"
           }
          ],
          "heatmap": [
           {
            "colorbar": {
             "outlinewidth": 0,
             "ticks": ""
            },
            "colorscale": [
             [
              0,
              "#0d0887"
             ],
             [
              0.1111111111111111,
              "#46039f"
             ],
             [
              0.2222222222222222,
              "#7201a8"
             ],
             [
              0.3333333333333333,
              "#9c179e"
             ],
             [
              0.4444444444444444,
              "#bd3786"
             ],
             [
              0.5555555555555556,
              "#d8576b"
             ],
             [
              0.6666666666666666,
              "#ed7953"
             ],
             [
              0.7777777777777778,
              "#fb9f3a"
             ],
             [
              0.8888888888888888,
              "#fdca26"
             ],
             [
              1,
              "#f0f921"
             ]
            ],
            "type": "heatmap"
           }
          ],
          "histogram": [
           {
            "marker": {
             "pattern": {
              "fillmode": "overlay",
              "size": 10,
              "solidity": 0.2
             }
            },
            "type": "histogram"
           }
          ],
          "histogram2d": [
           {
            "colorbar": {
             "outlinewidth": 0,
             "ticks": ""
            },
            "colorscale": [
             [
              0,
              "#0d0887"
             ],
             [
              0.1111111111111111,
              "#46039f"
             ],
             [
              0.2222222222222222,
              "#7201a8"
             ],
             [
              0.3333333333333333,
              "#9c179e"
             ],
             [
              0.4444444444444444,
              "#bd3786"
             ],
             [
              0.5555555555555556,
              "#d8576b"
             ],
             [
              0.6666666666666666,
              "#ed7953"
             ],
             [
              0.7777777777777778,
              "#fb9f3a"
             ],
             [
              0.8888888888888888,
              "#fdca26"
             ],
             [
              1,
              "#f0f921"
             ]
            ],
            "type": "histogram2d"
           }
          ],
          "histogram2dcontour": [
           {
            "colorbar": {
             "outlinewidth": 0,
             "ticks": ""
            },
            "colorscale": [
             [
              0,
              "#0d0887"
             ],
             [
              0.1111111111111111,
              "#46039f"
             ],
             [
              0.2222222222222222,
              "#7201a8"
             ],
             [
              0.3333333333333333,
              "#9c179e"
             ],
             [
              0.4444444444444444,
              "#bd3786"
             ],
             [
              0.5555555555555556,
              "#d8576b"
             ],
             [
              0.6666666666666666,
              "#ed7953"
             ],
             [
              0.7777777777777778,
              "#fb9f3a"
             ],
             [
              0.8888888888888888,
              "#fdca26"
             ],
             [
              1,
              "#f0f921"
             ]
            ],
            "type": "histogram2dcontour"
           }
          ],
          "mesh3d": [
           {
            "colorbar": {
             "outlinewidth": 0,
             "ticks": ""
            },
            "type": "mesh3d"
           }
          ],
          "parcoords": [
           {
            "line": {
             "colorbar": {
              "outlinewidth": 0,
              "ticks": ""
             }
            },
            "type": "parcoords"
           }
          ],
          "pie": [
           {
            "automargin": true,
            "type": "pie"
           }
          ],
          "scatter": [
           {
            "fillpattern": {
             "fillmode": "overlay",
             "size": 10,
             "solidity": 0.2
            },
            "type": "scatter"
           }
          ],
          "scatter3d": [
           {
            "line": {
             "colorbar": {
              "outlinewidth": 0,
              "ticks": ""
             }
            },
            "marker": {
             "colorbar": {
              "outlinewidth": 0,
              "ticks": ""
             }
            },
            "type": "scatter3d"
           }
          ],
          "scattercarpet": [
           {
            "marker": {
             "colorbar": {
              "outlinewidth": 0,
              "ticks": ""
             }
            },
            "type": "scattercarpet"
           }
          ],
          "scattergeo": [
           {
            "marker": {
             "colorbar": {
              "outlinewidth": 0,
              "ticks": ""
             }
            },
            "type": "scattergeo"
           }
          ],
          "scattergl": [
           {
            "marker": {
             "colorbar": {
              "outlinewidth": 0,
              "ticks": ""
             }
            },
            "type": "scattergl"
           }
          ],
          "scattermap": [
           {
            "marker": {
             "colorbar": {
              "outlinewidth": 0,
              "ticks": ""
             }
            },
            "type": "scattermap"
           }
          ],
          "scattermapbox": [
           {
            "marker": {
             "colorbar": {
              "outlinewidth": 0,
              "ticks": ""
             }
            },
            "type": "scattermapbox"
           }
          ],
          "scatterpolar": [
           {
            "marker": {
             "colorbar": {
              "outlinewidth": 0,
              "ticks": ""
             }
            },
            "type": "scatterpolar"
           }
          ],
          "scatterpolargl": [
           {
            "marker": {
             "colorbar": {
              "outlinewidth": 0,
              "ticks": ""
             }
            },
            "type": "scatterpolargl"
           }
          ],
          "scatterternary": [
           {
            "marker": {
             "colorbar": {
              "outlinewidth": 0,
              "ticks": ""
             }
            },
            "type": "scatterternary"
           }
          ],
          "surface": [
           {
            "colorbar": {
             "outlinewidth": 0,
             "ticks": ""
            },
            "colorscale": [
             [
              0,
              "#0d0887"
             ],
             [
              0.1111111111111111,
              "#46039f"
             ],
             [
              0.2222222222222222,
              "#7201a8"
             ],
             [
              0.3333333333333333,
              "#9c179e"
             ],
             [
              0.4444444444444444,
              "#bd3786"
             ],
             [
              0.5555555555555556,
              "#d8576b"
             ],
             [
              0.6666666666666666,
              "#ed7953"
             ],
             [
              0.7777777777777778,
              "#fb9f3a"
             ],
             [
              0.8888888888888888,
              "#fdca26"
             ],
             [
              1,
              "#f0f921"
             ]
            ],
            "type": "surface"
           }
          ],
          "table": [
           {
            "cells": {
             "fill": {
              "color": "#EBF0F8"
             },
             "line": {
              "color": "white"
             }
            },
            "header": {
             "fill": {
              "color": "#C8D4E3"
             },
             "line": {
              "color": "white"
             }
            },
            "type": "table"
           }
          ]
         },
         "layout": {
          "annotationdefaults": {
           "arrowcolor": "#2a3f5f",
           "arrowhead": 0,
           "arrowwidth": 1
          },
          "autotypenumbers": "strict",
          "coloraxis": {
           "colorbar": {
            "outlinewidth": 0,
            "ticks": ""
           }
          },
          "colorscale": {
           "diverging": [
            [
             0,
             "#8e0152"
            ],
            [
             0.1,
             "#c51b7d"
            ],
            [
             0.2,
             "#de77ae"
            ],
            [
             0.3,
             "#f1b6da"
            ],
            [
             0.4,
             "#fde0ef"
            ],
            [
             0.5,
             "#f7f7f7"
            ],
            [
             0.6,
             "#e6f5d0"
            ],
            [
             0.7,
             "#b8e186"
            ],
            [
             0.8,
             "#7fbc41"
            ],
            [
             0.9,
             "#4d9221"
            ],
            [
             1,
             "#276419"
            ]
           ],
           "sequential": [
            [
             0,
             "#0d0887"
            ],
            [
             0.1111111111111111,
             "#46039f"
            ],
            [
             0.2222222222222222,
             "#7201a8"
            ],
            [
             0.3333333333333333,
             "#9c179e"
            ],
            [
             0.4444444444444444,
             "#bd3786"
            ],
            [
             0.5555555555555556,
             "#d8576b"
            ],
            [
             0.6666666666666666,
             "#ed7953"
            ],
            [
             0.7777777777777778,
             "#fb9f3a"
            ],
            [
             0.8888888888888888,
             "#fdca26"
            ],
            [
             1,
             "#f0f921"
            ]
           ],
           "sequentialminus": [
            [
             0,
             "#0d0887"
            ],
            [
             0.1111111111111111,
             "#46039f"
            ],
            [
             0.2222222222222222,
             "#7201a8"
            ],
            [
             0.3333333333333333,
             "#9c179e"
            ],
            [
             0.4444444444444444,
             "#bd3786"
            ],
            [
             0.5555555555555556,
             "#d8576b"
            ],
            [
             0.6666666666666666,
             "#ed7953"
            ],
            [
             0.7777777777777778,
             "#fb9f3a"
            ],
            [
             0.8888888888888888,
             "#fdca26"
            ],
            [
             1,
             "#f0f921"
            ]
           ]
          },
          "colorway": [
           "#636efa",
           "#EF553B",
           "#00cc96",
           "#ab63fa",
           "#FFA15A",
           "#19d3f3",
           "#FF6692",
           "#B6E880",
           "#FF97FF",
           "#FECB52"
          ],
          "font": {
           "color": "#2a3f5f"
          },
          "geo": {
           "bgcolor": "white",
           "lakecolor": "white",
           "landcolor": "#E5ECF6",
           "showlakes": true,
           "showland": true,
           "subunitcolor": "white"
          },
          "hoverlabel": {
           "align": "left"
          },
          "hovermode": "closest",
          "mapbox": {
           "style": "light"
          },
          "paper_bgcolor": "white",
          "plot_bgcolor": "#E5ECF6",
          "polar": {
           "angularaxis": {
            "gridcolor": "white",
            "linecolor": "white",
            "ticks": ""
           },
           "bgcolor": "#E5ECF6",
           "radialaxis": {
            "gridcolor": "white",
            "linecolor": "white",
            "ticks": ""
           }
          },
          "scene": {
           "xaxis": {
            "backgroundcolor": "#E5ECF6",
            "gridcolor": "white",
            "gridwidth": 2,
            "linecolor": "white",
            "showbackground": true,
            "ticks": "",
            "zerolinecolor": "white"
           },
           "yaxis": {
            "backgroundcolor": "#E5ECF6",
            "gridcolor": "white",
            "gridwidth": 2,
            "linecolor": "white",
            "showbackground": true,
            "ticks": "",
            "zerolinecolor": "white"
           },
           "zaxis": {
            "backgroundcolor": "#E5ECF6",
            "gridcolor": "white",
            "gridwidth": 2,
            "linecolor": "white",
            "showbackground": true,
            "ticks": "",
            "zerolinecolor": "white"
           }
          },
          "shapedefaults": {
           "line": {
            "color": "#2a3f5f"
           }
          },
          "ternary": {
           "aaxis": {
            "gridcolor": "white",
            "linecolor": "white",
            "ticks": ""
           },
           "baxis": {
            "gridcolor": "white",
            "linecolor": "white",
            "ticks": ""
           },
           "bgcolor": "#E5ECF6",
           "caxis": {
            "gridcolor": "white",
            "linecolor": "white",
            "ticks": ""
           }
          },
          "title": {
           "x": 0.05
          },
          "xaxis": {
           "automargin": true,
           "gridcolor": "white",
           "linecolor": "white",
           "ticks": "",
           "title": {
            "standoff": 15
           },
           "zerolinecolor": "white",
           "zerolinewidth": 2
          },
          "yaxis": {
           "automargin": true,
           "gridcolor": "white",
           "linecolor": "white",
           "ticks": "",
           "title": {
            "standoff": 15
           },
           "zerolinecolor": "white",
           "zerolinewidth": 2
          }
         }
        },
        "title": {
         "text": "MSFT Price with SMA/EMA and MACD"
        },
        "xaxis": {
         "anchor": "y",
         "domain": [
          0,
          1
         ],
         "matches": "x2",
         "showticklabels": false
        },
        "xaxis2": {
         "anchor": "y2",
         "domain": [
          0,
          1
         ]
        },
        "yaxis": {
         "anchor": "x",
         "domain": [
          0.33760000000000007,
          1
         ]
        },
        "yaxis2": {
         "anchor": "x2",
         "domain": [
          0,
          0.25760000000000005
         ]
        }
       }
      }
     },
     "metadata": {},
     "output_type": "display_data"
    }
   ],
   "source": [
    "# Plot price with SMA/EMA overlays and MACD\n",
    "close_col = None\n",
    "for c in df.columns:\n",
    "    if str(c).lower() in ('close', 'adj close', 'adj_close', 'adjclose'):\n",
    "        close_col = c\n",
    "        break\n",
    "if close_col is None:\n",
    "    raise ValueError('No close-like column found in history CSV')\n",
    "\n",
    "# Compute MACD inputs (ema12, ema26) if missing\n",
    "price = pd.to_numeric(df[close_col], errors='coerce')\n",
    "ema12 = df['ema_12'] if 'ema_12' in df.columns else price.ewm(span=12, adjust=False, min_periods=1).mean()\n",
    "ema26 = df['ema_26'] if 'ema_26' in df.columns else price.ewm(span=26, adjust=False, min_periods=1).mean()\n",
    "macd_line = ema12 - ema26\n",
    "signal_line = macd_line.ewm(span=9, adjust=False, min_periods=1).mean()\n",
    "macd_hist = macd_line - signal_line\n",
    "\n",
    "fig = make_subplots(rows=2, cols=1, shared_xaxes=True, vertical_spacing=0.08, row_heights=[0.72, 0.28])\n",
    "\n",
    "# Price panel with overlays\n",
    "fig.add_trace(go.Scatter(x=df.index, y=df[close_col], name='Close', line=dict(color='#1f77b4')), row=1, col=1)\n",
    "for name, color in [('sma_10', '#ff7f0e'), ('sma_20', '#2ca02c'), ('sma_50', '#d62728'), ('ema_12', '#9467bd'), ('ema_26', '#8c564b')]:\n",
    "    if name in df.columns:\n",
    "        fig.add_trace(go.Scatter(x=df.index, y=df[name], name=name.upper(), line=dict(width=1)), row=1, col=1)\n",
    "\n",
    "# MACD panel\n",
    "fig.add_trace(go.Scatter(x=df.index, y=macd_line, name='MACD', line=dict(color='#17becf')), row=2, col=1)\n",
    "fig.add_trace(go.Scatter(x=df.index, y=signal_line, name='Signal', line=dict(color='#d62728')), row=2, col=1)\n",
    "# Histogram colored by sign\n",
    "hist_colors = ['rgba(38,166,91,0.6)' if v >= 0 else 'rgba(219,68,55,0.6)' for v in macd_hist.fillna(0)]\n",
    "fig.add_trace(go.Bar(x=df.index, y=macd_hist, name='MACD Hist', marker_color=hist_colors), row=2, col=1)\n",
    "fig.add_hline(y=0, line_dash='dot', line_color='gray', row=2, col=1)\n",
    "\n",
    "fig.update_layout(title=f'{SYMBOL} Price with SMA/EMA and MACD', height=700, legend_orientation='h')\n",
    "try:\n",
    "    fig.show()\n",
    "except Exception as e:\n",
    "    import plotly.io as pio\n",
    "    if isinstance(e, ValueError) and 'nbformat' in str(e).lower():\n",
    "        pio.renderers.default = 'browser'\n",
    "        print(\"Renderer fallback: nbformat not available; switched to 'browser'.\")\n",
    "        fig.show()\n",
    "    else:\n",
    "        raise"
   ]
  }
 ],
 "metadata": {
  "kernelspec": {
   "display_name": ".venv (3.13.7)",
   "language": "python",
   "name": "python3"
  },
  "language_info": {
   "codemirror_mode": {
    "name": "ipython",
    "version": 3
   },
   "file_extension": ".py",
   "mimetype": "text/x-python",
   "name": "python",
   "nbconvert_exporter": "python",
   "pygments_lexer": "ipython3",
   "version": "3.13.7"
  }
 },
 "nbformat": 4,
 "nbformat_minor": 5
}
